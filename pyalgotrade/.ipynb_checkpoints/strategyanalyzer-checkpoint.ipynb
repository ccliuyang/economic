{
 "cells": [
  {
   "cell_type": "markdown",
   "metadata": {},
   "source": [
    "## 添加分析的主要方法："
   ]
  },
  {
   "cell_type": "raw",
   "metadata": {},
   "source": [
    "def attachAnalyzerEx(self, strategyAnalyzer, name=None):\n",
    "     if strategyAnalyzer not in self.__analyzers:\n",
    "         if name is not None:\n",
    "            if name in self.__namedAnalyzers:\n",
    "                raise Exception(\"different analyzer  '%s'  attached\" % name)\n",
    "             self.__namedAnalyzers[name] = strategyAnalyzer\n",
    "         strategyAnalyzer.beforeAttach(self)\n",
    "         self.__analyzers.append(strategyAnalyzer)\n",
    "         strategyAnalyzer.attached(self)\n"
   ]
  },
  {
   "cell_type": "markdown",
   "metadata": {},
   "source": [
    "## 分析的基类"
   ]
  },
  {
   "cell_type": "raw",
   "metadata": {},
   "source": [
    "class StrategyAnalyzer(object):\n",
    "    \"\"\"Base class for strategy analyzers.\n",
    "\n",
    "    .. note::\n",
    "\n",
    "        This is a base class and should not be used directly.\n",
    "    \"\"\"\n",
    "\n",
    "    def beforeAttach(self, strat):\n",
    "        pass\n",
    "\n",
    "    def attached(self, strat):\n",
    "        pass\n",
    "\n",
    "    def beforeOnBars(self, strat, bars):\n",
    "        pass"
   ]
  },
  {
   "cell_type": "markdown",
   "metadata": {},
   "source": [
    "### 既然把策略都传到分析那里了，应该可以获取策略的所有信息了吧"
   ]
  },
  {
   "cell_type": "markdown",
   "metadata": {},
   "source": [
    "### 这个方法是要获得名字"
   ]
  },
  {
   "cell_type": "raw",
   "metadata": {},
   "source": [
    "    @classmethod\n",
    "    def getOrCreateShared(cls, strat):\n",
    "        name = cls.__name__\n",
    "        # Get or create the shared ReturnsAnalyzerBase.\n",
    "        ret = strat.getNamedAnalyzer(name)\n",
    "        if ret is None:\n",
    "            ret = ReturnsAnalyzerBase()\n",
    "            strat.attachAnalyzerEx(ret, name)\n",
    "        return ret\n",
    "如果策略分析的名字是空就新建一个空的ReturnsAnalyzerBase()实例传到ReturnsAnalyzerBase()里"
   ]
  },
  {
   "cell_type": "raw",
   "metadata": {},
   "source": [
    "    def beforeAttach(self, strat):\n",
    "        # Get or create a shared ReturnsAnalyzerBase\n",
    "        analyzer = ReturnsAnalyzerBase.getOrCreateShared(strat)\n",
    "        analyzer.getEvent().subscribe(self.__onReturns)\n",
    "        \n",
    "      analyzer是策略里面的名字，或者是一个空的分析。但是可以getEvent"
   ]
  },
  {
   "cell_type": "raw",
   "metadata": {},
   "source": [
    "    def attached(self, strat):\n",
    "        self.__portfolioReturns = TimeWeightedReturns(strat.getBroker().getEquity())\n",
    "        或去净值"
   ]
  },
  {
   "cell_type": "code",
   "execution_count": 3,
   "metadata": {
    "collapsed": true
   },
   "outputs": [],
   "source": [
    "from pyalgotrade.stratanalyzer import sharpe\n",
    "#sharpe.SharpeRatio?"
   ]
  },
  {
   "cell_type": "raw",
   "metadata": {},
   "source": [
    "Init signature: sharpe.SharpeRatio(self, useDailyReturns=True)\n",
    "Docstring:\n",
    "A :class:`pyalgotrade.stratanalyzer.StrategyAnalyzer` that calculates\n",
    "Sharpe ratio for the whole portfolio."
   ]
  },
  {
   "cell_type": "code",
   "execution_count": 5,
   "metadata": {
    "collapsed": true
   },
   "outputs": [],
   "source": [
    "from pyalgotrade.stratanalyzer import returns\n",
    "#returns.Returns?"
   ]
  },
  {
   "cell_type": "raw",
   "metadata": {},
   "source": [
    "Init signature: returns.Returns(self, maxLen=None)\n",
    "Docstring:\n",
    "A :class:`pyalgotrade.stratanalyzer.StrategyAnalyzer` that calculates time-weighted returns for the\n",
    "whole portfolio."
   ]
  },
  {
   "cell_type": "code",
   "execution_count": 8,
   "metadata": {
    "collapsed": true
   },
   "outputs": [],
   "source": [
    "from pyalgotrade.stratanalyzer import drawdown as dd\n",
    "#dd.DrawDown?"
   ]
  },
  {
   "cell_type": "raw",
   "metadata": {},
   "source": [
    "Init signature: dd.DrawDown(self)\n",
    "Docstring:\n",
    "A :class:`pyalgotrade.stratanalyzer.StrategyAnalyzer` that calculates\n",
    "max. drawdown and longest drawdown duration for the portfolio\n"
   ]
  },
  {
   "cell_type": "code",
   "execution_count": 7,
   "metadata": {
    "collapsed": true
   },
   "outputs": [],
   "source": [
    "from pyalgotrade.stratanalyzer import trades\n",
    "#trades.Trades?"
   ]
  },
  {
   "cell_type": "raw",
   "metadata": {},
   "source": [
    "Init signature: trades.Trades(self)\n",
    "Docstring:\n",
    "A :class:`pyalgotrade.stratanalyzer.StrategyAnalyzer` that records the profit/loss\n",
    "and returns of every completed trade."
   ]
  },
  {
   "cell_type": "raw",
   "metadata": {},
   "source": [
    "'attached',\n",
    " 'beforeAttach',\n",
    " 'beforeOnBars',\n",
    " 'getAll',\n",
    " 'getAllReturns',\n",
    " 'getCommissionsForAllTrades',\n",
    " 'getCommissionsForEvenTrades',\n",
    " 'getCommissionsForProfitableTrades',\n",
    " 'getCommissionsForUnprofitableTrades',\n",
    " 'getCount',\n",
    " 'getEvenCount',\n",
    " 'getLosses',\n",
    " 'getNegativeReturns',\n",
    " 'getPositiveReturns',\n",
    " 'getProfitableCount',\n",
    " 'getProfits',\n",
    " 'getUnprofitableCount']"
   ]
  },
  {
   "cell_type": "markdown",
   "metadata": {},
   "source": [
    "## plotter"
   ]
  },
  {
   "cell_type": "code",
   "execution_count": 12,
   "metadata": {
    "collapsed": false
   },
   "outputs": [
    {
     "data": {
      "text/plain": [
       "['BuyMarker',\n",
       " 'CustomMarker',\n",
       " 'HistogramMarker',\n",
       " 'InstrumentMarker',\n",
       " 'InstrumentSubplot',\n",
       " 'LineMarker',\n",
       " 'MACDMarker',\n",
       " 'SellMarker',\n",
       " 'Series',\n",
       " 'StrategyPlotter',\n",
       " 'Subplot',\n",
       " '__builtins__',\n",
       " '__doc__',\n",
       " '__file__',\n",
       " '__name__',\n",
       " '__package__',\n",
       " '_filter_datetimes',\n",
       " '_post_plot_fun',\n",
       " 'broker',\n",
       " 'collections',\n",
       " 'get_last_value',\n",
       " 'plt',\n",
       " 'ticker',\n",
       " 'warninghelpers']"
      ]
     },
     "execution_count": 12,
     "metadata": {},
     "output_type": "execute_result"
    }
   ],
   "source": [
    "from pyalgotrade import plotter\n",
    "dir(plotter)"
   ]
  },
  {
   "cell_type": "raw",
   "metadata": {},
   "source": [
    "\n",
    "plt = plotter.StrategyPlotter(myStrategy)\n",
    "# Include the SMA in the instrument's subplot to get it displayed along with the closing prices.\n",
    "plt.getInstrumentSubplot(\"orcl\").addDataSeries(\"SMA\", myStrategy.getSMA())\n",
    "# Plot the simple returns on each bar.\n",
    "plt.getOrCreateSubplot(\"returns\").addDataSeries(\"Simple returns\", returnsAnalyzer.getReturns())\n",
    "\n",
    "# Run the strategy.\n",
    "#myStrategy.run()\n",
    "#myStrategy.info(\"Final portfolio value: $%.2f\" % myStrategy.getResult())\n",
    "\n",
    "# Plot the strategy.\n",
    "plt.plot()"
   ]
  }
 ],
 "metadata": {
  "kernelspec": {
   "display_name": "Python [Root]",
   "language": "python",
   "name": "Python [Root]"
  },
  "language_info": {
   "codemirror_mode": {
    "name": "ipython",
    "version": 2
   },
   "file_extension": ".py",
   "mimetype": "text/x-python",
   "name": "python",
   "nbconvert_exporter": "python",
   "pygments_lexer": "ipython2",
   "version": "2.7.12"
  }
 },
 "nbformat": 4,
 "nbformat_minor": 0
}
