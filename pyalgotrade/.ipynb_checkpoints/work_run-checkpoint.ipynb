{
 "cells": [
  {
   "cell_type": "code",
   "execution_count": 4,
   "metadata": {
    "collapsed": true
   },
   "outputs": [],
   "source": [
    "from example import rsi2"
   ]
  },
  {
   "cell_type": "code",
   "execution_count": 8,
   "metadata": {},
   "outputs": [
    {
     "name": "stderr",
     "output_type": "stream",
     "text": [
      "2017-08-18 16:55:21,349 pyalgotrade.optimizer.xmlrpcserver [INFO] Loading bars\n",
      "2017-08-18 16:55:21,349 pyalgotrade.optimizer.local [INFO] Executing workers\n",
      "2017-08-18 16:55:21,792 pyalgotrade.optimizer.xmlrpcserver [INFO] Waiting for workers\n",
      "2017-08-18 16:55:29,345 pyalgotrade.optimizer.xmlrpcserver [INFO] Best result so far None with parameters ('dia', 150, 5, 7, 84, 5)\n",
      "2017-08-18 16:55:29,354 pyalgotrade.optimizer.xmlrpcserver [INFO] Best result so far None with parameters ('dia', 150, 6, 7, 80, 5)\n",
      "2017-08-18 16:55:29,358 pyalgotrade.optimizer.xmlrpcserver [INFO] Best result so far None with parameters ('dia', 150, 5, 9, 82, 5)\n",
      "2017-08-18 16:55:29,372 pyalgotrade.optimizer.xmlrpcserver [INFO] Best result so far None with parameters ('dia', 150, 7, 8, 85, 5)\n",
      "2017-08-18 16:55:29,375 pyalgotrade.optimizer.xmlrpcserver [INFO] Best result so far None with parameters ('dia', 150, 5, 6, 75, 5)\n",
      "2017-08-18 16:55:29,378 pyalgotrade.optimizer.xmlrpcserver [INFO] Best result so far None with parameters ('dia', 150, 6, 9, 78, 5)\n",
      "2017-08-18 16:55:29,381 pyalgotrade.optimizer.xmlrpcserver [INFO] Best result so far None with parameters ('dia', 150, 7, 7, 76, 5)\n",
      "2017-08-18 16:55:29,384 pyalgotrade.optimizer.xmlrpcserver [INFO] Best result so far None with parameters ('dia', 150, 8, 6, 83, 5)\n",
      "2017-08-18 16:55:34,331 pyalgotrade.optimizer.xmlrpcserver [INFO] Best result so far None with parameters ('dia', 150, 8, 8, 81, 5)\n",
      "2017-08-18 16:55:34,335 pyalgotrade.optimizer.xmlrpcserver [INFO] Best result so far None with parameters ('dia', 150, 9, 6, 79, 5)\n",
      "2017-08-18 16:55:34,355 pyalgotrade.optimizer.xmlrpcserver [INFO] Best result so far None with parameters ('dia', 150, 9, 8, 77, 5)\n",
      "2017-08-18 16:55:34,361 pyalgotrade.optimizer.xmlrpcserver [INFO] Best result so far None with parameters ('dia', 151, 5, 6, 75, 5)\n",
      "2017-08-18 16:55:34,375 pyalgotrade.optimizer.xmlrpcserver [INFO] Best result so far None with parameters ('dia', 151, 6, 9, 78, 5)\n",
      "2017-08-18 16:55:34,378 pyalgotrade.optimizer.xmlrpcserver [INFO] Best result so far None with parameters ('dia', 151, 6, 7, 80, 5)\n",
      "2017-08-18 16:55:34,384 pyalgotrade.optimizer.xmlrpcserver [INFO] Best result so far None with parameters ('dia', 151, 5, 7, 84, 5)\n",
      "2017-08-18 16:55:34,387 pyalgotrade.optimizer.xmlrpcserver [INFO] Best result so far None with parameters ('dia', 151, 5, 9, 82, 5)\n",
      "2017-08-18 16:55:39,276 pyalgotrade.optimizer.xmlrpcserver [INFO] Best result so far None with parameters ('dia', 151, 7, 8, 85, 5)\n",
      "2017-08-18 16:55:39,285 pyalgotrade.optimizer.xmlrpcserver [INFO] Best result so far None with parameters ('dia', 151, 7, 7, 76, 5)\n",
      "2017-08-18 16:55:39,328 pyalgotrade.optimizer.xmlrpcserver [INFO] Best result so far None with parameters ('dia', 151, 8, 8, 81, 5)\n",
      "2017-08-18 16:55:39,332 pyalgotrade.optimizer.xmlrpcserver [INFO] Best result so far None with parameters ('dia', 151, 8, 6, 83, 5)\n",
      "2017-08-18 16:55:39,345 pyalgotrade.optimizer.xmlrpcserver [INFO] Best result so far None with parameters ('dia', 151, 9, 8, 77, 5)\n",
      "2017-08-18 16:55:39,355 pyalgotrade.optimizer.xmlrpcserver [INFO] Best result so far None with parameters ('dia', 152, 5, 6, 75, 5)\n",
      "2017-08-18 16:55:39,357 pyalgotrade.optimizer.xmlrpcserver [INFO] Best result so far None with parameters ('dia', 151, 9, 6, 79, 5)\n",
      "2017-08-18 16:55:39,358 pyalgotrade.optimizer.xmlrpcserver [INFO] Best result so far None with parameters ('dia', 152, 5, 7, 84, 5)\n",
      "2017-08-18 16:55:44,177 pyalgotrade.optimizer.xmlrpcserver [INFO] Best result so far None with parameters ('dia', 152, 5, 9, 82, 5)\n",
      "2017-08-18 16:55:44,239 pyalgotrade.optimizer.xmlrpcserver [INFO] Best result so far None with parameters ('dia', 152, 6, 7, 80, 5)\n",
      "2017-08-18 16:55:44,282 pyalgotrade.optimizer.xmlrpcserver [INFO] Best result so far None with parameters ('dia', 152, 6, 9, 78, 5)\n",
      "2017-08-18 16:55:44,296 pyalgotrade.optimizer.xmlrpcserver [INFO] Best result so far None with parameters ('dia', 152, 7, 7, 76, 5)\n",
      "2017-08-18 16:55:44,306 pyalgotrade.optimizer.xmlrpcserver [INFO] Best result so far None with parameters ('dia', 152, 9, 6, 79, 5)\n",
      "2017-08-18 16:55:44,313 pyalgotrade.optimizer.xmlrpcserver [INFO] Best result so far None with parameters ('dia', 152, 7, 8, 85, 5)\n",
      "2017-08-18 16:55:44,322 pyalgotrade.optimizer.xmlrpcserver [INFO] Best result so far None with parameters ('dia', 152, 8, 6, 83, 5)\n",
      "2017-08-18 16:55:44,326 pyalgotrade.optimizer.xmlrpcserver [INFO] Best result so far None with parameters ('dia', 152, 8, 8, 81, 5)\n",
      "2017-08-18 16:55:48,884 pyalgotrade.optimizer.xmlrpcserver [INFO] Best result so far None with parameters ('dia', 152, 9, 8, 77, 5)\n",
      "2017-08-18 16:55:49,062 pyalgotrade.optimizer.xmlrpcserver [INFO] Best result so far None with parameters ('dia', 153, 5, 6, 75, 5)\n",
      "2017-08-18 16:55:49,190 pyalgotrade.optimizer.xmlrpcserver [INFO] Best result so far None with parameters ('dia', 153, 5, 7, 84, 5)\n",
      "2017-08-18 16:55:49,203 pyalgotrade.optimizer.xmlrpcserver [INFO] Best result so far None with parameters ('dia', 153, 5, 9, 82, 5)\n",
      "2017-08-18 16:55:49,207 pyalgotrade.optimizer.xmlrpcserver [INFO] Best result so far None with parameters ('dia', 153, 6, 7, 80, 5)\n",
      "2017-08-18 16:55:49,213 pyalgotrade.optimizer.xmlrpcserver [INFO] Best result so far None with parameters ('dia', 153, 6, 9, 78, 5)\n",
      "2017-08-18 16:55:49,220 pyalgotrade.optimizer.xmlrpcserver [INFO] Best result so far None with parameters ('dia', 153, 7, 7, 76, 5)\n",
      "2017-08-18 16:55:49,230 pyalgotrade.optimizer.xmlrpcserver [INFO] Best result so far None with parameters ('dia', 153, 7, 8, 85, 5)\n",
      "2017-08-18 16:55:52,816 pyalgotrade.optimizer.xmlrpcserver [INFO] Best result so far None with parameters ('dia', 153, 8, 6, 83, 5)\n",
      "2017-08-18 16:55:53,539 pyalgotrade.optimizer.xmlrpcserver [INFO] Best result so far None with parameters ('dia', 153, 8, 8, 81, 5)\n",
      "2017-08-18 16:55:53,927 pyalgotrade.optimizer.xmlrpcserver [INFO] Best result so far None with parameters ('dia', 153, 9, 6, 79, 5)\n",
      "2017-08-18 16:55:53,953 pyalgotrade.optimizer.xmlrpcserver [INFO] Best result so far None with parameters ('dia', 153, 9, 8, 77, 5)\n",
      "2017-08-18 16:55:53,966 pyalgotrade.optimizer.xmlrpcserver [INFO] Best result so far None with parameters ('dia', 154, 5, 6, 75, 5)\n",
      "2017-08-18 16:55:53,970 pyalgotrade.optimizer.xmlrpcserver [INFO] Best result so far None with parameters ('dia', 154, 5, 7, 84, 5)\n",
      "2017-08-18 16:55:53,973 pyalgotrade.optimizer.xmlrpcserver [INFO] Best result so far None with parameters ('dia', 154, 5, 9, 82, 5)\n",
      "2017-08-18 16:55:53,984 pyalgotrade.optimizer.xmlrpcserver [INFO] Best result so far None with parameters ('dia', 154, 6, 7, 80, 5)\n",
      "2017-08-18 16:55:55,364 pyalgotrade.optimizer.xmlrpcserver [INFO] Best result so far None with parameters ('dia', 154, 6, 9, 78, 5)\n",
      "2017-08-18 16:55:56,331 pyalgotrade.optimizer.xmlrpcserver [INFO] Best result so far None with parameters ('dia', 154, 7, 7, 76, 5)\n",
      "2017-08-18 16:55:57,825 pyalgotrade.optimizer.xmlrpcserver [INFO] Best result so far None with parameters ('dia', 154, 7, 8, 85, 5)\n",
      "2017-08-18 16:55:57,897 pyalgotrade.optimizer.xmlrpcserver [INFO] Best result so far None with parameters ('dia', 154, 8, 8, 81, 5)\n",
      "2017-08-18 16:55:57,910 pyalgotrade.optimizer.xmlrpcserver [INFO] Best result so far None with parameters ('dia', 154, 8, 6, 83, 5)\n",
      "2017-08-18 16:55:57,915 pyalgotrade.optimizer.xmlrpcserver [INFO] Best result so far None with parameters ('dia', 154, 9, 6, 79, 5)\n",
      "2017-08-18 16:55:57,917 pyalgotrade.optimizer.xmlrpcserver [INFO] Best result so far None with parameters ('dia', 154, 9, 8, 77, 5)\n",
      "2017-08-18 16:55:58,947 pyalgotrade.optimizer.local [INFO] All workers finished\n"
     ]
    }
   ],
   "source": [
    "import itertools\n",
    "from pyalgotrade.optimizer import local\n",
    "from pyalgotrade.barfeed import yahoofeed\n",
    "\n",
    "\n",
    "def parameters_generator():\n",
    "    instrument = [\"dia\"]\n",
    "    entrySMA = range(150, 155)\n",
    "    exitSMA = range(5, 10)\n",
    "    rsiPeriod = range(6, 10)\n",
    "    overBoughtThreshold = range(75, 86)\n",
    "    overSoldThreshold = range(5, 15)\n",
    "    return itertools.product(instrument, entrySMA, exitSMA, rsiPeriod, overBoughtThreshold, overSoldThreshold)\n",
    "\n",
    "\n",
    "# The if __name__ == '__main__' part is necessary if running on Windows.\n",
    "if __name__ == '__main__':\n",
    "    # Load the feed from the CSV files.\n",
    "    feed = yahoofeed.Feed()\n",
    "    feed.addBarsFromCSV(\"veu\", \"example\\\\VEU-2009-yahoofinance.csv\")\n",
    "    feed.addBarsFromCSV(\"veu\", \"example\\\\VEU-2008-yahoofinance.csv\")\n",
    "    feed.addBarsFromCSV(\"veu\", \"example\\\\VEU-2007-yahoofinance.csv\")\n",
    "\n",
    "    local.run(rsi2.RSI2, feed, parameters_generator())\n"
   ]
  }
 ],
 "metadata": {
  "kernelspec": {
   "display_name": "Python 3",
   "language": "python",
   "name": "python3"
  },
  "language_info": {
   "codemirror_mode": {
    "name": "ipython",
    "version": 3
   },
   "file_extension": ".py",
   "mimetype": "text/x-python",
   "name": "python",
   "nbconvert_exporter": "python",
   "pygments_lexer": "ipython3",
   "version": "3.6.1"
  }
 },
 "nbformat": 4,
 "nbformat_minor": 1
}
