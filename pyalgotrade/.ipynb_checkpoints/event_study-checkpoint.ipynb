{
 "cells": [
  {
   "cell_type": "code",
   "execution_count": 12,
   "metadata": {
    "collapsed": true
   },
   "outputs": [],
   "source": [
    "from pyalgotrade import eventprofiler\n",
    "from pyalgotrade.technical import stats\n",
    "from pyalgotrade.technical import roc\n",
    "from pyalgotrade.technical import ma\n",
    "from pyalgotrade.feed import csvfeed\n"
   ]
  },
  {
   "cell_type": "raw",
   "metadata": {},
   "source": [
    "roc\n",
    "Init signature: roc.RateOfChange(self, dataSeries, valuesAgo, maxLen=None)\n",
    "Docstring:\n",
    "Rate of change filter as described in http://stockcharts.com/school/doku.php?id=chart_school:technical_indicators:rate_of_change_roc_and_momentum."
   ]
  },
  {
   "cell_type": "code",
   "execution_count": null,
   "metadata": {
    "collapsed": true
   },
   "outputs": [],
   "source": []
  },
  {
   "cell_type": "code",
   "execution_count": null,
   "metadata": {
    "collapsed": true
   },
   "outputs": [],
   "source": []
  },
  {
   "cell_type": "code",
   "execution_count": 3,
   "metadata": {
    "collapsed": true
   },
   "outputs": [],
   "source": [
    "class BuyOnGap(eventprofiler.Predicate):\n",
    "    def __init__(self, feed):\n",
    "        stdDevPeriod = 90\n",
    "        smaPeriod = 20\n",
    "        self.returns = {}\n",
    "        self.stdDev = {}\n",
    "        self.ma = {}\n",
    "        for instrument in feed.getRegisteredInstruments():\n",
    "            priceDS = feed[instrument].getAdjCloseDataSeries()\n",
    "            # Returns over the adjusted close values.\n",
    "            self.returns[instrument] = roc.RateOfChange(priceDS, 1)\n",
    "            # StdDev over those returns.\n",
    "            self.stdDev[instrument] = stats.StdDev(self.returns[instrument], stdDevPeriod)\n",
    "            # MA over the adjusted close values.\n",
    "            self.ma[instrument] = ma.SMA(priceDS, smaPeriod)\n",
    "\n",
    "    def gappedDown(self, instrument, bards):\n",
    "        ret = False\n",
    "        if self.stdDev[instrument][-1] is not None:\n",
    "            prevBar = bards[-2]\n",
    "            currBar = bards[-1]\n",
    "            low2OpenRet = (currBar.getOpen(True) - prevBar.getLow(True)) / float(prevBar.getLow(True))\n",
    "            if low2OpenRet < (self.returns[instrument][-1] - self.stdDev[instrument][-1]):\n",
    "                ret = True\n",
    "        return ret\n",
    "\n",
    "    def aboveSMA(self, instrument, bards):\n",
    "        ret = False\n",
    "        if self.ma[instrument][-1] is not None and bards[-1].getOpen(True) > self.ma[instrument][-1]:\n",
    "            ret = True\n",
    "        return ret\n",
    "\n",
    "    def eventOccurred(self, instrument, bards):\n",
    "        ret = False\n",
    "        if self.gappedDown(instrument, bards) and self.aboveSMA(instrument, bards):\n",
    "            ret = True\n",
    "        return ret"
   ]
  },
  {
   "cell_type": "code",
   "execution_count": 6,
   "metadata": {
    "collapsed": false
   },
   "outputs": [],
   "source": [
    "roc.RateOfChange?"
   ]
  },
  {
   "cell_type": "code",
   "execution_count": 7,
   "metadata": {
    "collapsed": false
   },
   "outputs": [
    {
     "name": "stderr",
     "output_type": "stream",
     "text": [
      "2017-08-17 16:12:22,105 yahoofinance [INFO] Downloading AA 2008 to .\\AA-2008-yahoofinance.csv\n"
     ]
    },
    {
     "ename": "ConnectionError",
     "evalue": "HTTPConnectionPool(host='ichart.finance.yahoo.com', port=80): Max retries exceeded with url: /table.csv?s=AA&a=0&b=1&c=2008&d=11&e=31&f=2008&g=d&ignore=.csv (Caused by NewConnectionError('<requests.packages.urllib3.connection.HTTPConnection object at 0x0000000007B77D30>: Failed to establish a new connection: [Errno 11004] getaddrinfo failed',))",
     "output_type": "error",
     "traceback": [
      "\u001b[1;31m---------------------------------------------------------------------------\u001b[0m",
      "\u001b[1;31mConnectionError\u001b[0m                           Traceback (most recent call last)",
      "\u001b[1;32m<ipython-input-7-9f189e450a6f>\u001b[0m in \u001b[0;36m<module>\u001b[1;34m()\u001b[0m\n\u001b[0;32m      1\u001b[0m \u001b[0minstruments\u001b[0m \u001b[1;33m=\u001b[0m \u001b[1;33m[\u001b[0m\u001b[1;34m\"AA\"\u001b[0m\u001b[1;33m,\u001b[0m \u001b[1;34m\"AES\"\u001b[0m\u001b[1;33m,\u001b[0m \u001b[1;34m\"AIG\"\u001b[0m\u001b[1;33m]\u001b[0m\u001b[1;33m\u001b[0m\u001b[0m\n\u001b[1;32m----> 2\u001b[1;33m \u001b[0mfeed\u001b[0m \u001b[1;33m=\u001b[0m \u001b[0myahoofinance\u001b[0m\u001b[1;33m.\u001b[0m\u001b[0mbuild_feed\u001b[0m\u001b[1;33m(\u001b[0m\u001b[0minstruments\u001b[0m\u001b[1;33m,\u001b[0m \u001b[1;36m2008\u001b[0m\u001b[1;33m,\u001b[0m \u001b[1;36m2009\u001b[0m\u001b[1;33m,\u001b[0m \u001b[1;34m\".\"\u001b[0m\u001b[1;33m)\u001b[0m\u001b[1;33m\u001b[0m\u001b[0m\n\u001b[0m\u001b[0;32m      3\u001b[0m \u001b[0mpredicate\u001b[0m \u001b[1;33m=\u001b[0m \u001b[0mBuyOnGap\u001b[0m\u001b[1;33m(\u001b[0m\u001b[0mfeed\u001b[0m\u001b[1;33m)\u001b[0m\u001b[1;33m\u001b[0m\u001b[0m\n\u001b[0;32m      4\u001b[0m \u001b[0meventProfiler\u001b[0m \u001b[1;33m=\u001b[0m \u001b[0meventprofiler\u001b[0m\u001b[1;33m.\u001b[0m\u001b[0mProfiler\u001b[0m\u001b[1;33m(\u001b[0m\u001b[0mpredicate\u001b[0m\u001b[1;33m,\u001b[0m \u001b[1;36m5\u001b[0m\u001b[1;33m,\u001b[0m \u001b[1;36m5\u001b[0m\u001b[1;33m)\u001b[0m\u001b[1;33m\u001b[0m\u001b[0m\n\u001b[0;32m      5\u001b[0m \u001b[0meventProfiler\u001b[0m\u001b[1;33m.\u001b[0m\u001b[0mrun\u001b[0m\u001b[1;33m(\u001b[0m\u001b[0mfeed\u001b[0m\u001b[1;33m,\u001b[0m \u001b[0mTrue\u001b[0m\u001b[1;33m)\u001b[0m\u001b[1;33m\u001b[0m\u001b[0m\n",
      "\u001b[1;32mD:\\Program Files\\anaconda\\lib\\site-packages\\pyalgotrade\\tools\\yahoofinance.pyc\u001b[0m in \u001b[0;36mbuild_feed\u001b[1;34m(instruments, fromYear, toYear, storage, frequency, timezone, skipErrors)\u001b[0m\n\u001b[0;32m    122\u001b[0m                         \u001b[1;32mcontinue\u001b[0m\u001b[1;33m\u001b[0m\u001b[0m\n\u001b[0;32m    123\u001b[0m                     \u001b[1;32melse\u001b[0m\u001b[1;33m:\u001b[0m\u001b[1;33m\u001b[0m\u001b[0m\n\u001b[1;32m--> 124\u001b[1;33m                         \u001b[1;32mraise\u001b[0m \u001b[0me\u001b[0m\u001b[1;33m\u001b[0m\u001b[0m\n\u001b[0m\u001b[0;32m    125\u001b[0m             \u001b[0mret\u001b[0m\u001b[1;33m.\u001b[0m\u001b[0maddBarsFromCSV\u001b[0m\u001b[1;33m(\u001b[0m\u001b[0minstrument\u001b[0m\u001b[1;33m,\u001b[0m \u001b[0mfileName\u001b[0m\u001b[1;33m)\u001b[0m\u001b[1;33m\u001b[0m\u001b[0m\n\u001b[0;32m    126\u001b[0m     \u001b[1;32mreturn\u001b[0m \u001b[0mret\u001b[0m\u001b[1;33m\u001b[0m\u001b[0m\n",
      "\u001b[1;31mConnectionError\u001b[0m: HTTPConnectionPool(host='ichart.finance.yahoo.com', port=80): Max retries exceeded with url: /table.csv?s=AA&a=0&b=1&c=2008&d=11&e=31&f=2008&g=d&ignore=.csv (Caused by NewConnectionError('<requests.packages.urllib3.connection.HTTPConnection object at 0x0000000007B77D30>: Failed to establish a new connection: [Errno 11004] getaddrinfo failed',))"
     ]
    }
   ],
   "source": []
  },
  {
   "cell_type": "code",
   "execution_count": 16,
   "metadata": {
    "collapsed": false
   },
   "outputs": [],
   "source": [
    "import os\n",
    "os.chdir(r'C:\\Users\\linner\\Desktop\\learn\\pyalgo\\example\\data')\n",
    "feed=csvfeed.Feed('Date Time','%Y-%m-%d')\n",
    "feed.addValuesFromCSV('AIG-2008-yahoofinance.csv')\n",
    "feed.addValuesFromCSV('aapl-2011-yahoofinance.csv')"
   ]
  },
  {
   "cell_type": "code",
   "execution_count": 18,
   "metadata": {
    "collapsed": false
   },
   "outputs": [
    {
     "data": {
      "text/plain": [
       "['_BaseFeed__ds',\n",
       " '_BaseFeed__event',\n",
       " '_BaseFeed__maxLen',\n",
       " '_BaseFeed__rowFilter',\n",
       " '_BaseFeed__rowParser',\n",
       " '_Feed__rowParser',\n",
       " '_MemFeed__nextIdx',\n",
       " '_MemFeed__values',\n",
       " '_Subject__dispatchPrio',\n",
       " '__abstractmethods__',\n",
       " '__class__',\n",
       " '__contains__',\n",
       " '__delattr__',\n",
       " '__dict__',\n",
       " '__doc__',\n",
       " '__format__',\n",
       " '__getattribute__',\n",
       " '__getitem__',\n",
       " '__hash__',\n",
       " '__init__',\n",
       " '__iter__',\n",
       " '__metaclass__',\n",
       " '__module__',\n",
       " '__new__',\n",
       " '__reduce__',\n",
       " '__reduce_ex__',\n",
       " '__repr__',\n",
       " '__setattr__',\n",
       " '__sizeof__',\n",
       " '__str__',\n",
       " '__subclasshook__',\n",
       " '__weakref__',\n",
       " '_abc_cache',\n",
       " '_abc_negative_cache',\n",
       " '_abc_negative_cache_version',\n",
       " '_abc_registry',\n",
       " 'addValues',\n",
       " 'addValuesFromCSV',\n",
       " 'createDataSeries',\n",
       " 'dispatch',\n",
       " 'eof',\n",
       " 'getDispatchPriority',\n",
       " 'getKeys',\n",
       " 'getNewValuesEvent',\n",
       " 'getNextValues',\n",
       " 'getNextValuesAndUpdateDS',\n",
       " 'join',\n",
       " 'onDispatcherRegistered',\n",
       " 'peekDateTime',\n",
       " 'registerDataSeries',\n",
       " 'reset',\n",
       " 'setDateRange',\n",
       " 'setDispatchPriority',\n",
       " 'setRowFilter',\n",
       " 'setTimeDelta',\n",
       " 'start',\n",
       " 'stop']"
      ]
     },
     "execution_count": 18,
     "metadata": {},
     "output_type": "execute_result"
    }
   ],
   "source": [
    "dir(feed)"
   ]
  },
  {
   "cell_type": "code",
   "execution_count": 17,
   "metadata": {
    "collapsed": false
   },
   "outputs": [
    {
     "ename": "AttributeError",
     "evalue": "'Feed' object has no attribute 'getRegisteredInstruments'",
     "output_type": "error",
     "traceback": [
      "\u001b[1;31m---------------------------------------------------------------------------\u001b[0m",
      "\u001b[1;31mAttributeError\u001b[0m                            Traceback (most recent call last)",
      "\u001b[1;32m<ipython-input-17-c9dd81f8b445>\u001b[0m in \u001b[0;36m<module>\u001b[1;34m()\u001b[0m\n\u001b[1;32m----> 1\u001b[1;33m \u001b[0mpredicate\u001b[0m \u001b[1;33m=\u001b[0m \u001b[0mBuyOnGap\u001b[0m\u001b[1;33m(\u001b[0m\u001b[0mfeed\u001b[0m\u001b[1;33m)\u001b[0m\u001b[1;33m\u001b[0m\u001b[0m\n\u001b[0m\u001b[0;32m      2\u001b[0m \u001b[0meventProfiler\u001b[0m \u001b[1;33m=\u001b[0m \u001b[0meventprofiler\u001b[0m\u001b[1;33m.\u001b[0m\u001b[0mProfiler\u001b[0m\u001b[1;33m(\u001b[0m\u001b[0mpredicate\u001b[0m\u001b[1;33m,\u001b[0m \u001b[1;36m5\u001b[0m\u001b[1;33m,\u001b[0m \u001b[1;36m5\u001b[0m\u001b[1;33m)\u001b[0m\u001b[1;33m\u001b[0m\u001b[0m\n\u001b[0;32m      3\u001b[0m \u001b[0meventProfiler\u001b[0m\u001b[1;33m.\u001b[0m\u001b[0mrun\u001b[0m\u001b[1;33m(\u001b[0m\u001b[0mfeed\u001b[0m\u001b[1;33m,\u001b[0m \u001b[0mTrue\u001b[0m\u001b[1;33m)\u001b[0m\u001b[1;33m\u001b[0m\u001b[0m\n\u001b[0;32m      4\u001b[0m \u001b[1;33m\u001b[0m\u001b[0m\n\u001b[0;32m      5\u001b[0m \u001b[0mresults\u001b[0m \u001b[1;33m=\u001b[0m \u001b[0meventProfiler\u001b[0m\u001b[1;33m.\u001b[0m\u001b[0mgetResults\u001b[0m\u001b[1;33m(\u001b[0m\u001b[1;33m)\u001b[0m\u001b[1;33m\u001b[0m\u001b[0m\n",
      "\u001b[1;32m<ipython-input-3-6aac099cf483>\u001b[0m in \u001b[0;36m__init__\u001b[1;34m(self, feed)\u001b[0m\n\u001b[0;32m      6\u001b[0m         \u001b[0mself\u001b[0m\u001b[1;33m.\u001b[0m\u001b[0mstdDev\u001b[0m \u001b[1;33m=\u001b[0m \u001b[1;33m{\u001b[0m\u001b[1;33m}\u001b[0m\u001b[1;33m\u001b[0m\u001b[0m\n\u001b[0;32m      7\u001b[0m         \u001b[0mself\u001b[0m\u001b[1;33m.\u001b[0m\u001b[0mma\u001b[0m \u001b[1;33m=\u001b[0m \u001b[1;33m{\u001b[0m\u001b[1;33m}\u001b[0m\u001b[1;33m\u001b[0m\u001b[0m\n\u001b[1;32m----> 8\u001b[1;33m         \u001b[1;32mfor\u001b[0m \u001b[0minstrument\u001b[0m \u001b[1;32min\u001b[0m \u001b[0mfeed\u001b[0m\u001b[1;33m.\u001b[0m\u001b[0mgetRegisteredInstruments\u001b[0m\u001b[1;33m(\u001b[0m\u001b[1;33m)\u001b[0m\u001b[1;33m:\u001b[0m\u001b[1;33m\u001b[0m\u001b[0m\n\u001b[0m\u001b[0;32m      9\u001b[0m             \u001b[0mpriceDS\u001b[0m \u001b[1;33m=\u001b[0m \u001b[0mfeed\u001b[0m\u001b[1;33m[\u001b[0m\u001b[0minstrument\u001b[0m\u001b[1;33m]\u001b[0m\u001b[1;33m.\u001b[0m\u001b[0mgetAdjCloseDataSeries\u001b[0m\u001b[1;33m(\u001b[0m\u001b[1;33m)\u001b[0m\u001b[1;33m\u001b[0m\u001b[0m\n\u001b[0;32m     10\u001b[0m             \u001b[1;31m# Returns over the adjusted close values.\u001b[0m\u001b[1;33m\u001b[0m\u001b[1;33m\u001b[0m\u001b[0m\n",
      "\u001b[1;31mAttributeError\u001b[0m: 'Feed' object has no attribute 'getRegisteredInstruments'"
     ]
    }
   ],
   "source": [
    "predicate = BuyOnGap(feed)\n",
    "eventProfiler = eventprofiler.Profiler(predicate, 5, 5)\n",
    "eventProfiler.run(feed, True)\n",
    "\n",
    "results = eventProfiler.getResults()\n",
    "print \"%d events found\" % (results.getEventCount())"
   ]
  },
  {
   "cell_type": "code",
   "execution_count": null,
   "metadata": {
    "collapsed": true
   },
   "outputs": [],
   "source": []
  },
  {
   "cell_type": "code",
   "execution_count": null,
   "metadata": {
    "collapsed": true
   },
   "outputs": [],
   "source": []
  },
  {
   "cell_type": "code",
   "execution_count": null,
   "metadata": {
    "collapsed": true
   },
   "outputs": [],
   "source": []
  },
  {
   "cell_type": "code",
   "execution_count": null,
   "metadata": {
    "collapsed": true
   },
   "outputs": [],
   "source": []
  },
  {
   "cell_type": "code",
   "execution_count": null,
   "metadata": {
    "collapsed": true
   },
   "outputs": [],
   "source": []
  },
  {
   "cell_type": "code",
   "execution_count": null,
   "metadata": {
    "collapsed": true
   },
   "outputs": [],
   "source": []
  },
  {
   "cell_type": "code",
   "execution_count": null,
   "metadata": {
    "collapsed": true
   },
   "outputs": [],
   "source": []
  },
  {
   "cell_type": "code",
   "execution_count": null,
   "metadata": {
    "collapsed": true
   },
   "outputs": [],
   "source": []
  }
 ],
 "metadata": {
  "kernelspec": {
   "display_name": "Python [Root]",
   "language": "python",
   "name": "Python [Root]"
  },
  "language_info": {
   "codemirror_mode": {
    "name": "ipython",
    "version": 2
   },
   "file_extension": ".py",
   "mimetype": "text/x-python",
   "name": "python",
   "nbconvert_exporter": "python",
   "pygments_lexer": "ipython2",
   "version": "2.7.12"
  }
 },
 "nbformat": 4,
 "nbformat_minor": 0
}
