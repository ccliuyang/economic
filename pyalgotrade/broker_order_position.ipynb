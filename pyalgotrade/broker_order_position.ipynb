{
 "cells": [
  {
   "cell_type": "markdown",
   "metadata": {},
   "source": [
    "## broker_order_position"
   ]
  },
  {
   "cell_type": "code",
   "execution_count": 102,
   "metadata": {
    "collapsed": false
   },
   "outputs": [],
   "source": [
    "from pyalgotrade.broker.backtesting import Broker\n",
    "#包含全局数据，和下指令"
   ]
  },
  {
   "cell_type": "markdown",
   "metadata": {},
   "source": [
    "## Broker的set方法"
   ]
  },
  {
   "cell_type": "raw",
   "metadata": {},
   "source": [
    " 'setAllowNegativeCash',\n",
    " 'setCash',\n",
    " 'setCommission',\n",
    " 'setDispatchPriority',\n",
    " 'setFillStrategy',\n",
    " 'setUseAdjustedValues',"
   ]
  },
  {
   "cell_type": "markdown",
   "metadata": {},
   "source": [
    "## Broker的get方法"
   ]
  },
  {
   "cell_type": "raw",
   "metadata": {},
   "source": [
    " 'getActiveInstruments',\n",
    " 'getActiveOrders',\n",
    " 'getCash',现金\n",
    " 'getCommission',\n",
    " 'getDispatchPriority',\n",
    " 'getEquity',\n",
    " 'getFillStrategy',\n",
    " 'getInstrumentTraits',\n",
    " 'getLogger',\n",
    " 'getOrderUpdatedEvent',\n",
    " 'getPositions',？？\n",
    " 'getShares',手数\n",
    " 'getUseAdjustedValues',"
   ]
  },
  {
   "cell_type": "markdown",
   "metadata": {},
   "source": [
    "### broker.Broker.getPositions\n",
    "返回字典，股票和数目"
   ]
  },
  {
   "cell_type": "code",
   "execution_count": 114,
   "metadata": {
    "collapsed": false
   },
   "outputs": [],
   "source": [
    "Broker.getActiveOrders??"
   ]
  },
  {
   "cell_type": "code",
   "execution_count": 112,
   "metadata": {
    "collapsed": false
   },
   "outputs": [],
   "source": [
    "Broker.getActiveInstruments??"
   ]
  },
  {
   "cell_type": "markdown",
   "metadata": {},
   "source": [
    "## Broker其他方法"
   ]
  },
  {
   "cell_type": "raw",
   "metadata": {},
   "source": [
    " 'cancelOrder',\n",
    " 'commitOrderExecution',\n",
    " 'createLimitOrder',创建限价订单\n",
    " 'createMarketOrder',创建市场订单\n",
    " 'createStopLimitOrder',\n",
    " 'createStopOrder',\n",
    " 'dispatch',\n",
    " 'eof'"
   ]
  },
  {
   "cell_type": "markdown",
   "metadata": {
    "collapsed": true
   },
   "source": [
    "## Broker"
   ]
  },
  {
   "cell_type": "raw",
   "metadata": {
    "collapsed": true
   },
   "source": [
    "分为：[],限价单，限损单，限价止损单\n",
    "MarketOrder,LimitOrder,StopOrder，StopLimitOrder，"
   ]
  },
  {
   "cell_type": "code",
   "execution_count": 122,
   "metadata": {
    "collapsed": false
   },
   "outputs": [],
   "source": [
    "from pyalgotrade.strategy import BacktestingStrategy as bt\n"
   ]
  },
  {
   "cell_type": "code",
   "execution_count": 147,
   "metadata": {
    "collapsed": false
   },
   "outputs": [
    {
     "data": {
      "text/plain": [
       "<unbound method BacktestingStrategy.marketOrder>"
      ]
     },
     "execution_count": 147,
     "metadata": {},
     "output_type": "execute_result"
    }
   ],
   "source": [
    "bt.marketOrder\n",
    "#下单的价格是怎么确定的\n",
    "#不知道"
   ]
  },
  {
   "cell_type": "code",
   "execution_count": 148,
   "metadata": {
    "collapsed": false
   },
   "outputs": [
    {
     "data": {
      "text/plain": [
       "<unbound method BacktestingStrategy.limitOrder>"
      ]
     },
     "execution_count": 148,
     "metadata": {},
     "output_type": "execute_result"
    }
   ],
   "source": [
    "bt.limitOrder#下单的价格是怎么确定的"
   ]
  },
  {
   "cell_type": "raw",
   "metadata": {},
   "source": [
    "Signature: bt.limitOrder(self, instrument, limitPrice, quantity, goodTillCanceled=False, allOrNone=False)\n",
    "Docstring:\n",
    "Submits a limit order.\n",
    "\n",
    ":param instrument: Instrument identifier.\n",
    ":type instrument: string.\n",
    ":param limitPrice: Limit price.\n",
    ":type limitPrice: float.\n",
    ":param quantity: The amount of shares. Positive means buy, negative means sell.\n",
    ":type quantity: int/float.\n",
    ":param goodTillCanceled: True if the order is good till canceled. If False then the order gets automatically canceled when the session closes.\n",
    ":type goodTillCanceled: boolean.\n",
    ":param allOrNone: True if the order should be completely filled or not at all.\n",
    ":type allOrNone: boolean.\n",
    ":rtype: The :class:`pyalgotrade.broker.LimitOrder` submitted."
   ]
  },
  {
   "cell_type": "code",
   "execution_count": 161,
   "metadata": {
    "collapsed": false
   },
   "outputs": [
    {
     "data": {
      "text/plain": [
       "<unbound method BacktestingStrategy.limitOrder>"
      ]
     },
     "execution_count": 161,
     "metadata": {},
     "output_type": "execute_result"
    }
   ],
   "source": [
    "bt.limitOrder"
   ]
  },
  {
   "cell_type": "code",
   "execution_count": null,
   "metadata": {
    "collapsed": true
   },
   "outputs": [],
   "source": []
  },
  {
   "cell_type": "markdown",
   "metadata": {},
   "source": [
    "## 撤单"
   ]
  },
  {
   "cell_type": "code",
   "execution_count": 149,
   "metadata": {
    "collapsed": false
   },
   "outputs": [
    {
     "data": {
      "text/plain": [
       "<unbound method Broker.commitOrderExecution>"
      ]
     },
     "execution_count": 149,
     "metadata": {},
     "output_type": "execute_result"
    }
   ],
   "source": [
    "Broker.commitOrderExecution"
   ]
  },
  {
   "cell_type": "code",
   "execution_count": 150,
   "metadata": {
    "collapsed": false
   },
   "outputs": [
    {
     "data": {
      "text/plain": [
       "<unbound method Broker.getActiveOrders>"
      ]
     },
     "execution_count": 150,
     "metadata": {},
     "output_type": "execute_result"
    }
   ],
   "source": [
    "Broker.getActiveOrders\n"
   ]
  },
  {
   "cell_type": "raw",
   "metadata": {},
   "source": [
    "其实就是一个Orders 可以做很多事情。\n",
    "['Action', 'State', 'Type', 'VALID_TRANSITIONS', 'getAcceptedDateTime', 'getAction', 'getAllOrNone', 'getAvgFillPrice', 'getCommissions', 'getExecutionInfo', 'getFillOnClose', 'getFilled'\n",
    ", 'getGoodTillCanceled', 'getId', 'getInstrument', 'getInstrumentTraits', 'getQu\n",
    "antity', 'getRemaining', 'getState', 'getSubmitDateTime', 'getType', 'isAccepted\n",
    "', 'isActive', 'isBuy', 'isCanceled', 'isFilled', 'isInitial', 'isPartiallyFille\n",
    "d', 'isSell', 'isSubmitted', 'process', 'setAcceptedDateTime', 'setAllOrNone', '\n",
    "setGoodTillCanceled', 'setState', 'setSubmitted', 'switchState']"
   ]
  },
  {
   "cell_type": "code",
   "execution_count": null,
   "metadata": {
    "collapsed": true
   },
   "outputs": [],
   "source": []
  },
  {
   "cell_type": "code",
   "execution_count": 125,
   "metadata": {
    "collapsed": false
   },
   "outputs": [
    {
     "data": {
      "text/plain": [
       "<unbound method BacktestingStrategy.limitOrder>"
      ]
     },
     "execution_count": 125,
     "metadata": {},
     "output_type": "execute_result"
    }
   ],
   "source": [
    "bt.limitOrder"
   ]
  },
  {
   "cell_type": "code",
   "execution_count": 84,
   "metadata": {
    "collapsed": false
   },
   "outputs": [
    {
     "data": {
      "text/plain": [
       "['Broker',\n",
       " 'InstrumentTraits',\n",
       " 'IntegerTraits',\n",
       " 'LimitOrder',\n",
       " 'MarketOrder',\n",
       " 'Order',\n",
       " 'OrderEvent',\n",
       " 'OrderExecutionInfo',\n",
       " 'StopLimitOrder',\n",
       " 'StopOrder',\n",
       " '__builtins__',\n",
       " '__doc__',\n",
       " '__file__',\n",
       " '__name__',\n",
       " '__package__',\n",
       " '__path__',\n",
       " 'abc',\n",
       " 'backtesting',\n",
       " 'dispatchprio',\n",
       " 'fillstrategy',\n",
       " 'observer',\n",
       " 'slippage']"
      ]
     },
     "execution_count": 84,
     "metadata": {},
     "output_type": "execute_result"
    }
   ],
   "source": [
    "dir(position.broker)"
   ]
  },
  {
   "cell_type": "markdown",
   "metadata": {
    "collapsed": true
   },
   "source": [
    "## Order"
   ]
  },
  {
   "cell_type": "code",
   "execution_count": 85,
   "metadata": {
    "collapsed": false
   },
   "outputs": [
    {
     "data": {
      "text/plain": [
       "<unbound method Order.isFilled>"
      ]
     },
     "execution_count": 85,
     "metadata": {},
     "output_type": "execute_result"
    }
   ],
   "source": [
    "from pyalgotrade.broker import Order\n",
    "Order.isFilled"
   ]
  },
  {
   "cell_type": "markdown",
   "metadata": {},
   "source": [
    "## order 类型"
   ]
  },
  {
   "cell_type": "raw",
   "metadata": {},
   "source": [
    "Signature: Order.getType(self)\n",
    "Docstring:\n",
    "Returns the order type. Valid order types are:\n",
    "\n",
    "* Order.Type.MARKET\n",
    "* Order.Type.LIMIT\n",
    "* Order.Type.STOP\n",
    "* Order.Type.STOP_LIMIT"
   ]
  },
  {
   "cell_type": "markdown",
   "metadata": {},
   "source": [
    "## order的命令"
   ]
  },
  {
   "cell_type": "raw",
   "metadata": {},
   "source": [
    "Signature: Order.getAction(self)\n",
    "Docstring:\n",
    "Returns the order action. Valid order actions are:\n",
    "\n",
    "* Order.Action.BUY\n",
    "* Order.Action.BUY_TO_COVER\n",
    "* Order.Action.SELL\n",
    "* Order.Action.SELL_SHORT"
   ]
  },
  {
   "cell_type": "markdown",
   "metadata": {},
   "source": [
    "## order的状态"
   ]
  },
  {
   "cell_type": "raw",
   "metadata": {},
   "source": [
    "Signature: Order.getState(self)\n",
    "Docstring:\n",
    "Returns the order state. Valid order states are:\n",
    "\n",
    "* Order.State.INITIAL (the initial state).\n",
    "* Order.State.SUBMITTED\n",
    "* Order.State.ACCEPTED\n",
    "* Order.State.CANCELED\n",
    "* Order.State.PARTIALLY_FILLED\n",
    "* Order.State.FILLED"
   ]
  },
  {
   "cell_type": "markdown",
   "metadata": {},
   "source": [
    "## order 其他方法"
   ]
  },
  {
   "cell_type": "raw",
   "metadata": {
    "collapsed": true
   },
   "source": [
    "'addExecutionInfo',\n",
    " 'getAction',\n",
    " 'getAllOrNone',\n",
    " 'getAvgFillPrice',\n",
    " 'getCommissions',\n",
    " 'getExecutionInfo',\n",
    " 'getFilled',\n",
    " 'getGoodTillCanceled',\n",
    " 'getId',\n",
    " 'getInstrument',\n",
    " 'getInstrumentTraits',\n",
    " 'getQuantity',\n",
    " 'getRemaining',\n",
    " 'getState',订单状态\n",
    " 'getSubmitDateTime',\n",
    " 'getType',\n",
    " 'isAccepted',订单是否被接受\n",
    " 'isActive',\n",
    " 'isBuy',是不是买买单\n",
    " 'isCanceled',有没有被取消\n",
    " 'isFilled',完成\n",
    " 'isInitial',初始化\n",
    " 'isPartiallyFilled',部分完成\n",
    " 'isSell',\n",
    " 'isSubmitted',提交。\n",
    " 'setAllOrNone',\n",
    " 'setGoodTillCanceled',\n",
    " 'setState',\n",
    " 'setSubmitted',\n",
    " 'switchState']"
   ]
  },
  {
   "cell_type": "code",
   "execution_count": 156,
   "metadata": {
    "collapsed": false
   },
   "outputs": [
    {
     "data": {
      "text/plain": [
       "<unbound method BaseStrategy.getOrderToPosition>"
      ]
     },
     "execution_count": 156,
     "metadata": {},
     "output_type": "execute_result"
    }
   ],
   "source": [
    "from pyalgotrade.strategy import BaseStrategy\n",
    "BaseStrategy.getOrderToPosition"
   ]
  },
  {
   "cell_type": "markdown",
   "metadata": {},
   "source": [
    "## BaseStrategy 作为最基础的策略"
   ]
  },
  {
   "cell_type": "raw",
   "metadata": {
    "collapsed": true
   },
   "source": [
    "添加分析：\n",
    "'attachAnalyzer', 'attachAnalyzerEx', 'critical', 'debug',\n",
    "生成订单\n",
    " 'enterLong', 'enterLongLimit', 'enterLongStop', 'enterLongStopLimit',\n",
    " 'enterShort', 'enterShortLimit', 'enterShortStop', 'enterShortStopLimit',\n",
    " 'error',\n",
    " 取得当前信息：\n",
    " 'getActivePositions', 'getBarsProcessedEvent', 'getBroker',\n",
    " 'getCurrentDateTime', 'getDispatcher', 'getFeed',\n",
    " 'getLastPrice', 'getLogger', 'getNamedAnalyzer',\n",
    " 'getOrderToPosition', 'getResult', 'getUseAdjustedValues',\n",
    "打印一些自己的信息 \n",
    " 'info',\n",
    " Order:\n",
    " 'limitOrder', 'marketOrder', 'stopLimitOrder', 'stopOrder',\n",
    " 主要操作：\n",
    " 'onBars', 'onEnterCanceled', 'onEnterOk', 'onExitCanceled', 'onExitOk', \n",
    " 'onFinish', 'onIdle', 'onOrderUpdated', 'onStart',\n",
    " \n",
    " 'registerPositionOrder',\n",
    " 'resampleBarFeed',\n",
    " 运行策略：\n",
    " 'run','stop'\n",
    " 'setUseEventDateTimeInLogs',\n",
    "不在注册：\n",
    " 'unregisterPosition',\n",
    " 'unregisterPositionOrder',\n",
    " 'warning']"
   ]
  },
  {
   "cell_type": "markdown",
   "metadata": {
    "collapsed": true
   },
   "source": [
    "## Position"
   ]
  },
  {
   "cell_type": "code",
   "execution_count": 151,
   "metadata": {
    "collapsed": false,
    "scrolled": true
   },
   "outputs": [
    {
     "data": {
      "text/plain": [
       "['_Position__submitAndRegisterOrder',\n",
       " '_Position__updatePosTracker',\n",
       " '__class__',\n",
       " '__delattr__',\n",
       " '__dict__',\n",
       " '__doc__',\n",
       " '__format__',\n",
       " '__getattribute__',\n",
       " '__hash__',\n",
       " '__init__',\n",
       " '__module__',\n",
       " '__new__',\n",
       " '__reduce__',\n",
       " '__reduce_ex__',\n",
       " '__repr__',\n",
       " '__setattr__',\n",
       " '__sizeof__',\n",
       " '__str__',\n",
       " '__subclasshook__',\n",
       " '__weakref__',\n",
       " '_submitExitOrder',\n",
       " 'buildExitOrder',\n",
       " 'cancelEntry',\n",
       " 'cancelExit',\n",
       " 'entryActive',\n",
       " 'entryFilled',\n",
       " 'exitActive',\n",
       " 'exitFilled',\n",
       " 'exitLimit',\n",
       " 'exitMarket',\n",
       " 'exitStop',\n",
       " 'exitStopLimit',\n",
       " 'getActiveOrders',\n",
       " 'getAge',\n",
       " 'getEntryOrder',\n",
       " 'getExitOrder',\n",
       " 'getInstrument',\n",
       " 'getLastPrice',\n",
       " 'getPnL',\n",
       " 'getReturn',\n",
       " 'getShares',\n",
       " 'getStrategy',\n",
       " 'isOpen',\n",
       " 'onOrderEvent',\n",
       " 'setEntryDateTime',\n",
       " 'setExitDateTime',\n",
       " 'switchState']"
      ]
     },
     "execution_count": 151,
     "metadata": {},
     "output_type": "execute_result"
    }
   ],
   "source": [
    "from pyalgotrade.strategy import position\n",
    "dir(position.Position)\n",
    "#这个应该是比order更小的一个东西，是每个订单都有一个Position"
   ]
  },
  {
   "cell_type": "raw",
   "metadata": {},
   "source": [
    "这个做什么？\n",
    "'buildExitOrder',\n",
    " 下订单之后的操作\n",
    " 取消操作：'cancelEntry', 'cancelExit', 'entryActive',\n",
    " 退出之前订单的操作：\n",
    "'exitLimit', 'exitMarket', 'exitStop', 'exitStopLimit',\n",
    " 取得信息：\n",
    "  'exitActive', 'exitFilled',  'entryFilled',\n",
    " 'getActiveOrders', 'getAge', 'getEntryOrder',\n",
    " 'getExitOrder', 'getInstrument', 'getLastPrice',\n",
    " 'getPnL', 'getReturn', 'getShares', 'getStrategy',\n",
    " \n",
    " \n",
    " 'isOpen',  'onOrderEvent', 'setEntryDateTime', 'setExitDateTime', 'switchState']"
   ]
  },
  {
   "cell_type": "raw",
   "metadata": {},
   "source": [
    "position 里closestate，才会运行onexitok\n"
   ]
  },
  {
   "cell_type": "markdown",
   "metadata": {},
   "source": [
    "## Position\n",
    "#### 好处：可以直接开反向单退出市场。坏处：只能记录一个订单，不能控制仓位。\n",
    "#### 如果想控制仓位还是用maeketOrder 比较好，可以根究自己现在状态判断，买多少\n",
    "#### 还有一条就是还是要获得当前订单的状态\n",
    "#### marketorder 不能限制价格，所以还有其他的方法\n",
    "\n"
   ]
  },
  {
   "cell_type": "markdown",
   "metadata": {},
   "source": [
    "## 所有的订单最后都需要交易员去创建买卖单"
   ]
  },
  {
   "cell_type": "raw",
   "metadata": {},
   "source": [
    "现实生活中一般都是挂单，买不到，或者部分买到，\n",
    "卖不掉或者部分卖掉。这个时候需要检查订单状态，并检查是否已经测单，如果没有就撤单。"
   ]
  },
  {
   "cell_type": "code",
   "execution_count": 88,
   "metadata": {
    "collapsed": false
   },
   "outputs": [],
   "source": [
    "position.Position.getEntryOrder\n",
    "#reutrn :pyalgotrade.broker.Order\n",
    "%matplotlib inline"
   ]
  },
  {
   "cell_type": "code",
   "execution_count": 89,
   "metadata": {
    "collapsed": false,
    "scrolled": true
   },
   "outputs": [
    {
     "name": "stderr",
     "output_type": "stream",
     "text": [
      "2016-02-26 00:00:00 strategy [INFO] BUY at $213.10,5\n",
      "2016-03-21 00:00:00 strategy [INFO] BUY at $226.66,2\n",
      "2016-04-12 00:00:00 strategy [INFO] BUY at $243.70,2\n",
      "2016-04-13 00:00:00 strategy [INFO] BUY at $245.40,2\n",
      "2016-04-14 00:00:00 strategy [INFO] BUY at $242.38,2\n",
      "2016-04-15 00:00:00 strategy [INFO] BUY at $242.64,2\n",
      "2016-04-18 00:00:00 strategy [INFO] BUY at $242.80,2\n",
      "2016-04-19 00:00:00 strategy [INFO] BUY at $244.59,2\n",
      "2016-04-20 00:00:00 strategy [INFO] BUY at $243.19,2\n",
      "2016-04-21 00:00:00 strategy [INFO] BUY at $240.50,2\n",
      "2016-04-22 00:00:00 strategy [INFO] BUY at $241.00,2\n",
      "2016-04-26 00:00:00 strategy [INFO] BUY at $244.95,2\n",
      "2016-04-27 00:00:00 strategy [INFO] BUY at $244.50,2\n"
     ]
    },
    {
     "data": {
      "image/png": "[encoded data removed]",
      "text/plain": [
       "<matplotlib.figure.Figure at 0x10e386d8>"
      ]
     },
     "metadata": {},
     "output_type": "display_data"
    },
    {
     "name": "stdout",
     "output_type": "stream",
     "text": [
      "Final portfolio value: $9970.88\n"
     ]
    }
   ],
   "source": [
    "%run example\\tutorial-4.py"
   ]
  }
 ],
 "metadata": {
  "anaconda-cloud": {},
  "kernelspec": {
   "display_name": "Python [Root]",
   "language": "python",
   "name": "Python [Root]"
  },
  "language_info": {
   "codemirror_mode": {
    "name": "ipython",
    "version": 2
   },
   "file_extension": ".py",
   "mimetype": "text/x-python",
   "name": "python",
   "nbconvert_exporter": "python",
   "pygments_lexer": "ipython2",
   "version": "2.7.12"
  }
 },
 "nbformat": 4,
 "nbformat_minor": 0
}
