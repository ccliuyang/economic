{
 "cells": [
  {
   "cell_type": "code",
   "execution_count": 1,
   "metadata": {
    "collapsed": false
   },
   "outputs": [],
   "source": [
    "%matplotlib inline\n",
    "from pyalgotrade.broker.fillstrategy import DefaultStrategy\n",
    "from pyalgotrade.broker.backtesting import TradePercentage\n",
    "from pyalgotrade import strategy\n",
    "from pyalgotrade.technical import ma\n",
    "from pyalgotrade.technical import cross"
   ]
  },
  {
   "cell_type": "markdown",
   "metadata": {},
   "source": [
    "## cn csvfeed 用法"
   ]
  },
  {
   "cell_type": "code",
   "execution_count": 2,
   "metadata": {
    "collapsed": false
   },
   "outputs": [],
   "source": [
    "from pyalgotrade import bar\n",
    "from pyalgotrade import plotter\n",
    "\n",
    "instrument = '600288'\n",
    "market = 'SH'\n",
    "fromDate = '20150101'\n",
    "toDate ='20150601'\n",
    "frequency = bar.Frequency.DAY\n",
    "paras = [5, 20]\n",
    "plot = True\n",
    "\n",
    "import os\n",
    "'''\n",
    "if frequency == bar.Frequency.MINUTE:\n",
    "    path = os.path.join('..', 'histdata', 'minute')\n",
    "elif frequency == bar.Frequency.DAY:\n",
    "    path = os.path.join('..', 'histdata', 'day') \n",
    "    '''\n",
    "filepath = os.path.join(r'C:\\Users\\linner\\Desktop\\learn\\pyalgo\\histdata\\day', instrument + market + \".csv\")\n",
    "\n",
    "from pyalgotrade.cn.csvfeed import Feed\n",
    "feed = Feed(frequency)\n",
    "feed.setDateTimeFormat('%Y-%m-%d')\n",
    "feed.loadBars(instrument, market, fromDate, toDate, filepath)"
   ]
  },
  {
   "cell_type": "markdown",
   "metadata": {},
   "source": [
    "## feed 类型是DataSeries\n",
    "可以获取一个DataSeries,比如开盘价"
   ]
  },
  {
   "cell_type": "code",
   "execution_count": 81,
   "metadata": {
    "collapsed": false
   },
   "outputs": [
    {
     "data": {
      "text/plain": [
       "pyalgotrade.dataseries.bards.BarDataSeries"
      ]
     },
     "execution_count": 81,
     "metadata": {},
     "output_type": "execute_result"
    }
   ],
   "source": [
    "#z这两个是同一个类别\n",
    "type(feed['600288.SH'])\n",
    "type(feed[feed.getKeys()[0]])\n",
    "#dir(feed['600288.SH'])"
   ]
  },
  {
   "cell_type": "markdown",
   "metadata": {},
   "source": [
    "## 这个是？"
   ]
  },
  {
   "cell_type": "raw",
   "metadata": {},
   "source": [
    "addBarsFromSequence', 'barsHaveAdjClose', 'closeDB', 'createDataSeries',\n",
    " 'dispatch', 'eof', 'getCurrentBars', 'getCurrentDateTime', 'getDataSeries',\n",
    " 'getDefaultInstrument', 'getDispatchPriority', 'getFrequency',  'getKeys',\n",
    " 'getLastBar', 'getNewValuesEvent', 'getNextBars', 'getNextValues', 'getNextValuesAndUpdateDS', 'getRegisteredInstruments', 'isIntraday',\n",
    " 'join', 'loadAll', 'loadBars', 'loadTicks', 'onDispatcherRegistered',\n",
    " 'peekDateTime', 'registerDataSeries', 'registerInstrument', 'reset',\n",
    " 'setDateTimeFormat', 'setDispatchPriority', 'setUseAdjustedValues',\n",
    " 'start', 'stop']"
   ]
  },
  {
   "cell_type": "code",
   "execution_count": 83,
   "metadata": {
    "collapsed": false
   },
   "outputs": [
    {
     "data": {
      "text/plain": [
       "pyalgotrade.dataseries.SequenceDataSeries"
      ]
     },
     "execution_count": 83,
     "metadata": {},
     "output_type": "execute_result"
    }
   ],
   "source": [
    "type(feed[feed.getKeys()[0]].getPriceDataSeries())\n",
    "#dir(feed[feed.getKeys()[0]].getPriceDataSeries())"
   ]
  },
  {
   "cell_type": "markdown",
   "metadata": {},
   "source": [
    "## 策略定义"
   ]
  },
  {
   "cell_type": "code",
   "execution_count": 6,
   "metadata": {
    "collapsed": true
   },
   "outputs": [],
   "source": [
    "class DoubleMA(strategy.BacktestingStrategy):\n",
    "    def __init__(self, feed, instrument, n, m):\n",
    "        strategy.BacktestingStrategy.__init__(self, feed)\n",
    "        self.__instrument = instrument\n",
    "        self.getBroker().setFillStrategy(DefaultStrategy(None))\n",
    "        self.getBroker().setCommission(TradePercentage(3.0/1e4))\n",
    "        self.__position = None\n",
    "        self.__prices = feed[self.__instrument].getPriceDataSeries()\n",
    "        self.__malength1 = int(n)\n",
    "        self.__malength2 = int(m)\n",
    "        \n",
    "        self.__ma1 = ma.SMA(self.__prices, self.__malength1)\n",
    "        self.__ma2 = ma.SMA(self.__prices, self.__malength2)\n",
    "        \n",
    "    def getPrice(self):\n",
    "        return self.__prices\n",
    "\n",
    "    def getSMA(self):\n",
    "        return self.__ma1,self.__ma2\n",
    "\n",
    "    def onEnterCanceled(self, position):\n",
    "        self.__position = None\n",
    "        self.info('%s onEnterCanceled'%bars.getDateTime())\n",
    "    def onEnterOK(self):\n",
    "        self.info('%s onEnterOK'%bars.getDateTime())\n",
    "\n",
    "    def onExitOK(self, position):\n",
    "        self.__position = None\n",
    "        self.info('%s onExitOK'%bars.getDateTime())\n",
    "\n",
    "    def onExitCanceled(self, position):\n",
    "        self.__position.exitMarket()\n",
    "        \n",
    "\n",
    "    def onBars(self, bars):\n",
    "        # If a position was not opened, check if we should enter a long position.\n",
    "        \n",
    "        if self.__ma2[-1]is None:\n",
    "            return \n",
    "            \n",
    "        if self.__position is not None:\n",
    "            if not self.__position.exitActive() and cross.cross_below(self.__ma1, self.__ma2) > 0:\n",
    "                self.__position.exitMarket()\n",
    "                self.info(\"sell %s\" % (bars.getDateTime()))\n",
    "                print type(bars),type(bars[self.__instrument])\n",
    "        \n",
    "        if self.__position is None:\n",
    "            if cross.cross_above(self.__ma1, self.__ma2) > 0:\n",
    "                shares = int(self.getBroker().getEquity() * 0.2 / bars[self.__instrument].getPrice())\n",
    "                self.__position = self.enterLong(self.__instrument, shares)\n",
    "                print bars[self.__instrument].getDateTime(), bars[self.__instrument].getPrice()\n",
    "                self.info(\"buy %s\" % (bars.getDateTime()))"
   ]
  },
  {
   "cell_type": "code",
   "execution_count": 7,
   "metadata": {
    "collapsed": false
   },
   "outputs": [],
   "source": [
    "pyalgotrade_id = instrument + '.' + market\n",
    "strat =DoubleMA(feed, pyalgotrade_id, *paras)"
   ]
  },
  {
   "cell_type": "code",
   "execution_count": 8,
   "metadata": {
    "collapsed": true
   },
   "outputs": [],
   "source": [
    "    from pyalgotrade.stratanalyzer import returns\n",
    "    from pyalgotrade.stratanalyzer import sharpe\n",
    "    from pyalgotrade.stratanalyzer import drawdown\n",
    "    from pyalgotrade.stratanalyzer import trades\n",
    "    \n",
    "    retAnalyzer = returns.Returns()\n",
    "    strat.attachAnalyzer(retAnalyzer)\n",
    "    sharpeRatioAnalyzer = sharpe.SharpeRatio()\n",
    "    strat.attachAnalyzer(sharpeRatioAnalyzer)\n",
    "    drawDownAnalyzer = drawdown.DrawDown()\n",
    "    strat.attachAnalyzer(drawDownAnalyzer)\n",
    "    tradesAnalyzer = trades.Trades()\n",
    "    strat.attachAnalyzer(tradesAnalyzer)\n",
    "    plt = plotter.StrategyPlotter(strat, True, True, True)"
   ]
  },
  {
   "cell_type": "code",
   "execution_count": 9,
   "metadata": {
    "collapsed": false
   },
   "outputs": [
    {
     "name": "stderr",
     "output_type": "stream",
     "text": [
      "2015-03-03 00:00:00 strategy [INFO] buy 2015-03-03 00:00:00\n",
      "2015-04-29 00:00:00 strategy [INFO] sell 2015-04-29 00:00:00\n"
     ]
    },
    {
     "name": "stdout",
     "output_type": "stream",
     "text": [
      "2015-03-03 00:00:00 17.13\n",
      "<class 'pyalgotrade.bar.Bars'> <class 'pyalgotrade.cn.bar.BasicBar'>\n"
     ]
    }
   ],
   "source": [
    "strat.run()"
   ]
  },
  {
   "cell_type": "markdown",
   "metadata": {},
   "source": [
    "## 我们可以看到，bars和bar的类型分别是以上"
   ]
  },
  {
   "cell_type": "code",
   "execution_count": 86,
   "metadata": {
    "collapsed": false
   },
   "outputs": [],
   "source": [
    "import pyalgotrade\n",
    "#dir(pyalgotrade.cn.bar.BasicBar)\n",
    "#可以getopen getHigh"
   ]
  },
  {
   "cell_type": "markdown",
   "metadata": {},
   "source": [
    "## basicbars的构造方法"
   ]
  },
  {
   "cell_type": "raw",
   "metadata": {},
   "source": [
    "Init signature: pyalgotrade.cn.bar.BasicBar(self, dateTime, open_, high, low, close, volume, amount, adjClose, frequency, extra={})"
   ]
  },
  {
   "cell_type": "code",
   "execution_count": 10,
   "metadata": {
    "collapsed": false,
    "scrolled": true
   },
   "outputs": [
    {
     "data": {
      "image/png": "[encoded data removed]",
      "text/plain": [
       "<matplotlib.figure.Figure at 0x9ac9ba8>"
      ]
     },
     "metadata": {},
     "output_type": "display_data"
    }
   ],
   "source": [
    "plt.plot()"
   ]
  },
  {
   "cell_type": "markdown",
   "metadata": {},
   "source": [
    "## 默认策略，应该是限定一些内容。"
   ]
  },
  {
   "cell_type": "raw",
   "metadata": {},
   "source": [
    "DefaultStrategy\n",
    "Init signature: DefaultStrategy(self, volumeLimit=0.25)\n",
    "Docstring:\n",
    "Default fill strategy.\n",
    "\n",
    ":param volumeLimit: The proportion of the volume that orders can take up in a bar. Must be > 0 and <= 1.\n",
    "    If None, then volume limit is not checked.\n",
    ":type volumeLimit: float"
   ]
  },
  {
   "cell_type": "markdown",
   "metadata": {},
   "source": [
    "## broker的一些方法"
   ]
  },
  {
   "cell_type": "code",
   "execution_count": 87,
   "metadata": {
    "collapsed": false
   },
   "outputs": [
    {
     "data": {
      "text/plain": [
       "instancemethod"
      ]
     },
     "execution_count": 87,
     "metadata": {},
     "output_type": "execute_result"
    }
   ],
   "source": [
    "type(strategy.BacktestingStrategy.getBroker)\n",
    "#Returns the :class:`pyalgotrade.broker.Broker` used to handle order executions."
   ]
  },
  {
   "cell_type": "code",
   "execution_count": 57,
   "metadata": {
    "collapsed": false
   },
   "outputs": [
    {
     "data": {
      "text/plain": [
       "(pyalgotrade.broker.backtesting.Broker, pyalgotrade.broker.Broker)"
      ]
     },
     "execution_count": 57,
     "metadata": {},
     "output_type": "execute_result"
    }
   ],
   "source": [
    "from pyalgotrade.broker import backtesting\n",
    "backtesting.Broker,pyalgotrade.broker.Broker"
   ]
  },
  {
   "cell_type": "raw",
   "metadata": {},
   "source": [
    "\n",
    "Init signature: backtesting.Broker(self, cash, barFeed, commission=None)\n",
    "Docstring:\n",
    "Backtesting broker.\n",
    "\n",
    ":param cash: The initial amount of cash.\n",
    ":type cash: int/float.\n",
    ":param barFeed: The bar feed that will provide the bars.\n",
    ":type barFeed: :class:`pyalgotrade.barfeed.BarFeed`\n",
    ":param commission: An object responsible for calculating order commissions.\n",
    ":type commission: :class:`Commission\n"
   ]
  },
  {
   "cell_type": "markdown",
   "metadata": {},
   "source": [
    "## position\n",
    "确认当前位置是否可以开仓，平仓。\n",
    "获得交易收益"
   ]
  },
  {
   "cell_type": "code",
   "execution_count": 90,
   "metadata": {
    "collapsed": false
   },
   "outputs": [
    {
     "data": {
      "text/plain": [
       "<unbound method BacktestingStrategy.enterLong>"
      ]
     },
     "execution_count": 90,
     "metadata": {},
     "output_type": "execute_result"
    }
   ],
   "source": [
    "strategy.BacktestingStrategy.enterLong\n",
    "#返回值：pyalgotrade.strategy.position.Position"
   ]
  },
  {
   "cell_type": "markdown",
   "metadata": {},
   "source": [
    "## self.__position = enterLong()"
   ]
  },
  {
   "cell_type": "raw",
   "metadata": {},
   "source": [
    "Signature: strategy.BacktestingStrategy.enterLong(self, instrument, quantity, goodTillCanceled=False, allOrNone=False)\n",
    "Docstring:\n",
    "Generates a buy :class:`pyalgotrade.broker.MarketOrder` to enter a long position.\n",
    "\n",
    ":param instrument: Instrument identifier.\n",
    ":type instrument: string.\n",
    ":param quantity: Entry order quantity.\n",
    ":type quantity: int.\n",
    ":param goodTillCanceled: True if the entry order is good till canceled. If False then the order gets automatically canceled when the session closes.\n",
    ":type goodTillCanceled: boolean.\n",
    ":param allOrNone: True if the orders should be completely filled or not at all.\n",
    ":type allOrNone: boolean.\n",
    ":rtype: The :class:`pyalgotrade.strategy.position.Position` entered."
   ]
  },
  {
   "cell_type": "raw",
   "metadata": {},
   "source": [
    "Position 的方法：\n",
    "'buildExitOrder',\n",
    " 'cancelEntry',\n",
    " 'cancelExit',\n",
    " 'entryActive',\n",
    " 'entryFilled',\n",
    " 'exitActive',\n",
    " 'exitFilled',\n",
    " 'exitLimit',\n",
    " 'exitMarket',\n",
    " 'exitStop',\n",
    " 'exitStopLimit',\n",
    " 'getActiveOrders',\n",
    " 'getAge',\n",
    " 'getEntryOrder',\n",
    " 'getExitOrder',\n",
    " 'getInstrument',\n",
    " 'getLastPrice',\n",
    " 'getPnL',\n",
    " 'getReturn',\n",
    " 'getShares',\n",
    " 'getStrategy',\n",
    " 'isOpen',\n",
    " 'onOrderEvent',\n",
    " 'setEntryDateTime',\n",
    " 'setExitDateTime',\n",
    " 'switchState"
   ]
  },
  {
   "cell_type": "code",
   "execution_count": 98,
   "metadata": {
    "collapsed": false
   },
   "outputs": [
    {
     "data": {
      "text/plain": [
       "<unbound method Position.getReturn>"
      ]
     },
     "execution_count": 98,
     "metadata": {},
     "output_type": "execute_result"
    }
   ],
   "source": [
    "pyalgotrade.strategy.position.Position.getReturn"
   ]
  },
  {
   "cell_type": "markdown",
   "metadata": {},
   "source": [
    "## 回测可以用到的所有方法"
   ]
  },
  {
   "cell_type": "code",
   "execution_count": 100,
   "metadata": {
    "collapsed": false
   },
   "outputs": [],
   "source": [
    "#dir(strategy.BacktestingStrategy)"
   ]
  },
  {
   "cell_type": "markdown",
   "metadata": {},
   "source": [
    "## 交易员订单可以用到的方法：基本上都是订单状态"
   ]
  },
  {
   "cell_type": "code",
   "execution_count": 102,
   "metadata": {
    "collapsed": false
   },
   "outputs": [],
   "source": [
    "#dir(pyalgotrade.broker.Order)"
   ]
  },
  {
   "cell_type": "markdown",
   "metadata": {},
   "source": [
    "## 技术下边的方法是函数"
   ]
  },
  {
   "cell_type": "code",
   "execution_count": 103,
   "metadata": {
    "collapsed": false,
    "scrolled": true
   },
   "outputs": [
    {
     "data": {
      "text/plain": [
       "module"
      ]
     },
     "execution_count": 103,
     "metadata": {},
     "output_type": "execute_result"
    }
   ],
   "source": [
    "type(cross)#下边都是函数，所以输出应该都是list."
   ]
  },
  {
   "cell_type": "markdown",
   "metadata": {},
   "source": [
    "## ideas\n",
    "strategy.BacktestingStrategy,继承自strategy.Basestrategy,\n"
   ]
  },
  {
   "cell_type": "raw",
   "metadata": {},
   "source": [
    "strategy.BaseStrategy,初始化\n",
    "Init signature: strategy.BaseStrategy(self, barFeed, broker)\n",
    "Docstring:\n",
    "Base class for strategies.\n",
    "\n",
    "broker的构造很简单,我一直以为是需要一个身份，实际上只需要一个初始金额。"
   ]
  },
  {
   "cell_type": "markdown",
   "metadata": {},
   "source": [
    "## 添加回测的方法"
   ]
  },
  {
   "cell_type": "code",
   "execution_count": 117,
   "metadata": {
    "collapsed": false
   },
   "outputs": [
    {
     "data": {
      "text/plain": [
       "pyalgotrade.stratanalyzer.StrategyAnalyzer"
      ]
     },
     "execution_count": 117,
     "metadata": {},
     "output_type": "execute_result"
    }
   ],
   "source": [
    "#strat.attachAnalyzer\n",
    "#trat.attachAnalyzer(strategyAnalyzer)\n",
    "pyalgotrade.stratanalyzer.StrategyAnalyzer\n",
    "#必须添加这个类别一下的内容。也就是必须具有三项内容\n",
    "#def beforeAttach(self, strat);attached(self, strat);beforeOnBars(self, strat, bars)"
   ]
  },
  {
   "cell_type": "markdown",
   "metadata": {},
   "source": [
    "## broker,order,position的区别"
   ]
  },
  {
   "cell_type": "code",
   "execution_count": null,
   "metadata": {
    "collapsed": true
   },
   "outputs": [],
   "source": []
  },
  {
   "cell_type": "code",
   "execution_count": null,
   "metadata": {
    "collapsed": true
   },
   "outputs": [],
   "source": []
  }
 ],
 "metadata": {
  "kernelspec": {
   "display_name": "Python [Root]",
   "language": "python",
   "name": "Python [Root]"
  },
  "language_info": {
   "codemirror_mode": {
    "name": "ipython",
    "version": 2
   },
   "file_extension": ".py",
   "mimetype": "text/x-python",
   "name": "python",
   "nbconvert_exporter": "python",
   "pygments_lexer": "ipython2",
   "version": "2.7.12"
  }
 },
 "nbformat": 4,
 "nbformat_minor": 0
}
