{
 "cells": [
  {
   "cell_type": "markdown",
   "metadata": {},
   "source": [
    "## pyalgotrade \n",
    "dir ,file ,class def\n"
   ]
  },
  {
   "cell_type": "raw",
   "metadata": {},
   "source": [
    "dir:\n",
    "    barfeed:\n",
    "        __init__:            \n",
    "        csvfeed.py\n",
    "        resampled.py\n",
    "    broker\n",
    "    dataseries\n",
    "    feed\n",
    "    optimizer\n",
    "    stratanalyzer\n",
    "    strategy\n",
    "    technical\n",
    "    tool\n",
    "file:\n",
    "    bar.py\n",
    "    dispatcher.py\n",
    "    dispatchprio.py\n",
    "    eventprofiler.py\n",
    "    logger.py\n",
    "    marketsession.py\n",
    "    observer.py\n",
    "    plotter.py\n",
    "    resamplebase.py\n",
    "    waeninghelpers.py    "
   ]
  },
  {
   "cell_type": "markdown",
   "metadata": {},
   "source": [
    "## bar.py"
   ]
  },
  {
   "cell_type": "code",
   "execution_count": 1,
   "metadata": {},
   "outputs": [
    {
     "data": {
      "text/plain": [
       "['Bar',\n",
       " 'Bars',\n",
       " 'BasicBar',\n",
       " 'Frequency',\n",
       " '__builtins__',\n",
       " '__cached__',\n",
       " '__doc__',\n",
       " '__file__',\n",
       " '__loader__',\n",
       " '__name__',\n",
       " '__package__',\n",
       " '__spec__',\n",
       " 'abc']"
      ]
     },
     "execution_count": 1,
     "metadata": {},
     "output_type": "execute_result"
    }
   ],
   "source": [
    "import pyalgotrade.bar as pbar #日线\n",
    "dir(pbar)"
   ]
  },
  {
   "cell_type": "raw",
   "metadata": {},
   "source": [
    "class\n",
    "  ['Bar',虚基类，没有功能，继承的时候重写，\n",
    " 'Bars',许多Bar的集合，（object）初始化用字典。\n",
    " 'BasicBar',继承自Bar，限制了属性的内容，初始化的方法：\n",
    "  self, dateTime, open_, high, low, close, volume, adjClose, frequency, extra={}):\n",
    " 'Frequency',常数\n",
    " 'abc']"
   ]
  },
  {
   "cell_type": "markdown",
   "metadata": {},
   "source": [
    "###  observer 观察事件"
   ]
  },
  {
   "cell_type": "code",
   "execution_count": 2,
   "metadata": {
    "scrolled": true
   },
   "outputs": [
    {
     "data": {
      "text/plain": [
       "['Event',\n",
       " 'Subject',\n",
       " '__builtins__',\n",
       " '__cached__',\n",
       " '__doc__',\n",
       " '__file__',\n",
       " '__loader__',\n",
       " '__name__',\n",
       " '__package__',\n",
       " '__spec__',\n",
       " 'abc',\n",
       " 'dispatchprio']"
      ]
     },
     "execution_count": 2,
     "metadata": {},
     "output_type": "execute_result"
    }
   ],
   "source": [
    "import pyalgotrade.observer as pobs\n",
    "dir(pobs)"
   ]
  },
  {
   "cell_type": "code",
   "execution_count": 3,
   "metadata": {},
   "outputs": [
    {
     "data": {
      "text/plain": [
       "['_Event__applyChanges',\n",
       " '__class__',\n",
       " '__delattr__',\n",
       " '__dict__',\n",
       " '__dir__',\n",
       " '__doc__',\n",
       " '__eq__',\n",
       " '__format__',\n",
       " '__ge__',\n",
       " '__getattribute__',\n",
       " '__gt__',\n",
       " '__hash__',\n",
       " '__init__',\n",
       " '__init_subclass__',\n",
       " '__le__',\n",
       " '__lt__',\n",
       " '__module__',\n",
       " '__ne__',\n",
       " '__new__',\n",
       " '__reduce__',\n",
       " '__reduce_ex__',\n",
       " '__repr__',\n",
       " '__setattr__',\n",
       " '__sizeof__',\n",
       " '__str__',\n",
       " '__subclasshook__',\n",
       " '__weakref__',\n",
       " 'emit',\n",
       " 'subscribe',\n",
       " 'unsubscribe']"
      ]
     },
     "execution_count": 3,
     "metadata": {},
     "output_type": "execute_result"
    }
   ],
   "source": [
    "dir(pobs.Event)"
   ]
  },
  {
   "cell_type": "markdown",
   "metadata": {
    "collapsed": true
   },
   "source": [
    "## observer.Event() \n",
    "应该是事件处理，一件一件处理，"
   ]
  },
  {
   "cell_type": "markdown",
   "metadata": {},
   "source": [
    "### dispatcher 调度员"
   ]
  },
  {
   "cell_type": "code",
   "execution_count": 4,
   "metadata": {},
   "outputs": [
    {
     "data": {
      "text/plain": [
       "['Dispatcher',\n",
       " '__builtins__',\n",
       " '__cached__',\n",
       " '__doc__',\n",
       " '__file__',\n",
       " '__loader__',\n",
       " '__name__',\n",
       " '__package__',\n",
       " '__spec__',\n",
       " 'dispatchprio',\n",
       " 'observer',\n",
       " 'utils']"
      ]
     },
     "execution_count": 4,
     "metadata": {},
     "output_type": "execute_result"
    }
   ],
   "source": [
    "import pyalgotrade.dispatcher as pdis #调度员，把事件一件一件分发下去\n",
    "dir(pdis)"
   ]
  },
  {
   "cell_type": "code",
   "execution_count": 5,
   "metadata": {},
   "outputs": [
    {
     "data": {
      "text/plain": [
       "['Event',\n",
       " 'Subject',\n",
       " '__builtins__',\n",
       " '__cached__',\n",
       " '__doc__',\n",
       " '__file__',\n",
       " '__loader__',\n",
       " '__name__',\n",
       " '__package__',\n",
       " '__spec__',\n",
       " 'abc',\n",
       " 'dispatchprio']"
      ]
     },
     "execution_count": 5,
     "metadata": {},
     "output_type": "execute_result"
    }
   ],
   "source": [
    "dir(pdis.observer)"
   ]
  },
  {
   "cell_type": "markdown",
   "metadata": {},
   "source": [
    "### eventprofiler  事件驱动获利"
   ]
  },
  {
   "cell_type": "code",
   "execution_count": 6,
   "metadata": {},
   "outputs": [
    {
     "data": {
      "text/plain": [
       "['Event',\n",
       " 'Predicate',\n",
       " 'Profiler',\n",
       " 'Results',\n",
       " '__builtins__',\n",
       " '__cached__',\n",
       " '__doc__',\n",
       " '__file__',\n",
       " '__loader__',\n",
       " '__name__',\n",
       " '__package__',\n",
       " '__spec__',\n",
       " 'build_plot',\n",
       " 'dispatcher',\n",
       " 'np',\n",
       " 'plot',\n",
       " 'plt',\n",
       " 'roc']"
      ]
     },
     "execution_count": 6,
     "metadata": {},
     "output_type": "execute_result"
    }
   ],
   "source": [
    "import pyalgotrade.eventprofiler as pevep\n",
    "dir(pevep)"
   ]
  },
  {
   "cell_type": "markdown",
   "metadata": {},
   "source": [
    "## barfeed\n",
    "csvfeed,dbfeed,membf "
   ]
  },
  {
   "cell_type": "code",
   "execution_count": 7,
   "metadata": {},
   "outputs": [
    {
     "data": {
      "text/plain": [
       "['BaseBarFeed',\n",
       " 'Frequency',\n",
       " 'OptimizerBarFeed',\n",
       " '__builtins__',\n",
       " '__cached__',\n",
       " '__doc__',\n",
       " '__file__',\n",
       " '__loader__',\n",
       " '__name__',\n",
       " '__package__',\n",
       " '__path__',\n",
       " '__spec__',\n",
       " 'abc',\n",
       " 'bar',\n",
       " 'bards',\n",
       " 'dispatchprio',\n",
       " 'feed']"
      ]
     },
     "execution_count": 7,
     "metadata": {},
     "output_type": "execute_result"
    }
   ],
   "source": [
    "import pyalgotrade.barfeed as pbf\n",
    "dir(pbf)"
   ]
  },
  {
   "cell_type": "raw",
   "metadata": {},
   "source": [
    "basebarfeed ,继承自feed.BaseFeed"
   ]
  },
  {
   "cell_type": "code",
   "execution_count": 8,
   "metadata": {
    "collapsed": true
   },
   "outputs": [],
   "source": [
    "import pyalgotrade.barfeed.csvfeed as pcf"
   ]
  },
  {
   "cell_type": "code",
   "execution_count": 9,
   "metadata": {},
   "outputs": [
    {
     "data": {
      "text/plain": [
       "['BarFeed',\n",
       " 'BarFilter',\n",
       " 'DateRangeFilter',\n",
       " 'GenericBarFeed',\n",
       " 'GenericRowParser',\n",
       " 'RowParser',\n",
       " 'USEquitiesRTH',\n",
       " '__builtins__',\n",
       " '__cached__',\n",
       " '__doc__',\n",
       " '__file__',\n",
       " '__loader__',\n",
       " '__name__',\n",
       " '__package__',\n",
       " '__spec__',\n",
       " 'bar',\n",
       " 'csvutils',\n",
       " 'datetime',\n",
       " 'dt',\n",
       " 'membf',\n",
       " 'pytz']"
      ]
     },
     "execution_count": 9,
     "metadata": {},
     "output_type": "execute_result"
    }
   ],
   "source": [
    "dir(pcf)"
   ]
  },
  {
   "cell_type": "code",
   "execution_count": 10,
   "metadata": {},
   "outputs": [
    {
     "data": {
      "text/plain": [
       "['__class__',\n",
       " '__contains__',\n",
       " '__delattr__',\n",
       " '__dict__',\n",
       " '__dir__',\n",
       " '__doc__',\n",
       " '__eq__',\n",
       " '__format__',\n",
       " '__ge__',\n",
       " '__getattribute__',\n",
       " '__getitem__',\n",
       " '__gt__',\n",
       " '__hash__',\n",
       " '__init__',\n",
       " '__init_subclass__',\n",
       " '__iter__',\n",
       " '__le__',\n",
       " '__lt__',\n",
       " '__metaclass__',\n",
       " '__module__',\n",
       " '__ne__',\n",
       " '__new__',\n",
       " '__reduce__',\n",
       " '__reduce_ex__',\n",
       " '__repr__',\n",
       " '__setattr__',\n",
       " '__sizeof__',\n",
       " '__str__',\n",
       " '__subclasshook__',\n",
       " '__weakref__',\n",
       " 'addBarsFromCSV',\n",
       " 'addBarsFromSequence',\n",
       " 'barsHaveAdjClose',\n",
       " 'createDataSeries',\n",
       " 'dispatch',\n",
       " 'eof',\n",
       " 'getBarFilter',\n",
       " 'getCurrentBars',\n",
       " 'getCurrentDateTime',\n",
       " 'getDailyBarTime',\n",
       " 'getDataSeries',\n",
       " 'getDefaultInstrument',\n",
       " 'getDispatchPriority',\n",
       " 'getFrequency',\n",
       " 'getKeys',\n",
       " 'getLastBar',\n",
       " 'getNewValuesEvent',\n",
       " 'getNextBars',\n",
       " 'getNextValues',\n",
       " 'getNextValuesAndUpdateDS',\n",
       " 'getRegisteredInstruments',\n",
       " 'isIntraday',\n",
       " 'join',\n",
       " 'loadAll',\n",
       " 'onDispatcherRegistered',\n",
       " 'peekDateTime',\n",
       " 'registerDataSeries',\n",
       " 'registerInstrument',\n",
       " 'reset',\n",
       " 'setBarClass',\n",
       " 'setBarFilter',\n",
       " 'setColumnName',\n",
       " 'setDailyBarTime',\n",
       " 'setDateTimeFormat',\n",
       " 'setDispatchPriority',\n",
       " 'setNoAdjClose',\n",
       " 'setUseAdjustedValues',\n",
       " 'start',\n",
       " 'stop']"
      ]
     },
     "execution_count": 10,
     "metadata": {},
     "output_type": "execute_result"
    }
   ],
   "source": [
    "dir(pcf.GenericBarFeed)#(membf.barfeed)"
   ]
  },
  {
   "cell_type": "raw",
   "metadata": {},
   "source": [
    "pcf.GenericBarFeed(frequency, timezone=None, maxLen=None)\n",
    "\n",
    "Date Time,Open,High,Low,Close,Volume,Adj Close\n",
    "2013-01-01 13:59:00,13.51001,13.56,13.51,13.56,273.88014126,13.51001\n",
    "最重要的一个函数，，addBarsFromCSV"
   ]
  },
  {
   "cell_type": "markdown",
   "metadata": {},
   "source": [
    "### Dataseries"
   ]
  },
  {
   "cell_type": "code",
   "execution_count": 11,
   "metadata": {},
   "outputs": [
    {
     "data": {
      "text/plain": [
       "['DEFAULT_MAX_LEN',\n",
       " 'DataSeries',\n",
       " 'SequenceDataSeries',\n",
       " '__builtins__',\n",
       " '__cached__',\n",
       " '__doc__',\n",
       " '__file__',\n",
       " '__loader__',\n",
       " '__name__',\n",
       " '__package__',\n",
       " '__path__',\n",
       " '__spec__',\n",
       " 'abc',\n",
       " 'bards',\n",
       " 'collections',\n",
       " 'get_checked_max_len',\n",
       " 'observer']"
      ]
     },
     "execution_count": 11,
     "metadata": {},
     "output_type": "execute_result"
    }
   ],
   "source": [
    "import pyalgotrade.dataseries as pdat\n",
    "dir(pdat)"
   ]
  },
  {
   "cell_type": "code",
   "execution_count": 12,
   "metadata": {},
   "outputs": [
    {
     "name": "stdout",
     "output_type": "stream",
     "text": [
      "Populating the interactive namespace from numpy and matplotlib\n"
     ]
    },
    {
     "data": {
      "text/plain": [
       "['__class__',\n",
       " '__delattr__',\n",
       " '__dict__',\n",
       " '__dir__',\n",
       " '__doc__',\n",
       " '__eq__',\n",
       " '__format__',\n",
       " '__ge__',\n",
       " '__getattribute__',\n",
       " '__getitem__',\n",
       " '__gt__',\n",
       " '__hash__',\n",
       " '__init__',\n",
       " '__init_subclass__',\n",
       " '__le__',\n",
       " '__len__',\n",
       " '__lt__',\n",
       " '__metaclass__',\n",
       " '__module__',\n",
       " '__ne__',\n",
       " '__new__',\n",
       " '__reduce__',\n",
       " '__reduce_ex__',\n",
       " '__repr__',\n",
       " '__setattr__',\n",
       " '__sizeof__',\n",
       " '__str__',\n",
       " '__subclasshook__',\n",
       " '__weakref__',\n",
       " 'append',\n",
       " 'appendWithDateTime',\n",
       " 'getDateTimes',\n",
       " 'getMaxLen',\n",
       " 'getNewValueEvent',\n",
       " 'getValueAbsolute',\n",
       " 'setMaxLen']"
      ]
     },
     "execution_count": 12,
     "metadata": {},
     "output_type": "execute_result"
    }
   ],
   "source": [
    "%pylab inline\n",
    "dir(pdat.SequenceDataSeries)# 只有一个用，就是添加一个数，或者，时间和一个数"
   ]
  },
  {
   "cell_type": "code",
   "execution_count": 13,
   "metadata": {
    "collapsed": true
   },
   "outputs": [],
   "source": [
    "ranple=range(100)\n",
    "psq=pdat.SequenceDataSeries()\n",
    "psq.appendWithDateTime(None,ranple)"
   ]
  },
  {
   "cell_type": "code",
   "execution_count": 14,
   "metadata": {},
   "outputs": [
    {
     "data": {
      "text/plain": [
       "1024"
      ]
     },
     "execution_count": 14,
     "metadata": {},
     "output_type": "execute_result"
    }
   ],
   "source": [
    "psq.getMaxLen()"
   ]
  },
  {
   "cell_type": "code",
   "execution_count": 15,
   "metadata": {},
   "outputs": [
    {
     "data": {
      "text/plain": [
       "[None]"
      ]
     },
     "execution_count": 15,
     "metadata": {},
     "output_type": "execute_result"
    }
   ],
   "source": [
    "psq.getDateTimes()"
   ]
  },
  {
   "cell_type": "code",
   "execution_count": 16,
   "metadata": {},
   "outputs": [
    {
     "data": {
      "text/plain": [
       "10"
      ]
     },
     "execution_count": 16,
     "metadata": {},
     "output_type": "execute_result"
    }
   ],
   "source": [
    "psq[0][10]"
   ]
  },
  {
   "cell_type": "code",
   "execution_count": 17,
   "metadata": {},
   "outputs": [
    {
     "data": {
      "text/plain": [
       "pyalgotrade.dataseries.SequenceDataSeries"
      ]
     },
     "execution_count": 17,
     "metadata": {},
     "output_type": "execute_result"
    }
   ],
   "source": [
    "type(psq)"
   ]
  },
  {
   "cell_type": "code",
   "execution_count": 18,
   "metadata": {},
   "outputs": [
    {
     "data": {
      "text/plain": [
       "['AggFunGrouper',\n",
       " 'BarGrouper',\n",
       " 'DSResampler',\n",
       " 'ResampledBarDataSeries',\n",
       " 'ResampledDataSeries',\n",
       " '__builtins__',\n",
       " '__cached__',\n",
       " '__doc__',\n",
       " '__file__',\n",
       " '__loader__',\n",
       " '__name__',\n",
       " '__package__',\n",
       " '__spec__',\n",
       " 'abc',\n",
       " 'bar',\n",
       " 'bards',\n",
       " 'dataseries',\n",
       " 'resamplebase']"
      ]
     },
     "execution_count": 18,
     "metadata": {},
     "output_type": "execute_result"
    }
   ],
   "source": [
    "import pyalgotrade.dataseries.resampled as pdatre\n",
    "dir(pdatre)"
   ]
  },
  {
   "cell_type": "code",
   "execution_count": 19,
   "metadata": {},
   "outputs": [
    {
     "data": {
      "text/plain": [
       "'\\nSignature: dalig(ds1, ds2, maxLen=None)\\nDocstring:\\nReturns two dataseries that exhibit only those values whose datetimes are in both dataseries.\\n'"
      ]
     },
     "execution_count": 19,
     "metadata": {},
     "output_type": "execute_result"
    }
   ],
   "source": [
    "from pyalgotrade.dataseries.aligned import datetime_aligned as dalig\n",
    "'''\n",
    "Signature: dalig(ds1, ds2, maxLen=None)\n",
    "Docstring:\n",
    "Returns two dataseries that exhibit only those values whose datetimes are in both dataseries.\n",
    "'''"
   ]
  },
  {
   "cell_type": "code",
   "execution_count": 20,
   "metadata": {},
   "outputs": [
    {
     "data": {
      "text/plain": [
       "['__class__',\n",
       " '__contains__',\n",
       " '__delattr__',\n",
       " '__dict__',\n",
       " '__dir__',\n",
       " '__doc__',\n",
       " '__eq__',\n",
       " '__format__',\n",
       " '__ge__',\n",
       " '__getattribute__',\n",
       " '__getitem__',\n",
       " '__gt__',\n",
       " '__hash__',\n",
       " '__init__',\n",
       " '__init_subclass__',\n",
       " '__iter__',\n",
       " '__le__',\n",
       " '__lt__',\n",
       " '__metaclass__',\n",
       " '__module__',\n",
       " '__ne__',\n",
       " '__new__',\n",
       " '__reduce__',\n",
       " '__reduce_ex__',\n",
       " '__repr__',\n",
       " '__setattr__',\n",
       " '__sizeof__',\n",
       " '__str__',\n",
       " '__subclasshook__',\n",
       " '__weakref__',\n",
       " 'addValues',\n",
       " 'addValuesFromCSV',\n",
       " 'createDataSeries',\n",
       " 'dispatch',\n",
       " 'eof',\n",
       " 'getDispatchPriority',\n",
       " 'getKeys',\n",
       " 'getNewValuesEvent',\n",
       " 'getNextValues',\n",
       " 'getNextValuesAndUpdateDS',\n",
       " 'join',\n",
       " 'onDispatcherRegistered',\n",
       " 'peekDateTime',\n",
       " 'registerDataSeries',\n",
       " 'reset',\n",
       " 'setDateRange',\n",
       " 'setDispatchPriority',\n",
       " 'setRowFilter',\n",
       " 'setTimeDelta',\n",
       " 'start',\n",
       " 'stop']"
      ]
     },
     "execution_count": 20,
     "metadata": {},
     "output_type": "execute_result"
    }
   ],
   "source": [
    "from pyalgotrade.feed import csvfeed as pfcsv\n",
    "dir(pfcsv.Feed)"
   ]
  },
  {
   "cell_type": "raw",
   "metadata": {},
   "source": [
    "Init signature:\n",
    "pfcsv.Feed(dateTimeColumn, dateTimeFormat, converter=None, delimiter=',', timezone=None, maxLen=None)\n",
    "Docstring:     \n",
    "A feed that loads values from CSV formatted files.\n",
    ":param dateTimeColumn: The name of the column that has the datetime information.\n",
    ":type dateTimeColumn: string."
   ]
  },
  {
   "cell_type": "code",
   "execution_count": 25,
   "metadata": {},
   "outputs": [
    {
     "data": {
      "text/plain": [
       "['Broker',\n",
       " 'InstrumentTraits',\n",
       " 'IntegerTraits',\n",
       " 'LimitOrder',\n",
       " 'MarketOrder',\n",
       " 'Order',\n",
       " 'OrderEvent',\n",
       " 'OrderExecutionInfo',\n",
       " 'StopLimitOrder',\n",
       " 'StopOrder',\n",
       " '__builtins__',\n",
       " '__cached__',\n",
       " '__doc__',\n",
       " '__file__',\n",
       " '__loader__',\n",
       " '__name__',\n",
       " '__package__',\n",
       " '__path__',\n",
       " '__spec__',\n",
       " 'abc',\n",
       " 'backtesting',\n",
       " 'dispatchprio',\n",
       " 'fillstrategy',\n",
       " 'observer',\n",
       " 'slippage']"
      ]
     },
     "execution_count": 25,
     "metadata": {},
     "output_type": "execute_result"
    }
   ],
   "source": [
    "import pyalgotrade.broker  as pbroker\n",
    "dir(pbroker) #broker应该是所有交易内容都已经在里面了。"
   ]
  },
  {
   "cell_type": "markdown",
   "metadata": {},
   "source": [
    "## strategy\n"
   ]
  },
  {
   "cell_type": "raw",
   "metadata": {},
   "source": [
    "import pyalgotrade.broker\n",
    "from pyalgotrade.broker import backtesting #这个是重点\n",
    "from pyalgotrade import observer\n",
    "from pyalgotrade import dispatcher\n",
    "import pyalgotrade.strategy.position\n",
    "from pyalgotrade import logger\n",
    "from pyalgotrade.barfeed import resampled"
   ]
  },
  {
   "cell_type": "code",
   "execution_count": 21,
   "metadata": {},
   "outputs": [
    {
     "data": {
      "text/plain": [
       "['BacktestingStrategy',\n",
       " 'BaseStrategy',\n",
       " '__builtins__',\n",
       " '__cached__',\n",
       " '__doc__',\n",
       " '__file__',\n",
       " '__loader__',\n",
       " '__name__',\n",
       " '__package__',\n",
       " '__path__',\n",
       " '__spec__',\n",
       " 'abc',\n",
       " 'backtesting',\n",
       " 'dispatcher',\n",
       " 'logger',\n",
       " 'logging',\n",
       " 'observer',\n",
       " 'position',\n",
       " 'pyalgotrade',\n",
       " 'resampled']"
      ]
     },
     "execution_count": 21,
     "metadata": {},
     "output_type": "execute_result"
    }
   ],
   "source": [
    "import pyalgotrade.strategy  as pstr\n",
    "dir(pstr)"
   ]
  },
  {
   "cell_type": "code",
   "execution_count": 23,
   "metadata": {},
   "outputs": [
    {
     "data": {
      "text/plain": [
       "['NoSlippage',\n",
       " 'SlippageModel',\n",
       " 'VolumeShareSlippage',\n",
       " '__builtins__',\n",
       " '__cached__',\n",
       " '__doc__',\n",
       " '__file__',\n",
       " '__loader__',\n",
       " '__name__',\n",
       " '__package__',\n",
       " '__spec__',\n",
       " 'abc']"
      ]
     },
     "execution_count": 23,
     "metadata": {},
     "output_type": "execute_result"
    }
   ],
   "source": [
    "dir(pbro.slippage)"
   ]
  },
  {
   "cell_type": "markdown",
   "metadata": {
    "collapsed": true
   },
   "source": [
    "## Shortposition返回值"
   ]
  },
  {
   "cell_type": "raw",
   "metadata": {
    "collapsed": true
   },
   "source": [
    " self.getStrategy().getBroker().createStopLimitOrder(）\n",
    " broker.Order.Action.SELL, self.getInstrument(), stopPrice, limitPrice, quantity"
   ]
  },
  {
   "cell_type": "code",
   "execution_count": null,
   "metadata": {
    "collapsed": true
   },
   "outputs": [],
   "source": []
  },
  {
   "cell_type": "code",
   "execution_count": null,
   "metadata": {
    "collapsed": true
   },
   "outputs": [],
   "source": []
  },
  {
   "cell_type": "code",
   "execution_count": null,
   "metadata": {
    "collapsed": true
   },
   "outputs": [],
   "source": []
  },
  {
   "cell_type": "code",
   "execution_count": null,
   "metadata": {
    "collapsed": true
   },
   "outputs": [],
   "source": []
  },
  {
   "cell_type": "code",
   "execution_count": null,
   "metadata": {
    "collapsed": true
   },
   "outputs": [],
   "source": []
  },
  {
   "cell_type": "code",
   "execution_count": null,
   "metadata": {
    "collapsed": true
   },
   "outputs": [],
   "source": []
  },
  {
   "cell_type": "code",
   "execution_count": null,
   "metadata": {
    "collapsed": true
   },
   "outputs": [],
   "source": []
  }
 ],
 "metadata": {
  "kernelspec": {
   "display_name": "Python 3",
   "language": "python",
   "name": "python3"
  },
  "language_info": {
   "codemirror_mode": {
    "name": "ipython",
    "version": 3
   },
   "file_extension": ".py",
   "mimetype": "text/x-python",
   "name": "python",
   "nbconvert_exporter": "python",
   "pygments_lexer": "ipython3",
   "version": "3.6.1"
  }
 },
 "nbformat": 4,
 "nbformat_minor": 2
}
