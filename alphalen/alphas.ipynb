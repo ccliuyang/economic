{
 "cells": [
  {
   "cell_type": "code",
   "execution_count": 2,
   "metadata": {},
   "outputs": [],
   "source": [
    "import pandas as pd\n",
    "import numpy as np\n",
    "from scipy.stats import mstats\n",
    "from scipy import stats\n",
    "from datetime import datetime\n",
    "from alphalens import utils\n",
    "from alphalens import plotting\n",
    "from alphalens import tears\n",
    "from alphalens import performance\n",
    "import matplotlib as mpl\n",
    "import matplotlib.pyplot as plt\n",
    "import tushare as ts"
   ]
  },
  {
   "cell_type": "code",
   "execution_count": 4,
   "metadata": {},
   "outputs": [
    {
     "data": {
      "text/plain": [
       "['Bond',\n",
       " 'Equity',\n",
       " 'Fund',\n",
       " 'Fundamental',\n",
       " 'Future',\n",
       " 'HKequity',\n",
       " 'IV',\n",
       " 'Idx',\n",
       " 'Macro',\n",
       " 'MailMerge',\n",
       " 'Market',\n",
       " 'Master',\n",
       " 'Options',\n",
       " 'Subject',\n",
       " 'TraderAPI',\n",
       " '__author__',\n",
       " '__builtins__',\n",
       " '__cached__',\n",
       " '__doc__',\n",
       " '__file__',\n",
       " '__loader__',\n",
       " '__name__',\n",
       " '__package__',\n",
       " '__path__',\n",
       " '__spec__',\n",
       " '__version__',\n",
       " 'bdi',\n",
       " 'broker_tops',\n",
       " 'cap_tops',\n",
       " 'coins',\n",
       " 'coins_bar',\n",
       " 'coins_snapshot',\n",
       " 'coins_tick',\n",
       " 'coins_trade',\n",
       " 'datayes',\n",
       " 'day_boxoffice',\n",
       " 'day_cinema',\n",
       " 'forecast_data',\n",
       " 'fund',\n",
       " 'fund_holdings',\n",
       " 'futures',\n",
       " 'get_area_classified',\n",
       " 'get_balance_sheet',\n",
       " 'get_broker',\n",
       " 'get_cash_flow',\n",
       " 'get_cashflow_data',\n",
       " 'get_cffex_daily',\n",
       " 'get_concept_classified',\n",
       " 'get_cpi',\n",
       " 'get_czce_daily',\n",
       " 'get_day_all',\n",
       " 'get_dce_daily',\n",
       " 'get_debtpaying_data',\n",
       " 'get_deposit_rate',\n",
       " 'get_fund_info',\n",
       " 'get_future_daily',\n",
       " 'get_gdp_contrib',\n",
       " 'get_gdp_for',\n",
       " 'get_gdp_pull',\n",
       " 'get_gdp_quarter',\n",
       " 'get_gdp_year',\n",
       " 'get_gem_classified',\n",
       " 'get_gold_and_foreign_reserves',\n",
       " 'get_growth_data',\n",
       " 'get_h_data',\n",
       " 'get_hist_data',\n",
       " 'get_hists',\n",
       " 'get_hs300s',\n",
       " 'get_index',\n",
       " 'get_industry_classified',\n",
       " 'get_intlfuture',\n",
       " 'get_k_data',\n",
       " 'get_latest_news',\n",
       " 'get_loan_rate',\n",
       " 'get_money_supply',\n",
       " 'get_money_supply_bal',\n",
       " 'get_nav_close',\n",
       " 'get_nav_grading',\n",
       " 'get_nav_history',\n",
       " 'get_nav_open',\n",
       " 'get_notices',\n",
       " 'get_operation_data',\n",
       " 'get_ppi',\n",
       " 'get_profit_data',\n",
       " 'get_profit_statement',\n",
       " 'get_realtime_quotes',\n",
       " 'get_report_data',\n",
       " 'get_rrr',\n",
       " 'get_shfe_daily',\n",
       " 'get_shfe_vwap',\n",
       " 'get_sina_dd',\n",
       " 'get_sme_classified',\n",
       " 'get_st_classified',\n",
       " 'get_stock_basics',\n",
       " 'get_suspended',\n",
       " 'get_sz50s',\n",
       " 'get_terminated',\n",
       " 'get_tick_data',\n",
       " 'get_today_all',\n",
       " 'get_today_ticks',\n",
       " 'get_token',\n",
       " 'get_zz500s',\n",
       " 'global_realtime',\n",
       " 'guba_sina',\n",
       " 'inst_detail',\n",
       " 'inst_tops',\n",
       " 'internet',\n",
       " 'is_holiday',\n",
       " 'latest_content',\n",
       " 'lpr_data',\n",
       " 'lpr_ma_data',\n",
       " 'month_boxoffice',\n",
       " 'new_stocks',\n",
       " 'notice_content',\n",
       " 'profit_data',\n",
       " 'profit_divis',\n",
       " 'realtime_boxoffice',\n",
       " 'remove_broker',\n",
       " 'set_broker',\n",
       " 'set_token',\n",
       " 'sh_margin_details',\n",
       " 'sh_margins',\n",
       " 'shibor_data',\n",
       " 'shibor_ma_data',\n",
       " 'shibor_quote_data',\n",
       " 'stock',\n",
       " 'sz_margin_details',\n",
       " 'sz_margins',\n",
       " 'top10_holders',\n",
       " 'top_list',\n",
       " 'trade_cal',\n",
       " 'trader',\n",
       " 'util',\n",
       " 'xsg_data']"
      ]
     },
     "execution_count": 4,
     "metadata": {},
     "output_type": "execute_result"
    }
   ],
   "source": [
    "dir(ts)"
   ]
  },
  {
   "cell_type": "code",
   "execution_count": 8,
   "metadata": {},
   "outputs": [
    {
     "name": "stdout",
     "output_type": "stream",
     "text": [
      "<urlopen error ftp error: URLError(\"ftp error: error_perm('550 /webdata/000300closeweight.xls: No such file or directory.',)\",)>\n"
     ]
    }
   ],
   "source": [
    "hs300=ts.get_hs300s()"
   ]
  },
  {
   "cell_type": "code",
   "execution_count": null,
   "metadata": {
    "collapsed": true
   },
   "outputs": [],
   "source": []
  },
  {
   "cell_type": "code",
   "execution_count": null,
   "metadata": {
    "collapsed": true
   },
   "outputs": [],
   "source": []
  },
  {
   "cell_type": "code",
   "execution_count": null,
   "metadata": {
    "collapsed": true
   },
   "outputs": [],
   "source": []
  }
 ],
 "metadata": {
  "kernelspec": {
   "display_name": "Python 3",
   "language": "python",
   "name": "python3"
  },
  "language_info": {
   "codemirror_mode": {
    "name": "ipython",
    "version": 3
   },
   "file_extension": ".py",
   "mimetype": "text/x-python",
   "name": "python",
   "nbconvert_exporter": "python",
   "pygments_lexer": "ipython3",
   "version": "3.6.1"
  }
 },
 "nbformat": 4,
 "nbformat_minor": 2
}
