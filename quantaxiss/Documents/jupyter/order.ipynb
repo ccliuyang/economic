{
 "cells": [
  {
   "cell_type": "markdown",
   "metadata": {},
   "source": [
    "* 账号\n",
    "* 回测环境\n",
    "* 账号发生命令到事件\n",
    "* 事件吧命令发送到回测\n",
    "* 回测吧结果返回给账号\n",
    "* 账号更新\n",
    "* settle结算"
   ]
  },
  {
   "cell_type": "code",
   "execution_count": 1,
   "metadata": {},
   "outputs": [
    {
     "name": "stderr",
     "output_type": "stream",
     "text": [
      "QUANTAXIS>> start QUANTAXIS\n",
      "QUANTAXIS>> Welcome to QUANTAXIS, the Version is 1.0.68\n",
      "QUANTAXIS>>  \n",
      " ```````````````````````````````````````````````````````````````````````````````````````````````````````````````````````` \n",
      "  ``########`````##````````##``````````##`````````####````````##```##########````````#``````##``````###```##`````######`` \n",
      "  `##``````## ```##````````##`````````####````````##`##```````##```````##```````````###``````##````##`````##```##`````##` \n",
      "  ##````````##```##````````##````````##`##````````##``##``````##```````##``````````####```````#```##``````##```##``````## \n",
      "  ##````````##```##````````##```````##```##```````##```##`````##```````##`````````##`##```````##`##```````##````##``````` \n",
      "  ##````````##```##````````##``````##`````##``````##````##````##```````##````````##``###```````###````````##`````##`````` \n",
      "  ##````````##```##````````##``````##``````##`````##`````##```##```````##```````##````##```````###````````##``````###```` \n",
      "  ##````````##```##````````##`````##````````##````##``````##``##```````##``````##``````##`````##`##```````##````````##``` \n",
      "  ##````````##```##````````##````#############````##```````##`##```````##`````###########`````##``##``````##`````````##`` \n",
      "  ###```````##```##````````##```##```````````##```##```````##`##```````##````##`````````##```##```##``````##```##`````##` \n",
      "  `##``````###````##``````###``##`````````````##``##````````####```````##```##``````````##``###````##`````##````##`````## \n",
      "  ``#########``````########```##``````````````###`##``````````##```````##``##````````````##`##``````##````##`````###``### \n",
      "  ````````#####`````````````````````````````````````````````````````````````````````````````````````````````````````##``  \n",
      "  ``````````````````````````````````````````````````````````````````````````````````````````````````````````````````````` \n",
      "  ``````````````````````````Copyright``yutiansut``2018``````QUANTITATIVE FINANCIAL FRAMEWORK````````````````````````````` \n",
      "  ``````````````````````````````````````````````````````````````````````````````````````````````````````````````````````` \n",
      " ```````````````````````````````````````````````````````````````````````````````````````````````````````````````````````` \n",
      " ```````````````````````````````````````````````````````````````````````````````````````````````````````````````````````` \n",
      " \n"
     ]
    }
   ],
   "source": [
    "import QUANTAXIS as QA"
   ]
  },
  {
   "cell_type": "code",
   "execution_count": 26,
   "metadata": {},
   "outputs": [
    {
     "name": "stderr",
     "output_type": "stream",
     "text": [
      "F:\\app\\anaconda\\lib\\site-packages\\ipykernel_launcher.py:2: DeprecationWarning: QUANTAXIS 1.0.46 has changed the init_assets ==> init_cash, please pay attention to this change if you using init_cash to initial an account class,                \n",
      "  \n"
     ]
    }
   ],
   "source": [
    "#初始化一个账号\n",
    "account=QA.QA_Account()"
   ]
  },
  {
   "cell_type": "code",
   "execution_count": 4,
   "metadata": {},
   "outputs": [],
   "source": [
    "account?"
   ]
  },
  {
   "cell_type": "code",
   "execution_count": 27,
   "metadata": {},
   "outputs": [],
   "source": [
    "#init  回测\n",
    "Back=QA.QA_BacktestBroker()"
   ]
  },
  {
   "cell_type": "code",
   "execution_count": 6,
   "metadata": {},
   "outputs": [],
   "source": [
    "Back?"
   ]
  },
  {
   "cell_type": "code",
   "execution_count": 10,
   "metadata": {},
   "outputs": [
    {
     "data": {
      "text/plain": [
       "1000000"
      ]
     },
     "execution_count": 10,
     "metadata": {},
     "output_type": "execute_result"
    }
   ],
   "source": [
    "account.cash_available"
   ]
  },
  {
   "cell_type": "code",
   "execution_count": 12,
   "metadata": {},
   "outputs": [],
   "source": [
    "account.send_order?"
   ]
  },
  {
   "cell_type": "code",
   "execution_count": 28,
   "metadata": {},
   "outputs": [],
   "source": [
    "#该用户发送交易申请\n",
    "Order=account.send_order(code='000001',\n",
    "                         money=account.cash_available,\n",
    "                         price=11,\n",
    "                         towards=QA.ORDER_DIRECTION.BUY,\n",
    "                         order_model=QA.ORDER_MODEL.MARKET,\n",
    "                         amount_model=QA.AMOUNT_MODEL.BY_MONEY,\n",
    "                         time='2018-05-09'\n",
    "                        )"
   ]
  },
  {
   "cell_type": "code",
   "execution_count": 31,
   "metadata": {},
   "outputs": [
    {
     "data": {
      "text/plain": [
       "90800"
      ]
     },
     "execution_count": 31,
     "metadata": {},
     "output_type": "execute_result"
    }
   ],
   "source": [
    "Order.amount"
   ]
  },
  {
   "cell_type": "code",
   "execution_count": 33,
   "metadata": {},
   "outputs": [],
   "source": [
    "rec_me=Back.receive_order(QA.QA_Event(order=Order))"
   ]
  },
  {
   "cell_type": "code",
   "execution_count": 34,
   "metadata": {},
   "outputs": [
    {
     "data": {
      "text/plain": [
       "{'body': {'fee': {'commission': 248.67849999999999, 'tax': 0},\n",
       "  'order': {'amount': 90800,\n",
       "   'code': '000001',\n",
       "   'date': '2018-05-09',\n",
       "   'datetime': '2018-05-09 09:30:00',\n",
       "   'price': 10.96,\n",
       "   'towards': 1}},\n",
       " 'header': {'code': '000001',\n",
       "  'order_id': 'Order_eGkHcQpR',\n",
       "  'session': {'account': 'Acc_ptK9HhQz', 'strategy': None, 'user': None},\n",
       "  'source': 'market',\n",
       "  'status': 200,\n",
       "  'trade_id': 'Trade_S4Hj3QzF'}}"
      ]
     },
     "execution_count": 34,
     "metadata": {},
     "output_type": "execute_result"
    }
   ],
   "source": [
    "rec_me"
   ]
  },
  {
   "cell_type": "code",
   "execution_count": 35,
   "metadata": {},
   "outputs": [
    {
     "data": {
      "text/plain": [
       "{'account_cookie': 'Acc_ptK9HhQz',\n",
       " 'allow_sellopen': False,\n",
       " 'allow_t0': False,\n",
       " 'broker': 'backtest',\n",
       " 'cash': [1000000, 4583.321499999845],\n",
       " 'commission_coeff': 0.00025,\n",
       " 'current_time': 'None',\n",
       " 'history': [['2018-05-09 09:30:00',\n",
       "   '000001',\n",
       "   10.96,\n",
       "   90800.0,\n",
       "   4583.321499999845,\n",
       "   'Order_eGkHcQpR',\n",
       "   'Trade_S4Hj3QzF',\n",
       "   'Acc_ptK9HhQz',\n",
       "   248.67849999999999,\n",
       "   0.0]],\n",
       " 'init_assets': {'cash': 1000000, 'hold': {}},\n",
       " 'margin_level': False,\n",
       " 'market_type': 'stock_cn',\n",
       " 'portfolio_cookie': None,\n",
       " 'quantaxis_version': '1.0.68',\n",
       " 'running_environment': 'backtest',\n",
       " 'running_time': '2018-08-21 19:16:57.687001',\n",
       " 'source': 'account',\n",
       " 'strategy_name': None,\n",
       " 'tax_coeff': 0.0015,\n",
       " 'trade_index': ['2018-05-09 09:30:00'],\n",
       " 'user_cookie': None}"
      ]
     },
     "execution_count": 35,
     "metadata": {},
     "output_type": "execute_result"
    }
   ],
   "source": [
    "account.receive_deal(rec_me)"
   ]
  },
  {
   "cell_type": "code",
   "execution_count": 38,
   "metadata": {},
   "outputs": [
    {
     "data": {
      "text/plain": [
       "4583.321499999845"
      ]
     },
     "execution_count": 38,
     "metadata": {},
     "output_type": "execute_result"
    }
   ],
   "source": [
    "account.cash_available"
   ]
  },
  {
   "cell_type": "code",
   "execution_count": 40,
   "metadata": {},
   "outputs": [],
   "source": [
    "account.settle()"
   ]
  },
  {
   "cell_type": "code",
   "execution_count": 41,
   "metadata": {},
   "outputs": [
    {
     "data": {
      "text/plain": [
       "[1000000, 4583.321499999845]"
      ]
     },
     "execution_count": 41,
     "metadata": {},
     "output_type": "execute_result"
    }
   ],
   "source": [
    "account.cash"
   ]
  },
  {
   "cell_type": "code",
   "execution_count": 42,
   "metadata": {},
   "outputs": [
    {
     "data": {
      "text/plain": [
       "code\n",
       "000001    90800.0\n",
       "Name: amount, dtype: float64"
      ]
     },
     "execution_count": 42,
     "metadata": {},
     "output_type": "execute_result"
    }
   ],
   "source": [
    "account.sell_available\n"
   ]
  },
  {
   "cell_type": "code",
   "execution_count": 43,
   "metadata": {},
   "outputs": [
    {
     "data": {
      "text/plain": [
       "90800.0"
      ]
     },
     "execution_count": 43,
     "metadata": {},
     "output_type": "execute_result"
    }
   ],
   "source": [
    "holdnum=account.sell_available.get('000001',0)\n",
    "holdnum"
   ]
  },
  {
   "cell_type": "code",
   "execution_count": 45,
   "metadata": {},
   "outputs": [],
   "source": [
    "order=account.send_order(\n",
    "    code='000001',\n",
    "    price=11,\n",
    "    amount=holdnum,\n",
    "    towards=-1,\n",
    "    order_model=QA.ORDER_MODEL.MARKET,\n",
    "    amount_model=QA.AMOUNT_MODEL.BY_AMOUNT,\n",
    "    time='2018-05-10'\n",
    "    \n",
    ")"
   ]
  },
  {
   "cell_type": "code",
   "execution_count": 47,
   "metadata": {},
   "outputs": [
    {
     "data": {
      "text/plain": [
       "< QA_Order realorder_id Order_YZAsnSDk datetime:2018-05-10 09:31:00 code:000001 amount:90800.0 price:11 towards:-1 btype:stock_cn order_id:Order_YZAsnSDk account:Acc_ptK9HhQz status:300 >"
      ]
     },
     "execution_count": 47,
     "metadata": {},
     "output_type": "execute_result"
    }
   ],
   "source": [
    "order"
   ]
  },
  {
   "cell_type": "code",
   "execution_count": 48,
   "metadata": {},
   "outputs": [
    {
     "data": {
      "text/plain": [
       "4583.321499999845"
      ]
     },
     "execution_count": 48,
     "metadata": {},
     "output_type": "execute_result"
    }
   ],
   "source": [
    "account.cash_available"
   ]
  },
  {
   "cell_type": "code",
   "execution_count": 49,
   "metadata": {},
   "outputs": [],
   "source": [
    "rec_mes=Back.receive_order(QA.QA_Event(order=order))"
   ]
  },
  {
   "cell_type": "code",
   "execution_count": 50,
   "metadata": {},
   "outputs": [
    {
     "data": {
      "text/plain": [
       "{'body': {'fee': {'commission': 249.7, 'tax': 1498.2},\n",
       "  'order': {'amount': 90800.0,\n",
       "   'code': '000001',\n",
       "   'date': '2018-05-10',\n",
       "   'datetime': '2018-05-10 09:30:00',\n",
       "   'price': 11.0,\n",
       "   'towards': -1}},\n",
       " 'header': {'code': '000001',\n",
       "  'order_id': 'Order_YZAsnSDk',\n",
       "  'session': {'account': 'Acc_ptK9HhQz', 'strategy': None, 'user': None},\n",
       "  'source': 'market',\n",
       "  'status': 200,\n",
       "  'trade_id': 'Trade_8d1JXZlV'}}"
      ]
     },
     "execution_count": 50,
     "metadata": {},
     "output_type": "execute_result"
    }
   ],
   "source": [
    "rec_mes"
   ]
  },
  {
   "cell_type": "code",
   "execution_count": 51,
   "metadata": {},
   "outputs": [
    {
     "data": {
      "text/plain": [
       "{'account_cookie': 'Acc_ptK9HhQz',\n",
       " 'allow_sellopen': False,\n",
       " 'allow_t0': False,\n",
       " 'broker': 'backtest',\n",
       " 'cash': [1000000, 4583.321499999845, 1001635.4214999999],\n",
       " 'commission_coeff': 0.00025,\n",
       " 'current_time': 'None',\n",
       " 'history': [['2018-05-09 09:30:00',\n",
       "   '000001',\n",
       "   10.96,\n",
       "   90800.0,\n",
       "   4583.321499999845,\n",
       "   'Order_eGkHcQpR',\n",
       "   'Trade_S4Hj3QzF',\n",
       "   'Acc_ptK9HhQz',\n",
       "   248.67849999999999,\n",
       "   0.0],\n",
       "  ['2018-05-10 09:30:00',\n",
       "   '000001',\n",
       "   11.0,\n",
       "   -90800.0,\n",
       "   1001635.4214999999,\n",
       "   'Order_YZAsnSDk',\n",
       "   'Trade_8d1JXZlV',\n",
       "   'Acc_ptK9HhQz',\n",
       "   249.7,\n",
       "   1498.2]],\n",
       " 'init_assets': {'cash': 1000000, 'hold': {}},\n",
       " 'margin_level': False,\n",
       " 'market_type': 'stock_cn',\n",
       " 'portfolio_cookie': None,\n",
       " 'quantaxis_version': '1.0.68',\n",
       " 'running_environment': 'backtest',\n",
       " 'running_time': '2018-08-21 19:16:57.687001',\n",
       " 'source': 'account',\n",
       " 'strategy_name': None,\n",
       " 'tax_coeff': 0.0015,\n",
       " 'trade_index': ['2018-05-09 09:30:00', '2018-05-10 09:30:00'],\n",
       " 'user_cookie': None}"
      ]
     },
     "execution_count": 51,
     "metadata": {},
     "output_type": "execute_result"
    }
   ],
   "source": [
    "account.receive_deal(rec_mes)"
   ]
  },
  {
   "cell_type": "code",
   "execution_count": null,
   "metadata": {},
   "outputs": [],
   "source": []
  },
  {
   "cell_type": "code",
   "execution_count": 52,
   "metadata": {},
   "outputs": [
    {
     "data": {
      "text/html": [
       "<div>\n",
       "<style scoped>\n",
       "    .dataframe tbody tr th:only-of-type {\n",
       "        vertical-align: middle;\n",
       "    }\n",
       "\n",
       "    .dataframe tbody tr th {\n",
       "        vertical-align: top;\n",
       "    }\n",
       "\n",
       "    .dataframe thead th {\n",
       "        text-align: right;\n",
       "    }\n",
       "</style>\n",
       "<table border=\"1\" class=\"dataframe\">\n",
       "  <thead>\n",
       "    <tr style=\"text-align: right;\">\n",
       "      <th></th>\n",
       "      <th>datetime</th>\n",
       "      <th>code</th>\n",
       "      <th>price</th>\n",
       "      <th>amount</th>\n",
       "      <th>cash</th>\n",
       "      <th>order_id</th>\n",
       "      <th>trade_id</th>\n",
       "      <th>account_cookie</th>\n",
       "      <th>commission</th>\n",
       "      <th>tax</th>\n",
       "    </tr>\n",
       "  </thead>\n",
       "  <tbody>\n",
       "    <tr>\n",
       "      <th>0</th>\n",
       "      <td>2018-05-09 09:30:00</td>\n",
       "      <td>000001</td>\n",
       "      <td>10.96</td>\n",
       "      <td>90800.0</td>\n",
       "      <td>4.583321e+03</td>\n",
       "      <td>Order_eGkHcQpR</td>\n",
       "      <td>Trade_S4Hj3QzF</td>\n",
       "      <td>Acc_ptK9HhQz</td>\n",
       "      <td>248.6785</td>\n",
       "      <td>0.0</td>\n",
       "    </tr>\n",
       "    <tr>\n",
       "      <th>1</th>\n",
       "      <td>2018-05-10 09:30:00</td>\n",
       "      <td>000001</td>\n",
       "      <td>11.00</td>\n",
       "      <td>-90800.0</td>\n",
       "      <td>1.001635e+06</td>\n",
       "      <td>Order_YZAsnSDk</td>\n",
       "      <td>Trade_8d1JXZlV</td>\n",
       "      <td>Acc_ptK9HhQz</td>\n",
       "      <td>249.7000</td>\n",
       "      <td>1498.2</td>\n",
       "    </tr>\n",
       "  </tbody>\n",
       "</table>\n",
       "</div>"
      ],
      "text/plain": [
       "              datetime    code  price   amount          cash        order_id  \\\n",
       "0  2018-05-09 09:30:00  000001  10.96  90800.0  4.583321e+03  Order_eGkHcQpR   \n",
       "1  2018-05-10 09:30:00  000001  11.00 -90800.0  1.001635e+06  Order_YZAsnSDk   \n",
       "\n",
       "         trade_id account_cookie  commission     tax  \n",
       "0  Trade_S4Hj3QzF   Acc_ptK9HhQz    248.6785     0.0  \n",
       "1  Trade_8d1JXZlV   Acc_ptK9HhQz    249.7000  1498.2  "
      ]
     },
     "execution_count": 52,
     "metadata": {},
     "output_type": "execute_result"
    }
   ],
   "source": [
    "account.history_table"
   ]
  }
 ],
 "metadata": {
  "kernelspec": {
   "display_name": "Python 3",
   "language": "python",
   "name": "python3"
  },
  "language_info": {
   "codemirror_mode": {
    "name": "ipython",
    "version": 3
   },
   "file_extension": ".py",
   "mimetype": "text/x-python",
   "name": "python",
   "nbconvert_exporter": "python",
   "pygments_lexer": "ipython3",
   "version": "3.6.4"
  }
 },
 "nbformat": 4,
 "nbformat_minor": 2
}
