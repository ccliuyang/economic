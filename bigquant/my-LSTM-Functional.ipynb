{
 "cells": [
  {
   "cell_type": "markdown",
   "metadata": {},
   "source": [
    "### 所有股票信息\n",
    "* 因子是可以进行全行业对比的\n",
    "* 价格是没法对比的。所以我让所有的价格都除以第一天的价格，得到与第一天上升或下降的比例，然后减去1.\n",
    "* 先合并，去除nan，在分开，计算完在合并并且要添加到最后。"
   ]
  },
  {
   "cell_type": "code",
   "execution_count": null,
   "metadata": {},
   "outputs": [],
   "source": [
    "# 0. 基础参数配置\n",
    "class conf:\n",
    "    # 设置用于训练和回测的开始/结束日期\n",
    "    start_date = '2012-01-01'\n",
    "    split_date = '2018-01-01'\n",
    "    end_date = '2018-07-20'\n",
    "    fields = ['close', 'open', 'high', 'low', 'amount', 'volume']\n",
    "    features=['pe_ttm_0']\n",
    "    # 每个input的长度，使用过去30天的数据\n",
    "    feature_back_days = 30\n",
    "    # 指定进行梯度下降时每个batch包含的样本数,训练时一个batch的样本会被计算一次梯度下降，使目标函数优化一步\n",
    "    batch_size = 100\n",
    "    #预期五日收益\n",
    "    return_days=5\n",
    "    \n",
    "instrument = M.instruments.v2(\n",
    "    start_date=conf.start_date,\n",
    "    end_date=conf.end_date,\n",
    "    market='CN_STOCK_A',\n",
    "    instrument_list=['000005.SZA','000006.SZA'],\n",
    "    max_count=0\n",
    ")"
   ]
  },
  {
   "cell_type": "markdown",
   "metadata": {},
   "source": [
    "## 加载数据"
   ]
  },
  {
   "cell_type": "code",
   "execution_count": null,
   "metadata": {},
   "outputs": [],
   "source": [
    "instruments=instrument.data.read()['instruments']\n",
    "start_date=conf.start_date\n",
    "end_date=conf.end_date\n",
    "fields=conf.fields\n",
    "features=conf.features\n",
    "\n",
    "def load_data(instruments, start_date, end_date, fields,features):\n",
    "    '''\n",
    "    获取数据\n",
    "    '''\n",
    "    his=D.history_data(instruments, start_date, end_date,fields)\n",
    "    fea=D.features(instruments, start_date, end_date,features)\n",
    "    df=pd.merge(his,fea,on=['date','instrument'],how='inner')\n",
    "    df=df.set_index('date',drop=True)\n",
    "    df.dropna(inplace=True)\n",
    "    return df\n",
    "\n",
    "data=load_data(instruments, start_date, end_date, fields,features)"
   ]
  },
  {
   "cell_type": "code",
   "execution_count": null,
   "metadata": {},
   "outputs": [],
   "source": [
    "data.shape"
   ]
  },
  {
   "cell_type": "markdown",
   "metadata": {},
   "source": [
    "### 单只股票"
   ]
  },
  {
   "cell_type": "code",
   "execution_count": null,
   "metadata": {},
   "outputs": [],
   "source": [
    "def construct_data(conf,data):\n",
    "    '''\n",
    "    构造数据，用来lstm\n",
    "    '''\n",
    "    result=[]    \n",
    "    for i,df in  enumerate(data.groupby(by='instrument')):\n",
    "        '''\n",
    "        按照股票分组将数据整理成时间序列\n",
    "        '''    \n",
    "        ins,df=df\n",
    "        if i>5: break\n",
    "        \n",
    "        return_days=100*(df['close'].shift(-5) / df['open'].shift(-1)-1)\n",
    "        \n",
    "        for index in range(df.shape[0]-conf.feature_back_days+1):\n",
    "            '''\n",
    "            对每只股票进行构造。\n",
    "            '''   \n",
    "            #处理fields,主要是计算相对第一天的涨跌\n",
    "            fie_d=df[conf.fields][index:index+conf.feature_back_days]\n",
    "            fie_d=fie_d.apply(lambda x:x/x[0]-1)\n",
    "            #处理feature，没有任何处理\n",
    "            fea_d=df[conf.features][index:index+conf.feature_back_days]    \n",
    "            #将价格和特征合并\n",
    "            X=pd.concat([fie_d,fea_d],axis=1)\n",
    "            #当前日期\n",
    "            current_date=X.index.values[-1]\n",
    "            #当期收益\n",
    "            y=return_days[current_date]\n",
    "        \n",
    "            result.append([X.values,y,ins,current_date])\n",
    "            \n",
    "    result=pd.DataFrame(result,columns=['X','y','instrument','date'])   \n",
    "    result.dropna(inplace=True)\n",
    "    return result\n",
    "construt=construct_data(conf,data)"
   ]
  },
  {
   "cell_type": "markdown",
   "metadata": {},
   "source": [
    "### 拆分数据集"
   ]
  },
  {
   "cell_type": "code",
   "execution_count": null,
   "metadata": {},
   "outputs": [],
   "source": [
    "train_data=construt.query('date <= \"%s\"' % conf.split_date)\n",
    "test_data=construt.query('date >= \"%s\"' % conf.split_date)"
   ]
  },
  {
   "cell_type": "code",
   "execution_count": null,
   "metadata": {},
   "outputs": [],
   "source": [
    "# 4. LSTM模型训练\n",
    "from keras.layers import Input, Dense, LSTM, concatenate\n",
    "from keras.models import Model\n",
    "from keras import optimizers\n",
    "\n",
    "input_dim=7\n",
    "\n",
    "def activation_atan(x):\n",
    "    import tensorflow as tf\n",
    "    return tf.atan(x)\n",
    "\n",
    "\n",
    "def lstm_train(df, batch_size, activation):\n",
    "    \n",
    "    # 构建神经网络层 1层LSTM层+3层Dense层\n",
    "    lstm_input = Input(shape=(conf.feature_back_days, input_dim), name='lstm_input')\n",
    "    lstm_output = LSTM(128, activation=activation, dropout_W=0.2, dropout_U=0.1)(lstm_input)\n",
    "    dense_output_1 = Dense(64, activation='relu')(lstm_output)\n",
    "    dense_output_2 = Dense(16, activation='relu')(dense_output_1)\n",
    "    predictions = Dense(1, activation=activation)(dense_output_2)\n",
    "\n",
    "    model = Model(input=lstm_input, output=predictions)\n",
    "    rms=optimizers.RMSprop(lr=0.001, rho=0.9, epsilon=1e-06)\n",
    "    model.compile(optimizer=rms, loss='mse', metrics=['mse'])\n",
    "\n",
    "    #df = input_ds.read_df()\n",
    "    model.fit(\n",
    "        np.array(df['X'].values.tolist()),np.array(df['y'].values.tolist()),\n",
    "        batch_size=batch_size, nb_epoch=10,  verbose=2\n",
    "    )\n",
    "\n",
    "    # 保存模型\n",
    "    model_ds = DataSource()\n",
    "    model.save(model_ds.open_temp_path())\n",
    "    model_ds.close_temp_path()\n",
    "    \n",
    "    return Outputs(data=model_ds)\n",
    "\n",
    "lstm=lstm_train(train_data,conf.batch_size,activation_atan)\n"
   ]
  },
  {
   "cell_type": "code",
   "execution_count": null,
   "metadata": {},
   "outputs": [],
   "source": [
    "lstm.data"
   ]
  },
  {
   "cell_type": "code",
   "execution_count": null,
   "metadata": {},
   "outputs": [],
   "source": [
    "# 5. LSTM 预测\n",
    "dd = [None, None]\n",
    "def lstm_predict(model_ds, df, activation):\n",
    "    import keras\n",
    "    from keras.models import load_model\n",
    "\n",
    "    keras.activations.activation_atan = activation\n",
    "    try:\n",
    "        model = load_model(model_ds.open_temp_path())\n",
    "    except:\n",
    "        model_ds.close_temp_path()\n",
    "        raise\n",
    "\n",
    "    \n",
    "    predictions = model.predict(\n",
    "        np.array(df['X'].values.tolist()))\n",
    "    df['score'] = predictions.flatten()\n",
    "\n",
    "    # 预测值和真实值的分布\n",
    "    T.plot(\n",
    "        df,\n",
    "        x='y', y=['score'], chart_type='scatter',\n",
    "        title='LSTM预测结果：实际值 vs. 预测值'\n",
    "    )\n",
    "\n",
    "    return Outputs(data=DataSource.write_df(df[['date', 'score']]))\n",
    "\n",
    "lstm_m5 = M.cached.v2(run=lstm_predict, kwargs=dict(\n",
    "    model_ds=lstm.data,\n",
    "    df=test_data,\n",
    "    activation=activation_atan\n",
    "))"
   ]
  },
  {
   "cell_type": "code",
   "execution_count": null,
   "metadata": {},
   "outputs": [],
   "source": [
    "instrument.data.read()['instruments']"
   ]
  },
  {
   "cell_type": "code",
   "execution_count": 263,
   "metadata": {},
   "outputs": [
    {
     "name": "stdout",
     "output_type": "stream",
     "text": [
      "[2018-07-25 20:05:40.816364] INFO: bigquant: backtest.v7 开始运行..\n",
      "[2018-07-25 20:05:40.819331] INFO: bigquant: biglearning backtest:V7.1.2\n"
     ]
    },
    {
     "ename": "ValueError",
     "evalue": "Can't convert non-uniquely indexed DataFrame to Panel",
     "output_type": "error",
     "traceback": [
      "\u001b[0;31m---------------------------------------------------------------------------\u001b[0m",
      "\u001b[0;31mValueError\u001b[0m                                Traceback (most recent call last)",
      "\u001b[0;32m<ipython-input-263-749971321ec1>\u001b[0m in \u001b[0;36m<module>\u001b[0;34m()\u001b[0m\n\u001b[1;32m     45\u001b[0m     \u001b[0mcapital_base\u001b[0m\u001b[0;34m=\u001b[0m\u001b[0;36m10000\u001b[0m\u001b[0;34m,\u001b[0m\u001b[0;34m\u001b[0m\u001b[0m\n\u001b[1;32m     46\u001b[0m     \u001b[0mbenchmark\u001b[0m\u001b[0;34m=\u001b[0m\u001b[0;34m'000300.SHA'\u001b[0m\u001b[0;34m,\u001b[0m\u001b[0;34m\u001b[0m\u001b[0m\n\u001b[0;32m---> 47\u001b[0;31m     \u001b[0moptions\u001b[0m\u001b[0;34m=\u001b[0m\u001b[0;34m{\u001b[0m\u001b[0;34m'instrument'\u001b[0m\u001b[0;34m:\u001b[0m \u001b[0minstrument\u001b[0m\u001b[0;34m.\u001b[0m\u001b[0mdata\u001b[0m\u001b[0;34m.\u001b[0m\u001b[0mread\u001b[0m\u001b[0;34m(\u001b[0m\u001b[0;34m)\u001b[0m\u001b[0;34m[\u001b[0m\u001b[0;34m'instruments'\u001b[0m\u001b[0;34m]\u001b[0m\u001b[0;34m,\u001b[0m \u001b[0;34m'prediction_ds'\u001b[0m\u001b[0;34m:\u001b[0m \u001b[0mlstm_m5\u001b[0m\u001b[0;34m.\u001b[0m\u001b[0mdata\u001b[0m\u001b[0;34m}\u001b[0m\u001b[0;34m\u001b[0m\u001b[0m\n\u001b[0m\u001b[1;32m     48\u001b[0m )\n",
      "\u001b[0;31mValueError\u001b[0m: Can't convert non-uniquely indexed DataFrame to Panel"
     ]
    }
   ],
   "source": [
    "# 6. 回测：在沪深300上回测\n",
    "def initialize(context):\n",
    "    # 系统已经设置了默认的交易手续费和滑点，要修改手续费可使用如下函数\n",
    "    context.set_commission(PerOrder(buy_cost=0.0003, sell_cost=0.0013, min_cost=5))\n",
    "    # 传入预测数据和真实数据\n",
    "    context.predictions = context.options['prediction_ds'].read_df()\n",
    "\n",
    "# 回测引擎：每日数据处理函数，每天执行一次\n",
    "def handle_data(context, data):\n",
    "    current_dt = data.current_dt.strftime('%Y-%m-%d')\n",
    "    today_df = context.predictions[context.predictions.date == current_dt]\n",
    "    if len(today_df) <= 0:\n",
    "        return\n",
    "\n",
    "    score = today_df.score.iloc[0]\n",
    "\n",
    "    sid = context.symbol(context.options['instrument'])\n",
    "    # 当前持仓\n",
    "    cur_position = context.portfolio.positions[sid].amount\n",
    "    if cur_position == 0:\n",
    "        # 如果当前没有仓位\n",
    "        if score > 0:\n",
    "            # 如果预测要上涨\n",
    "            context.order_target_percent(sid, 0.9)\n",
    "            context.extension['last_buy_date'] = current_dt\n",
    "    else:\n",
    "        # 如果预测要下跌，并且持有超过了五天\n",
    "        if score < 0:\n",
    "            hold_days = context.trading_calendar.session_distance(\n",
    "                pd.Timestamp(context.extension['last_buy_date']),\n",
    "                pd.Timestamp(current_dt)\n",
    "            )\n",
    "            if hold_days >= 5:\n",
    "                context.order_target(sid, 0)\n",
    "\n",
    "# 调用回测引擎\n",
    "lstm_m6 = M.trade.v2(\n",
    "    instruments=instrument.data.read()['instruments'],\n",
    "    start_date=conf.split_date,\n",
    "    end_date=conf.end_date,\n",
    "    initialize=initialize,\n",
    "    handle_data=handle_data,\n",
    "    order_price_field_buy='open',       # 表示 开盘 时买入\n",
    "    order_price_field_sell='close',     # 表示 收盘 前卖出\n",
    "    capital_base=10000,\n",
    "    benchmark='000300.SHA',\n",
    "    options={'instrument': instrument.data.read()['instruments'], 'prediction_ds': lstm_m5.data}\n",
    ")"
   ]
  }
 ],
 "metadata": {
  "kernelspec": {
   "display_name": "Python 3",
   "language": "python",
   "name": "python3"
  },
  "language_info": {
   "codemirror_mode": {
    "name": "ipython",
    "version": 3
   },
   "file_extension": ".py",
   "mimetype": "text/x-python",
   "name": "python",
   "nbconvert_exporter": "python",
   "pygments_lexer": "ipython3",
   "version": "3.6.4"
  }
 },
 "nbformat": 4,
 "nbformat_minor": 2
}
