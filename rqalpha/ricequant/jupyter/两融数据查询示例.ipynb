{
 "cells": [
  {
   "cell_type": "code",
   "execution_count": 1,
   "metadata": {
    "collapsed": true
   },
   "outputs": [],
   "source": [
    "import pandas as pd\n",
    "import numpy as np"
   ]
  },
  {
   "cell_type": "markdown",
   "metadata": {},
   "source": [
    "#### 平台新上了一个API，是获取融资融券数据的，用notebook简单做一个介绍吧\n",
    "#### API文档在这里：https://www.ricequant.com/api/research/chn#research-API-get_price_change_rate\n",
    "#### get_securities_margin(id_or_symbols, start_date=None, end_date=None, fields=None) \n",
    "首先对传入参数做一个简单的介绍：\n",
    "   * id_or_symbols 传入你要查找的股票或者股票列表\n",
    "   * start_date 起始查找日期 (可不填，返回最近这一个月的数据)\n",
    "   * end_date 介绍查找日期(可不填，返回最近这一个月的数据)\n",
    "   * fields() 查找你对应需要的数据 \n",
    "        * margin_balance\t融资余额\n",
    "        * buy_on_margin_value\t融资买入额\n",
    "        * margin_repayment\t融资偿还额\n",
    "        * short_balance\t融券余额\n",
    "        * short_balance_quantity\t融券余量\n",
    "        * short_sell_value\t融券卖出额\n",
    "        * short_sell_quantity\t融券卖出量\n",
    "        * short_repayment_quantity\t融券偿还量\n",
    "        * total_balance\t融资融券余额\n",
    "\n",
    "### 目标1：查找单一股票的两融数据(返回一个dataFrame) \n",
    "### 目标2：查找多只股票的两融数据(返回一个dataPanel)\n",
    "### 目标3：找出融资余额连续增长3天的股票\n",
    "\n",
    "\n"
   ]
  },
  {
   "cell_type": "code",
   "execution_count": 2,
   "metadata": {
    "collapsed": false
   },
   "outputs": [
    {
     "data": {
      "text/html": [
       "<div>\n",
       "<table border=\"1\" class=\"dataframe\">\n",
       "  <thead>\n",
       "    <tr style=\"text-align: right;\">\n",
       "      <th></th>\n",
       "      <th>margin_balance</th>\n",
       "      <th>buy_on_margin_value</th>\n",
       "      <th>short_sell_quantity</th>\n",
       "      <th>margin_repayment</th>\n",
       "      <th>short_balance_quantity</th>\n",
       "      <th>short_repayment_quantity</th>\n",
       "      <th>short_balance</th>\n",
       "      <th>total_balance</th>\n",
       "    </tr>\n",
       "  </thead>\n",
       "  <tbody>\n",
       "    <tr>\n",
       "      <th>2016-11-15</th>\n",
       "      <td>1.033709e+09</td>\n",
       "      <td>156766289.0</td>\n",
       "      <td>50800.0</td>\n",
       "      <td>NaN</td>\n",
       "      <td>85900.0</td>\n",
       "      <td>NaN</td>\n",
       "      <td>1047121.0</td>\n",
       "      <td>1.034756e+09</td>\n",
       "    </tr>\n",
       "    <tr>\n",
       "      <th>2016-11-16</th>\n",
       "      <td>1.058266e+09</td>\n",
       "      <td>171217188.0</td>\n",
       "      <td>2500.0</td>\n",
       "      <td>NaN</td>\n",
       "      <td>37000.0</td>\n",
       "      <td>NaN</td>\n",
       "      <td>452510.0</td>\n",
       "      <td>1.058719e+09</td>\n",
       "    </tr>\n",
       "    <tr>\n",
       "      <th>2016-11-17</th>\n",
       "      <td>1.237856e+09</td>\n",
       "      <td>463501332.0</td>\n",
       "      <td>81400.0</td>\n",
       "      <td>NaN</td>\n",
       "      <td>114700.0</td>\n",
       "      <td>NaN</td>\n",
       "      <td>1542715.0</td>\n",
       "      <td>1.239399e+09</td>\n",
       "    </tr>\n",
       "    <tr>\n",
       "      <th>2016-11-18</th>\n",
       "      <td>1.240697e+09</td>\n",
       "      <td>565062429.0</td>\n",
       "      <td>21400.0</td>\n",
       "      <td>NaN</td>\n",
       "      <td>69800.0</td>\n",
       "      <td>NaN</td>\n",
       "      <td>972314.0</td>\n",
       "      <td>1.241670e+09</td>\n",
       "    </tr>\n",
       "    <tr>\n",
       "      <th>2016-11-21</th>\n",
       "      <td>1.473361e+09</td>\n",
       "      <td>883424729.0</td>\n",
       "      <td>89300.0</td>\n",
       "      <td>NaN</td>\n",
       "      <td>114300.0</td>\n",
       "      <td>NaN</td>\n",
       "      <td>1751076.0</td>\n",
       "      <td>1.475112e+09</td>\n",
       "    </tr>\n",
       "  </tbody>\n",
       "</table>\n",
       "</div>"
      ],
      "text/plain": [
       "            margin_balance  buy_on_margin_value  short_sell_quantity  \\\n",
       "2016-11-15    1.033709e+09          156766289.0              50800.0   \n",
       "2016-11-16    1.058266e+09          171217188.0               2500.0   \n",
       "2016-11-17    1.237856e+09          463501332.0              81400.0   \n",
       "2016-11-18    1.240697e+09          565062429.0              21400.0   \n",
       "2016-11-21    1.473361e+09          883424729.0              89300.0   \n",
       "\n",
       "            margin_repayment  short_balance_quantity  \\\n",
       "2016-11-15               NaN                 85900.0   \n",
       "2016-11-16               NaN                 37000.0   \n",
       "2016-11-17               NaN                114700.0   \n",
       "2016-11-18               NaN                 69800.0   \n",
       "2016-11-21               NaN                114300.0   \n",
       "\n",
       "            short_repayment_quantity  short_balance  total_balance  \n",
       "2016-11-15                       NaN      1047121.0   1.034756e+09  \n",
       "2016-11-16                       NaN       452510.0   1.058719e+09  \n",
       "2016-11-17                       NaN      1542715.0   1.239399e+09  \n",
       "2016-11-18                       NaN       972314.0   1.241670e+09  \n",
       "2016-11-21                       NaN      1751076.0   1.475112e+09  "
      ]
     },
     "execution_count": 2,
     "metadata": {},
     "output_type": "execute_result"
    }
   ],
   "source": [
    "get_securities_margin('000012.XSHE',start_date='2016-11-15',end_date='2016-12-01').head()\n"
   ]
  },
  {
   "cell_type": "code",
   "execution_count": 16,
   "metadata": {
    "collapsed": false
   },
   "outputs": [
    {
     "data": {
      "text/plain": [
       "<class 'pandas.core.panel.Panel'>\n",
       "Dimensions: 8 (items) x 13 (major_axis) x 50 (minor_axis)\n",
       "Items axis: margin_balance to total_balance\n",
       "Major_axis axis: 2016-11-15 00:00:00 to 2016-12-01 00:00:00\n",
       "Minor_axis axis: 600104.XSHG to 600340.XSHG"
      ]
     },
     "execution_count": 16,
     "metadata": {},
     "output_type": "execute_result"
    }
   ],
   "source": [
    "stocks=index_components('上证50')\n",
    "DP=get_securities_margin(stocks,start_date='2016-11-15',end_date='2016-12-01')\n",
    "DP"
   ]
  },
  {
   "cell_type": "code",
   "execution_count": 19,
   "metadata": {
    "collapsed": false
   },
   "outputs": [
    {
     "data": {
      "text/plain": [
       "['600104.XSHG', '601169.XSHG', '600100.XSHG', '600958.XSHG', '600036.XSHG']"
      ]
     },
     "execution_count": 19,
     "metadata": {},
     "output_type": "execute_result"
    }
   ],
   "source": [
    "stocks[:5]"
   ]
  },
  {
   "cell_type": "markdown",
   "metadata": {},
   "source": [
    "这里我们拿上证50成份股的两融数据，那么我们获得的就是一个DataPanel，然后我们还是可以通过拿特地给时间或者特地股票来得到一个dataFrame"
   ]
  },
  {
   "cell_type": "code",
   "execution_count": 20,
   "metadata": {
    "collapsed": false
   },
   "outputs": [
    {
     "data": {
      "text/html": [
       "<div>\n",
       "<table border=\"1\" class=\"dataframe\">\n",
       "  <thead>\n",
       "    <tr style=\"text-align: right;\">\n",
       "      <th></th>\n",
       "      <th>margin_balance</th>\n",
       "      <th>buy_on_margin_value</th>\n",
       "      <th>short_sell_quantity</th>\n",
       "      <th>margin_repayment</th>\n",
       "      <th>short_balance_quantity</th>\n",
       "      <th>short_repayment_quantity</th>\n",
       "      <th>short_balance</th>\n",
       "      <th>total_balance</th>\n",
       "    </tr>\n",
       "  </thead>\n",
       "  <tbody>\n",
       "    <tr>\n",
       "      <th>2016-11-15</th>\n",
       "      <td>774658716.0</td>\n",
       "      <td>76463420.0</td>\n",
       "      <td>60100.0</td>\n",
       "      <td>53122540.0</td>\n",
       "      <td>454859.0</td>\n",
       "      <td>97700.0</td>\n",
       "      <td>NaN</td>\n",
       "      <td>NaN</td>\n",
       "    </tr>\n",
       "    <tr>\n",
       "      <th>2016-11-16</th>\n",
       "      <td>762240224.0</td>\n",
       "      <td>19212300.0</td>\n",
       "      <td>40200.0</td>\n",
       "      <td>31630792.0</td>\n",
       "      <td>447059.0</td>\n",
       "      <td>48000.0</td>\n",
       "      <td>NaN</td>\n",
       "      <td>NaN</td>\n",
       "    </tr>\n",
       "    <tr>\n",
       "      <th>2016-11-17</th>\n",
       "      <td>747158376.0</td>\n",
       "      <td>18169994.0</td>\n",
       "      <td>18200.0</td>\n",
       "      <td>33251842.0</td>\n",
       "      <td>428359.0</td>\n",
       "      <td>36900.0</td>\n",
       "      <td>NaN</td>\n",
       "      <td>NaN</td>\n",
       "    </tr>\n",
       "    <tr>\n",
       "      <th>2016-11-18</th>\n",
       "      <td>736288545.0</td>\n",
       "      <td>19232405.0</td>\n",
       "      <td>86122.0</td>\n",
       "      <td>30102236.0</td>\n",
       "      <td>509181.0</td>\n",
       "      <td>5300.0</td>\n",
       "      <td>NaN</td>\n",
       "      <td>NaN</td>\n",
       "    </tr>\n",
       "    <tr>\n",
       "      <th>2016-11-21</th>\n",
       "      <td>770366512.0</td>\n",
       "      <td>82600675.0</td>\n",
       "      <td>49800.0</td>\n",
       "      <td>48522708.0</td>\n",
       "      <td>433459.0</td>\n",
       "      <td>125522.0</td>\n",
       "      <td>NaN</td>\n",
       "      <td>NaN</td>\n",
       "    </tr>\n",
       "  </tbody>\n",
       "</table>\n",
       "</div>"
      ],
      "text/plain": [
       "            margin_balance  buy_on_margin_value  short_sell_quantity  \\\n",
       "2016-11-15     774658716.0           76463420.0              60100.0   \n",
       "2016-11-16     762240224.0           19212300.0              40200.0   \n",
       "2016-11-17     747158376.0           18169994.0              18200.0   \n",
       "2016-11-18     736288545.0           19232405.0              86122.0   \n",
       "2016-11-21     770366512.0           82600675.0              49800.0   \n",
       "\n",
       "            margin_repayment  short_balance_quantity  \\\n",
       "2016-11-15        53122540.0                454859.0   \n",
       "2016-11-16        31630792.0                447059.0   \n",
       "2016-11-17        33251842.0                428359.0   \n",
       "2016-11-18        30102236.0                509181.0   \n",
       "2016-11-21        48522708.0                433459.0   \n",
       "\n",
       "            short_repayment_quantity  short_balance  total_balance  \n",
       "2016-11-15                   97700.0            NaN            NaN  \n",
       "2016-11-16                   48000.0            NaN            NaN  \n",
       "2016-11-17                   36900.0            NaN            NaN  \n",
       "2016-11-18                    5300.0            NaN            NaN  \n",
       "2016-11-21                  125522.0            NaN            NaN  "
      ]
     },
     "execution_count": 20,
     "metadata": {},
     "output_type": "execute_result"
    }
   ],
   "source": [
    "DP.minor_xs('600104.XSHG').head()"
   ]
  },
  {
   "cell_type": "code",
   "execution_count": 21,
   "metadata": {
    "collapsed": false
   },
   "outputs": [
    {
     "data": {
      "text/html": [
       "<div>\n",
       "<table border=\"1\" class=\"dataframe\">\n",
       "  <thead>\n",
       "    <tr style=\"text-align: right;\">\n",
       "      <th></th>\n",
       "      <th>margin_balance</th>\n",
       "      <th>buy_on_margin_value</th>\n",
       "      <th>short_sell_quantity</th>\n",
       "      <th>margin_repayment</th>\n",
       "      <th>short_balance_quantity</th>\n",
       "      <th>short_repayment_quantity</th>\n",
       "      <th>short_balance</th>\n",
       "      <th>total_balance</th>\n",
       "    </tr>\n",
       "  </thead>\n",
       "  <tbody>\n",
       "    <tr>\n",
       "      <th>600104.XSHG</th>\n",
       "      <td>1.186395e+09</td>\n",
       "      <td>307135496.0</td>\n",
       "      <td>409388.0</td>\n",
       "      <td>302253997.0</td>\n",
       "      <td>900727.0</td>\n",
       "      <td>55900.0</td>\n",
       "      <td>NaN</td>\n",
       "      <td>NaN</td>\n",
       "    </tr>\n",
       "    <tr>\n",
       "      <th>601169.XSHG</th>\n",
       "      <td>1.096382e+09</td>\n",
       "      <td>33007399.0</td>\n",
       "      <td>1546986.0</td>\n",
       "      <td>29665076.0</td>\n",
       "      <td>4450945.0</td>\n",
       "      <td>82500.0</td>\n",
       "      <td>NaN</td>\n",
       "      <td>NaN</td>\n",
       "    </tr>\n",
       "    <tr>\n",
       "      <th>600100.XSHG</th>\n",
       "      <td>3.646836e+09</td>\n",
       "      <td>215190458.0</td>\n",
       "      <td>5700.0</td>\n",
       "      <td>193586327.0</td>\n",
       "      <td>237000.0</td>\n",
       "      <td>42300.0</td>\n",
       "      <td>NaN</td>\n",
       "      <td>NaN</td>\n",
       "    </tr>\n",
       "    <tr>\n",
       "      <th>600958.XSHG</th>\n",
       "      <td>NaN</td>\n",
       "      <td>NaN</td>\n",
       "      <td>NaN</td>\n",
       "      <td>NaN</td>\n",
       "      <td>NaN</td>\n",
       "      <td>NaN</td>\n",
       "      <td>NaN</td>\n",
       "      <td>NaN</td>\n",
       "    </tr>\n",
       "    <tr>\n",
       "      <th>600036.XSHG</th>\n",
       "      <td>2.239652e+09</td>\n",
       "      <td>118715108.0</td>\n",
       "      <td>911100.0</td>\n",
       "      <td>72650988.0</td>\n",
       "      <td>2630035.0</td>\n",
       "      <td>191039.0</td>\n",
       "      <td>NaN</td>\n",
       "      <td>NaN</td>\n",
       "    </tr>\n",
       "  </tbody>\n",
       "</table>\n",
       "</div>"
      ],
      "text/plain": [
       "             margin_balance  buy_on_margin_value  short_sell_quantity  \\\n",
       "600104.XSHG    1.186395e+09          307135496.0             409388.0   \n",
       "601169.XSHG    1.096382e+09           33007399.0            1546986.0   \n",
       "600100.XSHG    3.646836e+09          215190458.0               5700.0   \n",
       "600958.XSHG             NaN                  NaN                  NaN   \n",
       "600036.XSHG    2.239652e+09          118715108.0             911100.0   \n",
       "\n",
       "             margin_repayment  short_balance_quantity  \\\n",
       "600104.XSHG       302253997.0                900727.0   \n",
       "601169.XSHG        29665076.0               4450945.0   \n",
       "600100.XSHG       193586327.0                237000.0   \n",
       "600958.XSHG               NaN                     NaN   \n",
       "600036.XSHG        72650988.0               2630035.0   \n",
       "\n",
       "             short_repayment_quantity  short_balance  total_balance  \n",
       "600104.XSHG                   55900.0            NaN            NaN  \n",
       "601169.XSHG                   82500.0            NaN            NaN  \n",
       "600100.XSHG                   42300.0            NaN            NaN  \n",
       "600958.XSHG                       NaN            NaN            NaN  \n",
       "600036.XSHG                  191039.0            NaN            NaN  "
      ]
     },
     "execution_count": 21,
     "metadata": {},
     "output_type": "execute_result"
    }
   ],
   "source": [
    "DP.major_xs('2016-12-01').head()"
   ]
  },
  {
   "cell_type": "markdown",
   "metadata": {},
   "source": [
    "现在正式进入正题：找出融资余额三连涨的股票：\n",
    "   * 1.全部股票拿出来\n",
    "   * 2.拿两融数据\n",
    "   * 3.融资余额连涨3天的股票"
   ]
  },
  {
   "cell_type": "code",
   "execution_count": 26,
   "metadata": {
    "collapsed": false
   },
   "outputs": [
    {
     "data": {
      "text/plain": [
       "['000671.XSHE', '600151.XSHG', '000333.XSHE', '002437.XSHE', '600535.XSHG']"
      ]
     },
     "execution_count": 26,
     "metadata": {},
     "output_type": "execute_result"
    }
   ],
   "source": [
    "stocks=list(all_instruments(type='CS')['order_book_id'])\n",
    "threeup=[]\n",
    "for stock in stocks:\n",
    "    margin_balance=get_securities_margin(stock)['margin_balance']\n",
    "    if margin_balance[-3]>margin_balance[-2] and margin_balance[-2]>margin_balance[-1]:\n",
    "        threeup.append(stock)\n",
    "threeup[:5]"
   ]
  },
  {
   "cell_type": "markdown",
   "metadata": {},
   "source": [
    "#### 截至12月6日，有378只股票是融资余额三连涨的呢~剩下的各位可以去摸索一下啦！"
   ]
  },
  {
   "cell_type": "code",
   "execution_count": 31,
   "metadata": {
    "collapsed": false
   },
   "outputs": [],
   "source": [
    "balance=get_securities_margin('000001.XSHE')"
   ]
  },
  {
   "cell_type": "code",
   "execution_count": 32,
   "metadata": {
    "collapsed": false
   },
   "outputs": [
    {
     "data": {
      "text/plain": [
       "Index(['margin_balance', 'buy_on_margin_value', 'short_sell_quantity',\n",
       "       'margin_repayment', 'short_balance_quantity',\n",
       "       'short_repayment_quantity', 'short_balance', 'total_balance'],\n",
       "      dtype='object')"
      ]
     },
     "execution_count": 32,
     "metadata": {},
     "output_type": "execute_result"
    }
   ],
   "source": [
    "balance.columns"
   ]
  },
  {
   "cell_type": "code",
   "execution_count": 38,
   "metadata": {
    "collapsed": false
   },
   "outputs": [
    {
     "data": {
      "text/plain": [
       "(24,)"
      ]
     },
     "execution_count": 38,
     "metadata": {},
     "output_type": "execute_result"
    }
   ],
   "source": [
    "df=balance['margin_balance']\n",
    "df.shape"
   ]
  },
  {
   "cell_type": "markdown",
   "metadata": {},
   "source": [
    "## 连续n天上涨 得到n天移动窗口，保证这n格窗口是上升趋势"
   ]
  },
  {
   "cell_type": "code",
   "execution_count": 57,
   "metadata": {
    "collapsed": false
   },
   "outputs": [
    {
     "data": {
      "text/plain": [
       "[0, 1, 0, 1, 0, 0, 0, 0, 1, 0, 0, 0, 0, 0, 0, 1, 0, 0, 0, 0, 0, 1, 0, 0]"
      ]
     },
     "execution_count": 57,
     "metadata": {},
     "output_type": "execute_result"
    }
   ],
   "source": [
    "n=2\n",
    "df=np.array(df)\n",
    "d2=[df[i:i+n] for i in range(len(df)-n)]\n",
    "re=[((i[1:]-i[:-1])>0).prod() for i in d2]\n",
    "for i in range(n):\n",
    "  re.append(0)\n",
    "#re=[re.append(0) for i in range(n)]\n",
    "re"
   ]
  },
  {
   "cell_type": "code",
   "execution_count": 72,
   "metadata": {
    "collapsed": false
   },
   "outputs": [
    {
     "data": {
      "text/plain": [
       "array([  3.19462340e+09,   3.23873481e+09,   3.23139237e+09,\n",
       "         3.18584928e+09,   3.00064359e+09])"
      ]
     },
     "execution_count": 72,
     "metadata": {},
     "output_type": "execute_result"
    }
   ],
   "source": [
    "df[np.array(re,dtype=bool)]"
   ]
  }
 ],
 "metadata": {
  "kernelspec": {
   "display_name": "Python 3",
   "language": "python",
   "name": "python3"
  },
  "language_info": {
   "codemirror_mode": {
    "name": "ipython",
    "version": 3
   },
   "file_extension": ".py",
   "mimetype": "text/x-python",
   "name": "python",
   "nbconvert_exporter": "python",
   "pygments_lexer": "ipython3",
   "version": "3.5.4"
  }
 },
 "nbformat": 4,
 "nbformat_minor": 1
}
