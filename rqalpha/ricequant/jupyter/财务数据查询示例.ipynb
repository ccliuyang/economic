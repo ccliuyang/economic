{
 "cells": [
  {
   "cell_type": "code",
   "execution_count": 1,
   "metadata": {
    "collapsed": true
   },
   "outputs": [],
   "source": [
    "import pandas as pd\n",
    "import numpy as np"
   ]
  },
  {
   "cell_type": "markdown",
   "metadata": {},
   "source": [
    "   首先我们最直接的就是查看我们右上角帮助里的pythonAPI文档， 里面的阐述的比较具体。\n",
    "今天我们先用notebook实现这几点：\n",
    "## 1 直接通过财务指标选取出来符合要求的股票（从单一到复合）\n",
    "## 2 在已有的股票池中选取符合要求的股票\n",
    "#### 我们先了解一下get_fundamentals()里的几个参数\n",
    "   * query 是你要去查找的财务数据\n",
    "   * entry_date 开始查找的日期，默认是NONE，在Notebook里是必须要填写的。在策略里是你回测的起始日期\n",
    "   * interval 查询频率，比如说5天一查，5年一查\n",
    "   * report_quarter 返回的时候是否返回是哪一个季度的\n"
   ]
  },
  {
   "cell_type": "code",
   "execution_count": 2,
   "metadata": {
    "collapsed": false
   },
   "outputs": [],
   "source": [
    "df = get_fundamentals(\n",
    "    query(\n",
    "        #在这里选取你要你要的财务指标，详情参考财务数据文档，我们先在这里按照市值大小来选取，market_cap\n",
    "        fundamentals.eod_derivative_indicator.market_cap\n",
    "    ),entry_date='2015-06-01',interval='5y'\n",
    ")"
   ]
  },
  {
   "cell_type": "code",
   "execution_count": 3,
   "metadata": {
    "collapsed": false
   },
   "outputs": [
    {
     "data": {
      "text/plain": [
       "Index(['002481.XSHE', '000955.XSHE', '600215.XSHG', '603818.XSHG',\n",
       "       '000540.XSHE', '000953.XSHE', '300168.XSHE', '600097.XSHG',\n",
       "       '000046.XSHE', '002697.XSHE',\n",
       "       ...\n",
       "       '603123.XSHG', '600403.XSHG', '600525.XSHG', '300374.XSHE',\n",
       "       '002202.XSHE', '002726.XSHE', '000958.XSHE', '002193.XSHE',\n",
       "       '002187.XSHE', '600696.XSHG'],\n",
       "      dtype='object', length=2748)"
      ]
     },
     "execution_count": 3,
     "metadata": {},
     "output_type": "execute_result"
    }
   ],
   "source": [
    "df.minor_axis"
   ]
  },
  {
   "cell_type": "code",
   "execution_count": 4,
   "metadata": {
    "collapsed": false
   },
   "outputs": [
    {
     "data": {
      "text/plain": [
       "DatetimeIndex(['2015-06-01', '2014-05-30', '2013-05-30', '2012-05-30',\n",
       "               '2011-05-30'],\n",
       "              dtype='datetime64[ns]', freq=None)"
      ]
     },
     "execution_count": 4,
     "metadata": {},
     "output_type": "execute_result"
    }
   ],
   "source": [
    "df.major_axis"
   ]
  },
  {
   "cell_type": "markdown",
   "metadata": {},
   "source": [
    "#### 注意这里是返回的是一个Panel,因为我们查询的是一个时间，股票代码，还有市值的一个三维的集，所以一定是会返回一个pannel那我们如果要返回一个dataFrame，那么我们就要减少一个维度，比如说，我们要的是300281.XSHE这一只股票"
   ]
  },
  {
   "cell_type": "code",
   "execution_count": 5,
   "metadata": {
    "collapsed": false
   },
   "outputs": [
    {
     "data": {
      "text/html": [
       "<div>\n",
       "<table border=\"1\" class=\"dataframe\">\n",
       "  <thead>\n",
       "    <tr style=\"text-align: right;\">\n",
       "      <th></th>\n",
       "      <th>market_cap</th>\n",
       "    </tr>\n",
       "  </thead>\n",
       "  <tbody>\n",
       "    <tr>\n",
       "      <th>2015-06-01</th>\n",
       "      <td>4.80118e+09</td>\n",
       "    </tr>\n",
       "    <tr>\n",
       "      <th>2014-05-30</th>\n",
       "      <td>1.5136e+09</td>\n",
       "    </tr>\n",
       "    <tr>\n",
       "      <th>2013-05-30</th>\n",
       "      <td>1.314e+09</td>\n",
       "    </tr>\n",
       "    <tr>\n",
       "      <th>2012-05-30</th>\n",
       "      <td>1.0758e+09</td>\n",
       "    </tr>\n",
       "    <tr>\n",
       "      <th>2011-05-30</th>\n",
       "      <td>NaN</td>\n",
       "    </tr>\n",
       "  </tbody>\n",
       "</table>\n",
       "</div>"
      ],
      "text/plain": [
       "             market_cap\n",
       "2015-06-01  4.80118e+09\n",
       "2014-05-30   1.5136e+09\n",
       "2013-05-30    1.314e+09\n",
       "2012-05-30   1.0758e+09\n",
       "2011-05-30          NaN"
      ]
     },
     "execution_count": 5,
     "metadata": {},
     "output_type": "execute_result"
    }
   ],
   "source": [
    "df.minor_xs('300281.XSHE')"
   ]
  },
  {
   "cell_type": "code",
   "execution_count": 6,
   "metadata": {
    "collapsed": false
   },
   "outputs": [
    {
     "data": {
      "text/plain": [
       "array(['002481.XSHE', '000955.XSHE', '600215.XSHG', ..., '002193.XSHE',\n",
       "       '002187.XSHE', '600696.XSHG'], dtype=object)"
      ]
     },
     "execution_count": 6,
     "metadata": {},
     "output_type": "execute_result"
    }
   ],
   "source": [
    "stocks=np.array(df.minor_axis)\n",
    "stocks"
   ]
  },
  {
   "cell_type": "markdown",
   "metadata": {},
   "source": [
    "#### 同理，我们要获取某一个时间的话就是用df.major_xs('2014-05-30')\n",
    "这里，我们终于获得了API里面写的dataFrame了....即使很心塞，但是不得不承认完善的情况下是一定是三维的。\n",
    "那么接下来我们通过财务数据最终是要选取股票出来，那么其实我们就是要获取到查询出来的这个panel里的minor_axis"
   ]
  },
  {
   "cell_type": "markdown",
   "metadata": {},
   "source": [
    "这里我们使用numpy里的array来保存一下这个股票列表。（因为array保存的是相同的数据类型，list可以不是）\n",
    "顺带一提我们经常在社区里看到的策略都有context.stocks = 一个DataFrame.columns.values，因为这是二维dataFrame获取的是列的值就是股票列表了\n",
    "\n",
    "#### 下面我们直接来一个API里复合查询的demo：\n",
    "   * filter方法是可以让你去筛选指标的，比如说demo里就是筛选pe大于55小于60之间\n",
    "   * .order_by方法是一个排序的方法，demo里是用revenue来进行一个降序排列 desc()是降序，asc()是升序。\n",
    "   * .limit方式是限制拿到数据的数量，因为最终你可能只需要排名靠前的10只"
   ]
  },
  {
   "cell_type": "code",
   "execution_count": 7,
   "metadata": {
    "collapsed": true
   },
   "outputs": [],
   "source": [
    "fundamental_df = get_fundamentals(\n",
    "        query(\n",
    "            fundamentals.income_statement.revenue, fundamentals.eod_derivative_indicator.pe_ratio\n",
    "        ).filter(\n",
    "            fundamentals.eod_derivative_indicator.pe_ratio > 55\n",
    "        ).filter(\n",
    "            fundamentals.eod_derivative_indicator.pe_ratio < 60\n",
    "        ).order_by(\n",
    "            fundamentals.income_statement.revenue.desc()\n",
    "        ).limit(\n",
    "            10\n",
    "        ),entry_date='2016-04-01',interval='5y'  #策略里填写如果只需要股票池，那么entry_date和interval是不需要填写的，但是notebook中是要的\n",
    "    )\n"
   ]
  },
  {
   "cell_type": "code",
   "execution_count": 8,
   "metadata": {
    "collapsed": false
   },
   "outputs": [],
   "source": [
    "df=get_fundamentals(query(fundamentals.eod_derivative_indicator.announce_date,fundamentals.eod_derivative_indicator.pe_ratio).\\\n",
    "                    filter(fundamentals.eod_derivative_indicator.pb_ratio<50).order_by(fundamentals.eod_derivative_indicator.pb_ratio).limit(10),\\\n",
    "                   entry_date='2014-04-01',interval='1y')\n"
   ]
  },
  {
   "cell_type": "code",
   "execution_count": 9,
   "metadata": {
    "collapsed": false
   },
   "outputs": [
    {
     "data": {
      "text/plain": [
       "<class 'pandas.core.panel.Panel'>\n",
       "Dimensions: 2 (items) x 1 (major_axis) x 10 (minor_axis)\n",
       "Items axis: ANNOUNCE_DATE to pe_ratio\n",
       "Major_axis axis: 2014-04-01 00:00:00 to 2014-04-01 00:00:00\n",
       "Minor_axis axis: 000898.XSHE to 600005.XSHG"
      ]
     },
     "execution_count": 9,
     "metadata": {},
     "output_type": "execute_result"
    }
   ],
   "source": [
    "df"
   ]
  },
  {
   "cell_type": "code",
   "execution_count": 10,
   "metadata": {
    "collapsed": false
   },
   "outputs": [
    {
     "data": {
      "text/html": [
       "<div>\n",
       "<table border=\"1\" class=\"dataframe\">\n",
       "  <thead>\n",
       "    <tr style=\"text-align: right;\">\n",
       "      <th></th>\n",
       "      <th>000898.XSHE</th>\n",
       "      <th>000709.XSHE</th>\n",
       "      <th>600308.XSHG</th>\n",
       "      <th>000932.XSHE</th>\n",
       "      <th>600808.XSHG</th>\n",
       "      <th>600219.XSHG</th>\n",
       "      <th>000761.XSHE</th>\n",
       "      <th>000825.XSHE</th>\n",
       "      <th>600269.XSHG</th>\n",
       "      <th>600005.XSHG</th>\n",
       "    </tr>\n",
       "  </thead>\n",
       "  <tbody>\n",
       "    <tr>\n",
       "      <th>2014-04-01</th>\n",
       "      <td>2.01403e+07</td>\n",
       "      <td>2.0131e+07</td>\n",
       "      <td>2.0131e+07</td>\n",
       "      <td>2.01403e+07</td>\n",
       "      <td>2.01403e+07</td>\n",
       "      <td>2.01403e+07</td>\n",
       "      <td>2.0131e+07</td>\n",
       "      <td>2.0131e+07</td>\n",
       "      <td>2.01404e+07</td>\n",
       "      <td>2.0131e+07</td>\n",
       "    </tr>\n",
       "  </tbody>\n",
       "</table>\n",
       "</div>"
      ],
      "text/plain": [
       "            000898.XSHE 000709.XSHE 600308.XSHG  000932.XSHE  600808.XSHG  \\\n",
       "2014-04-01  2.01403e+07  2.0131e+07  2.0131e+07  2.01403e+07  2.01403e+07   \n",
       "\n",
       "            600219.XSHG 000761.XSHE 000825.XSHE  600269.XSHG 600005.XSHG  \n",
       "2014-04-01  2.01403e+07  2.0131e+07  2.0131e+07  2.01404e+07  2.0131e+07  "
      ]
     },
     "execution_count": 10,
     "metadata": {},
     "output_type": "execute_result"
    }
   ],
   "source": [
    "df.iloc[0]"
   ]
  },
  {
   "cell_type": "code",
   "execution_count": 11,
   "metadata": {
    "collapsed": false
   },
   "outputs": [
    {
     "data": {
      "text/plain": [
       "(Index(['ANNOUNCE_DATE', 'pe_ratio'], dtype='object'),\n",
       " DatetimeIndex(['2014-04-01'], dtype='datetime64[ns]', freq=None),\n",
       " Index(['000898.XSHE', '000709.XSHE', '600308.XSHG', '000932.XSHE',\n",
       "        '600808.XSHG', '600219.XSHG', '000761.XSHE', '000825.XSHE',\n",
       "        '600269.XSHG', '600005.XSHG'],\n",
       "       dtype='object'))"
      ]
     },
     "execution_count": 11,
     "metadata": {},
     "output_type": "execute_result"
    }
   ],
   "source": [
    "df.items,df.major_axis,df.minor_axis"
   ]
  },
  {
   "cell_type": "code",
   "execution_count": 12,
   "metadata": {
    "collapsed": false
   },
   "outputs": [
    {
     "data": {
      "text/plain": [
       "<class 'pandas.core.panel.Panel'>\n",
       "Dimensions: 2 (items) x 1 (major_axis) x 10 (minor_axis)\n",
       "Items axis: ANNOUNCE_DATE to pe_ratio\n",
       "Major_axis axis: 2014-04-01 00:00:00 to 2014-04-01 00:00:00\n",
       "Minor_axis axis: 000898.XSHE to 600005.XSHG"
      ]
     },
     "execution_count": 12,
     "metadata": {},
     "output_type": "execute_result"
    }
   ],
   "source": [
    "df"
   ]
  },
  {
   "cell_type": "code",
   "execution_count": 13,
   "metadata": {
    "collapsed": false
   },
   "outputs": [
    {
     "data": {
      "text/html": [
       "<div>\n",
       "<table border=\"1\" class=\"dataframe\">\n",
       "  <thead>\n",
       "    <tr style=\"text-align: right;\">\n",
       "      <th></th>\n",
       "      <th>ANNOUNCE_DATE</th>\n",
       "      <th>pe_ratio</th>\n",
       "    </tr>\n",
       "  </thead>\n",
       "  <tbody>\n",
       "    <tr>\n",
       "      <th>000898.XSHE</th>\n",
       "      <td>2.01403e+07</td>\n",
       "      <td>27.248</td>\n",
       "    </tr>\n",
       "    <tr>\n",
       "      <th>000709.XSHE</th>\n",
       "      <td>2.0131e+07</td>\n",
       "      <td>NaN</td>\n",
       "    </tr>\n",
       "    <tr>\n",
       "      <th>600308.XSHG</th>\n",
       "      <td>2.0131e+07</td>\n",
       "      <td>55.338</td>\n",
       "    </tr>\n",
       "    <tr>\n",
       "      <th>000932.XSHE</th>\n",
       "      <td>2.01403e+07</td>\n",
       "      <td>51.6005</td>\n",
       "    </tr>\n",
       "    <tr>\n",
       "      <th>600808.XSHG</th>\n",
       "      <td>2.01403e+07</td>\n",
       "      <td>79.8378</td>\n",
       "    </tr>\n",
       "  </tbody>\n",
       "</table>\n",
       "</div>"
      ],
      "text/plain": [
       "            ANNOUNCE_DATE pe_ratio\n",
       "000898.XSHE   2.01403e+07   27.248\n",
       "000709.XSHE    2.0131e+07      NaN\n",
       "600308.XSHG    2.0131e+07   55.338\n",
       "000932.XSHE   2.01403e+07  51.6005\n",
       "600808.XSHG   2.01403e+07  79.8378"
      ]
     },
     "execution_count": 13,
     "metadata": {},
     "output_type": "execute_result"
    }
   ],
   "source": [
    "df.iloc[:,0].head()"
   ]
  },
  {
   "cell_type": "markdown",
   "metadata": {},
   "source": [
    "## fundamentals 方法"
   ]
  },
  {
   "cell_type": "raw",
   "metadata": {},
   "source": [
    "'announce_date',\n",
    " 'balance_sheet',\n",
    " 'cash_flow',\n",
    " 'cash_flow_statement',\n",
    " 'eod_derivative_indicator',\n",
    " 'financial_indicator',\n",
    " 'fundamental_base',\n",
    " 'income_statement',\n",
    " 'stockcode']"
   ]
  },
  {
   "cell_type": "markdown",
   "metadata": {},
   "source": [
    "#### 这里依然是一个panel，那么我们先把股票池筛选出来,跟上面一样我们用一个array来存\n"
   ]
  },
  {
   "cell_type": "code",
   "execution_count": 14,
   "metadata": {
    "collapsed": false
   },
   "outputs": [
    {
     "data": {
      "text/plain": [
       "array(['601866.XSHG', '600704.XSHG', '601727.XSHG', '600011.XSHG',\n",
       "       '000626.XSHE', '600998.XSHG', '600297.XSHG', '600875.XSHG',\n",
       "       '601808.XSHG'], dtype=object)"
      ]
     },
     "execution_count": 14,
     "metadata": {},
     "output_type": "execute_result"
    }
   ],
   "source": [
    "stocks = np.array(fundamental_df.minor_axis)\n",
    "stocks"
   ]
  },
  {
   "cell_type": "markdown",
   "metadata": {},
   "source": [
    "到这里，我们已经把第一步 从选财务数据中选出符合我们要求的股票完成了。\n",
    "#### 接下来进行第二步，从我们已有的股票池里选取符合财务数据要求的。\n",
    "   * 1.我们可以自己维护一个股票，比如在一开始定义context.stocks=['XXXXXX.XSHG',‘XXXX.XSHE’]你想要去查询的股票同样，这里我们直接选取某一个概念里的所有股票去找到里面符合我们财务数据要求的股票\n",
    "      "
   ]
  },
  {
   "cell_type": "code",
   "execution_count": 38,
   "metadata": {
    "collapsed": false
   },
   "outputs": [
    {
     "data": {
      "text/plain": [
       "['603421.XSHG',\n",
       " '603843.XSHG',\n",
       " '603701.XSHG',\n",
       " '603016.XSHG',\n",
       " '603098.XSHG',\n",
       " '603888.XSHG',\n",
       " '603033.XSHG',\n",
       " '603389.XSHG',\n",
       " '601966.XSHG',\n",
       " '603101.XSHG',\n",
       " '603319.XSHG',\n",
       " '603778.XSHG',\n",
       " '603861.XSHG',\n",
       " '603726.XSHG',\n",
       " '603878.XSHG',\n",
       " '603159.XSHG',\n",
       " '603928.XSHG',\n",
       " '603416.XSHG',\n",
       " '603959.XSHG',\n",
       " '603716.XSHG',\n",
       " '603887.XSHG',\n",
       " '603258.XSHG',\n",
       " '603608.XSHG',\n",
       " '603569.XSHG',\n",
       " '603028.XSHG',\n",
       " '603322.XSHG',\n",
       " '601500.XSHG',\n",
       " '603859.XSHG',\n",
       " '600977.XSHG',\n",
       " '603189.XSHG',\n",
       " '603007.XSHG',\n",
       " '603663.XSHG',\n",
       " '603069.XSHG',\n",
       " '603868.XSHG',\n",
       " '600909.XSHG',\n",
       " '601882.XSHG',\n",
       " '603738.XSHG',\n",
       " '601611.XSHG',\n",
       " '603313.XSHG',\n",
       " '603160.XSHG',\n",
       " '603819.XSHG',\n",
       " '601127.XSHG',\n",
       " '601997.XSHG',\n",
       " '603816.XSHG',\n",
       " '603060.XSHG',\n",
       " '603660.XSHG',\n",
       " '600919.XSHG',\n",
       " '603909.XSHG',\n",
       " '600908.XSHG',\n",
       " '603900.XSHG',\n",
       " '603377.XSHG',\n",
       " '603777.XSHG',\n",
       " '603031.XSHG',\n",
       " '603822.XSHG',\n",
       " '603090.XSHG',\n",
       " '603520.XSHG',\n",
       " '603067.XSHG',\n",
       " '601900.XSHG',\n",
       " '600936.XSHG',\n",
       " '603323.XSHG',\n",
       " '603667.XSHG',\n",
       " '603585.XSHG',\n",
       " '603203.XSHG',\n",
       " '603515.XSHG',\n",
       " '603990.XSHG',\n",
       " '603131.XSHG',\n",
       " '603528.XSHG',\n",
       " '600926.XSHG',\n",
       " '603036.XSHG',\n",
       " '603299.XSHG',\n",
       " '603958.XSHG',\n",
       " '603798.XSHG',\n",
       " '603633.XSHG',\n",
       " '603336.XSHG',\n",
       " '603029.XSHG',\n",
       " '603823.XSHG',\n",
       " '601229.XSHG',\n",
       " '601128.XSHG',\n",
       " '603658.XSHG',\n",
       " '603556.XSHG',\n",
       " '603339.XSHG',\n",
       " '603559.XSHG',\n",
       " '603727.XSHG',\n",
       " '603779.XSHG',\n",
       " '603858.XSHG',\n",
       " '601163.XSHG',\n",
       " '603987.XSHG',\n",
       " '603393.XSHG',\n",
       " '603577.XSHG',\n",
       " '601595.XSHG',\n",
       " '600996.XSHG',\n",
       " '603986.XSHG',\n",
       " '601811.XSHG',\n",
       " '603027.XSHG',\n",
       " '603708.XSHG',\n",
       " '601020.XSHG',\n",
       " '603058.XSHG',\n",
       " '603977.XSHG',\n",
       " '603737.XSHG',\n",
       " '603919.XSHG']"
      ]
     },
     "execution_count": 38,
     "metadata": {},
     "output_type": "execute_result"
    }
   ],
   "source": [
    "stocks"
   ]
  },
  {
   "cell_type": "code",
   "execution_count": 56,
   "metadata": {
    "collapsed": false
   },
   "outputs": [
    {
     "data": {
      "text/html": [
       "<div>\n",
       "<table border=\"1\" class=\"dataframe\">\n",
       "  <thead>\n",
       "    <tr style=\"text-align: right;\">\n",
       "      <th></th>\n",
       "      <th>abbrev_symbol</th>\n",
       "      <th>board_type</th>\n",
       "      <th>concept_names</th>\n",
       "      <th>de_listed_date</th>\n",
       "      <th>exchange</th>\n",
       "      <th>industry_code</th>\n",
       "      <th>industry_name</th>\n",
       "      <th>listed_date</th>\n",
       "      <th>order_book_id</th>\n",
       "      <th>round_lot</th>\n",
       "      <th>sector_code</th>\n",
       "      <th>sector_code_name</th>\n",
       "      <th>special_type</th>\n",
       "      <th>status</th>\n",
       "      <th>symbol</th>\n",
       "      <th>type</th>\n",
       "    </tr>\n",
       "  </thead>\n",
       "  <tbody>\n",
       "    <tr>\n",
       "      <th>0</th>\n",
       "      <td>HTWY</td>\n",
       "      <td>MainBoard</td>\n",
       "      <td>null</td>\n",
       "      <td>0000-00-00</td>\n",
       "      <td>XSHG</td>\n",
       "      <td>C14</td>\n",
       "      <td>食品制造业</td>\n",
       "      <td>2014-02-11</td>\n",
       "      <td>603288.XSHG</td>\n",
       "      <td>100.0</td>\n",
       "      <td>ConsumerStaples</td>\n",
       "      <td>必需消费品</td>\n",
       "      <td>Normal</td>\n",
       "      <td>Active</td>\n",
       "      <td>海天味业</td>\n",
       "      <td>CS</td>\n",
       "    </tr>\n",
       "    <tr>\n",
       "      <th>1</th>\n",
       "      <td>SDHH</td>\n",
       "      <td>MainBoard</td>\n",
       "      <td>黄河三角|基因概念|海水淡化|油气改革</td>\n",
       "      <td>0000-00-00</td>\n",
       "      <td>XSHE</td>\n",
       "      <td>C26</td>\n",
       "      <td>化学原料及化学制品制造业</td>\n",
       "      <td>1998-07-03</td>\n",
       "      <td>000822.XSHE</td>\n",
       "      <td>100.0</td>\n",
       "      <td>Materials</td>\n",
       "      <td>原材料</td>\n",
       "      <td>Normal</td>\n",
       "      <td>Active</td>\n",
       "      <td>山东海化</td>\n",
       "      <td>CS</td>\n",
       "    </tr>\n",
       "    <tr>\n",
       "      <th>2</th>\n",
       "      <td>LKXC</td>\n",
       "      <td>GEM</td>\n",
       "      <td>雄安新区|铁路基建</td>\n",
       "      <td>0000-00-00</td>\n",
       "      <td>XSHE</td>\n",
       "      <td>C26</td>\n",
       "      <td>化学原料及化学制品制造业</td>\n",
       "      <td>2015-04-23</td>\n",
       "      <td>300446.XSHE</td>\n",
       "      <td>100.0</td>\n",
       "      <td>Materials</td>\n",
       "      <td>原材料</td>\n",
       "      <td>Normal</td>\n",
       "      <td>Active</td>\n",
       "      <td>乐凯新材</td>\n",
       "      <td>CS</td>\n",
       "    </tr>\n",
       "    <tr>\n",
       "      <th>3</th>\n",
       "      <td>BYYS</td>\n",
       "      <td>MainBoard</td>\n",
       "      <td>null</td>\n",
       "      <td>0000-00-00</td>\n",
       "      <td>XSHG</td>\n",
       "      <td>C32</td>\n",
       "      <td>有色金属冶炼和压延加工业</td>\n",
       "      <td>2017-02-15</td>\n",
       "      <td>601212.XSHG</td>\n",
       "      <td>100.0</td>\n",
       "      <td>Materials</td>\n",
       "      <td>原材料</td>\n",
       "      <td>Normal</td>\n",
       "      <td>Active</td>\n",
       "      <td>白银有色</td>\n",
       "      <td>CS</td>\n",
       "    </tr>\n",
       "    <tr>\n",
       "      <th>4</th>\n",
       "      <td>SSGF</td>\n",
       "      <td>MainBoard</td>\n",
       "      <td>新三板|低碳经济|锂电池|分拆上市|特斯拉|民营银行|创投概念|稀缺资源|新能源</td>\n",
       "      <td>0000-00-00</td>\n",
       "      <td>XSHG</td>\n",
       "      <td>C38</td>\n",
       "      <td>电气机械及器材制造业</td>\n",
       "      <td>1996-01-30</td>\n",
       "      <td>600884.XSHG</td>\n",
       "      <td>100.0</td>\n",
       "      <td>InformationTechnology</td>\n",
       "      <td>信息技术</td>\n",
       "      <td>Normal</td>\n",
       "      <td>Active</td>\n",
       "      <td>杉杉股份</td>\n",
       "      <td>CS</td>\n",
       "    </tr>\n",
       "  </tbody>\n",
       "</table>\n",
       "</div>"
      ],
      "text/plain": [
       "  abbrev_symbol board_type                             concept_names  \\\n",
       "0          HTWY  MainBoard                                      null   \n",
       "1          SDHH  MainBoard                       黄河三角|基因概念|海水淡化|油气改革   \n",
       "2          LKXC        GEM                                 雄安新区|铁路基建   \n",
       "3          BYYS  MainBoard                                      null   \n",
       "4          SSGF  MainBoard  新三板|低碳经济|锂电池|分拆上市|特斯拉|民营银行|创投概念|稀缺资源|新能源   \n",
       "\n",
       "  de_listed_date exchange industry_code industry_name listed_date  \\\n",
       "0     0000-00-00     XSHG           C14         食品制造业  2014-02-11   \n",
       "1     0000-00-00     XSHE           C26  化学原料及化学制品制造业  1998-07-03   \n",
       "2     0000-00-00     XSHE           C26  化学原料及化学制品制造业  2015-04-23   \n",
       "3     0000-00-00     XSHG           C32  有色金属冶炼和压延加工业  2017-02-15   \n",
       "4     0000-00-00     XSHG           C38    电气机械及器材制造业  1996-01-30   \n",
       "\n",
       "  order_book_id  round_lot            sector_code sector_code_name  \\\n",
       "0   603288.XSHG      100.0        ConsumerStaples            必需消费品   \n",
       "1   000822.XSHE      100.0              Materials              原材料   \n",
       "2   300446.XSHE      100.0              Materials              原材料   \n",
       "3   601212.XSHG      100.0              Materials              原材料   \n",
       "4   600884.XSHG      100.0  InformationTechnology             信息技术   \n",
       "\n",
       "  special_type  status symbol type  \n",
       "0       Normal  Active   海天味业   CS  \n",
       "1       Normal  Active   山东海化   CS  \n",
       "2       Normal  Active   乐凯新材   CS  \n",
       "3       Normal  Active   白银有色   CS  \n",
       "4       Normal  Active   杉杉股份   CS  "
      ]
     },
     "execution_count": 56,
     "metadata": {},
     "output_type": "execute_result"
    }
   ],
   "source": [
    "all_instruments(type='CS').head()"
   ]
  },
  {
   "cell_type": "code",
   "execution_count": 57,
   "metadata": {
    "collapsed": false
   },
   "outputs": [
    {
     "data": {
      "text/plain": [
       "Instrument(status='Active', concept_names='基金重仓|外资背景|深圳本地|券商重仓|本月解禁|保险重仓|社保重仓', order_book_id='000001.XSHE', symbol='平安银行', shenwan_industry_code='801780.INDX', special_type='Normal', exchange='XSHE', sector_code_name='金融', de_listed_date='0000-00-00', shenwan_industry_name='银行', abbrev_symbol='PAYH', listed_date='1991-04-03', board_type='MainBoard', sector_code='Financials', industry_code='J66', round_lot=100.0, type='CS', industry_name='货币金融服务')"
      ]
     },
     "execution_count": 57,
     "metadata": {},
     "output_type": "execute_result"
    }
   ],
   "source": [
    "instruments('000001.XSHE')"
   ]
  },
  {
   "cell_type": "code",
   "execution_count": 60,
   "metadata": {
    "collapsed": false
   },
   "outputs": [
    {
     "data": {
      "text/plain": [
       "['000686.XSHE', '600340.XSHG', '600173.XSHG', '000667.XSHE', '600848.XSHG']"
      ]
     },
     "execution_count": 60,
     "metadata": {},
     "output_type": "execute_result"
    }
   ],
   "source": [
    "sector('Financials')[:5]"
   ]
  },
  {
   "cell_type": "code",
   "execution_count": 39,
   "metadata": {
    "collapsed": false
   },
   "outputs": [
    {
     "data": {
      "text/plain": [
       "['603421.XSHG', '603843.XSHG', '603701.XSHG', '603016.XSHG', '603098.XSHG']"
      ]
     },
     "execution_count": 39,
     "metadata": {},
     "output_type": "execute_result"
    }
   ],
   "source": [
    "stocks=concept('次新股')\n",
    "stocks[:5]"
   ]
  },
  {
   "cell_type": "markdown",
   "metadata": {},
   "source": [
    " * 2.拿到之后我们就去查询：先解释一下不同的地方\n",
    "    #### 我们一眼就看到关键的不同在于多了一个.filter()方法，我们是从具体指标的上一级中的方法.stockcode.in(参数)中查询我们传进去的那个股票列表\n",
    "    #### 同样，这里查询的有两个指标，对应的上级也不一样，那么无论我们用fundamentals.eod_derivative_indicator.stockcode.in还是fundamentals.income_statement.stockcode.in返回的结果都一样"
   ]
  },
  {
   "cell_type": "markdown",
   "metadata": {},
   "source": [
    "### 呃，这里为了比较是不是真的成功了的话，我们可以再从整个市场里选取一下同样财务指标的股票，看看数量就知道是不是真的从我们自己定义的股票里选取了"
   ]
  },
  {
   "cell_type": "code",
   "execution_count": null,
   "metadata": {
    "collapsed": false
   },
   "outputs": [],
   "source": [
    "old_fundamental_df = get_fundamentals(\n",
    "        query(\n",
    "            fundamentals.income_statement.revenue,      fundamentals.eod_derivative_indicator.pe_ratio\n",
    "        ).filter(\n",
    "            fundamentals.eod_derivative_indicator.pe_ratio > 5\n",
    "        ).filter(\n",
    "            fundamentals.eod_derivative_indicator.pe_ratio < 300\n",
    "        ),entry_date='2015-04-01'\n",
    "    )\n",
    "stocks2=np.array(old_fundamental_df.minor_axis)\n",
    "len(stocks2)"
   ]
  },
  {
   "cell_type": "markdown",
   "metadata": {},
   "source": [
    "# 搞完正经事情之后，我们来一些骚操作，比如说在.filter()加一些计算，或者是拿不同的指标进行比较！"
   ]
  },
  {
   "cell_type": "code",
   "execution_count": null,
   "metadata": {
    "collapsed": false
   },
   "outputs": [],
   "source": [
    "old_fundamental_df = get_fundamentals(\n",
    "        query(\n",
    "            fundamentals.income_statement.revenue,      fundamentals.eod_derivative_indicator.pe_ratio\n",
    "        ).filter(\n",
    "            fundamentals.eod_derivative_indicator.pe_ratio +10  > 5\n",
    "        ).filter(\n",
    "            fundamentals.eod_derivative_indicator.pe_ratio < 300\n",
    "        ),entry_date='2015-04-01'\n",
    "    )\n",
    "stocks2=np.array(old_fundamental_df.minor_axis)\n",
    "len(stocks2)"
   ]
  },
  {
   "cell_type": "markdown",
   "metadata": {},
   "source": [
    "#### 还真可以........其实用处不大，但是就是想试试。"
   ]
  },
  {
   "cell_type": "code",
   "execution_count": null,
   "metadata": {
    "collapsed": false
   },
   "outputs": [],
   "source": [
    "old_fundamental_df = get_fundamentals(\n",
    "        query(\n",
    "            fundamentals.income_statement.revenue,      fundamentals.eod_derivative_indicator.pe_ratio\n",
    "        ).filter(\n",
    "            fundamentals.eod_derivative_indicator.pe_ratio < fundamentals.income_statement.revenue\n",
    "        ),entry_date='2015-04-01',interval='1y'\n",
    "    )\n",
    "stocks2=np.array(old_fundamental_df.minor_axis)\n",
    "len(stocks2)"
   ]
  },
  {
   "cell_type": "code",
   "execution_count": null,
   "metadata": {
    "collapsed": false
   },
   "outputs": [],
   "source": [
    "import math\n",
    "old_fundamental_df = get_fundamentals(\n",
    "        query(\n",
    "             fundamentals.eod_derivative_indicator.pb_ratio,     \n",
    "        ).filter(\n",
    "         fundamentals.eod_derivative_indicator.pb_ratio  >100\n",
    "        ),entry_date='2015-04-01',interval='1y'\n",
    "    )\n",
    "stocks2=np.array(old_fundamental_df.minor_axis)\n",
    "len(stocks2)"
   ]
  },
  {
   "cell_type": "markdown",
   "metadata": {},
   "source": [
    "### 实验证明，开个根号是不行的[微笑]，终于试出来了...."
   ]
  }
 ],
 "metadata": {
  "kernelspec": {
   "display_name": "Python 3",
   "language": "python",
   "name": "python3"
  },
  "language_info": {
   "codemirror_mode": {
    "name": "ipython",
    "version": 3
   },
   "file_extension": ".py",
   "mimetype": "text/x-python",
   "name": "python",
   "nbconvert_exporter": "python",
   "pygments_lexer": "ipython3",
   "version": "3.5.4"
  }
 },
 "nbformat": 4,
 "nbformat_minor": 1
}
