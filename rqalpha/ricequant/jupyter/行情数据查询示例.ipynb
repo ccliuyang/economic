{
 "cells": [
  {
   "cell_type": "markdown",
   "metadata": {},
   "source": [
    "在研究中玩转get_price()，很多时候我们在策略里都用的是history的API，但是history暂时不能在notebook中应用，但是其实我们依然可以get_price()拿到我们想要的数据。参考Python文档中的demo我们把例子实现一下。\n",
    "### 首先介绍一下get_price方法和今天我们要达到的目的：\n",
    "#### get_price()中的:\n",
    "   * 1.id_or_symbols 是一个str 或者str list，用于传入需要查询的股票或者股票集或者是基金等。<br/><br/>\n",
    "   \n",
    "   * 2.start_date 基本上所有的日期类型都可以，用于传入需要查询的起始日期<br/><br/>\n",
    "   \n",
    "   * 3.end_date 与start_date相同，默认是None,是查询的终止日期<br/><br/>\n",
    "   \n",
    "   * 4.frequency 是str类型，目前只支持日线和分钟线 （当然，拿到数据我们也可以通过处理得到我们想要的分钟线和月线周线等。<br/><br/>\n",
    "   \n",
    "   * 5.fields 是str或者是str list类型 ，用于返回字段，比如说你只要开盘价和收盘价，那么对应的在fields里面只需要填'ClosingPx'和'OpeningPx'\n",
    "   **详情你可以查看帮助里的PythonAPI里的get_price()中的fields对应的东西！https://www.ricequant.com/api/python/chn#data-methods-get_price**<br/><br/>\n",
    "   \n",
    "   * 6.adjust_type 是str类型，复权处理，前复权就是填'pre'，后复权就是'post',不复权用'None'，回测的时候用interval，就是回测用的数据和这个是一致的。<br/><br/>这里顺便科普一下复权处理，就是对股票进行股价和成交量进行权息修复，换句话说，原本你拥有1000股20块的股票，10送10之后就变成了10元，但是，你的股数变成了2000股，对于市值是不改变的。**向前复权，就是保持现在的价格不变，将以前的价格和成交量进行调整。向后复权，就是保持先前的价格不变，而将以后的价格和成交量进行调整。**<br/><br/>**前复权**=(复权前价格-现金红利)÷(1+流通股份变动比例) 可以消除在K线图上的影响，看起来更连贯。<br/><br/>**后复权**==复权前价格×(1+流通股份变动比例)+现金红利<br/><br/>**internal数据**与回测所使用数据保持一致，仅就拆分事件对价格以及成交量进行了前复权处理，并未考虑分红派息对于股价的影响。所以在分红前后，价格会出现跳跃。\n",
    "     \n",
    "     \n",
    "   \n",
    "   * 7.skip_suspended 是bool类型，是否需要跳过停牌数据，默认是False，但是可以是Ture，不过是能传入一个单个股票或者基金数据。<br/><br/>\n",
    "   \n",
    "   * 8.country 是str类型，目前只支持中国股票数据，默认'cn'<br/><br/>\n",
    "   \n",
    "### 注：一般情况下，我们在策略里面是不需要管6,7, 8三个选项的。当然现在我们会尝试不同的组合。\n",
    "\n",
    "#### 我们今天要达到的目的：\n",
    "    不过在这之前我们先搞清楚我们获得的数据类型是会根据传参而不一样的，这取决于我们传参的造成的维度是多少，\n",
    "    维度为1则是Series，维度为2就是DataFrame，维度为3就是DataPanel\n",
    "    比如说目的1里面，我们有股票ID和多个数据（收盘价开盘价等），和时间这两个维度，所以我们就是DataFrame，以此类推。\n",
    "    但是在目的4里面，我们只有收盘价，股票ID，和时间（就可以优化为使用Series来存储，与list相似）\n",
    "    在目的7里面我们比起目的1是把股票ID这个维度提高了1（本来是只查一只股票，现在查多了这么多只股票），所以就要变成DataPanel啦\n",
    "*   1.获取单只股票的历史日线级别的数据（返回的是一个pandas 的DataFrame）<br/><br/>\n",
    "*   2.获取单只股票的历史日线级别的数据（未经复权的处理，也就是adjust_type这个参数的设置）<br/><br/>\n",
    "*   3.获取单只股票的历史分钟级别的数据（返回的也是一个pandas的DataFrame）<br/><br/>\n",
    "*   4.获取单只股票的历史分钟级别的收盘价（返回的是pandas 的Series）<br/><br/>\n",
    "*   5.获取单一股票历史15分钟线行情（返回pandas DataFrame）<br/><br/>\n",
    "*   6.获取股票列表历史日线收盘价（返回pandas DataFrame）<br/><br/>\n",
    "*   7.获取股票列表历史日线行情（返回pandas DataPanel）<br/><br/>"
   ]
  },
  {
   "cell_type": "code",
   "execution_count": 16,
   "metadata": {
    "collapsed": false
   },
   "outputs": [
    {
     "data": {
      "text/html": [
       "<div>\n",
       "<table border=\"1\" class=\"dataframe\">\n",
       "  <thead>\n",
       "    <tr style=\"text-align: right;\">\n",
       "      <th></th>\n",
       "      <th>open</th>\n",
       "      <th>close</th>\n",
       "      <th>high</th>\n",
       "      <th>low</th>\n",
       "      <th>total_turnover</th>\n",
       "      <th>volume</th>\n",
       "      <th>limit_up</th>\n",
       "      <th>limit_down</th>\n",
       "    </tr>\n",
       "  </thead>\n",
       "  <tbody>\n",
       "    <tr>\n",
       "      <th>2015-04-01</th>\n",
       "      <td>10.5755</td>\n",
       "      <td>10.6690</td>\n",
       "      <td>10.7894</td>\n",
       "      <td>10.3950</td>\n",
       "      <td>2.608977e+09</td>\n",
       "      <td>236637563.0</td>\n",
       "      <td>11.5849</td>\n",
       "      <td>9.4791</td>\n",
       "    </tr>\n",
       "    <tr>\n",
       "      <th>2015-04-02</th>\n",
       "      <td>10.7559</td>\n",
       "      <td>10.5621</td>\n",
       "      <td>10.7894</td>\n",
       "      <td>10.4418</td>\n",
       "      <td>2.222671e+09</td>\n",
       "      <td>202440588.0</td>\n",
       "      <td>11.7386</td>\n",
       "      <td>9.5995</td>\n",
       "    </tr>\n",
       "    <tr>\n",
       "      <th>2015-04-03</th>\n",
       "      <td>10.4952</td>\n",
       "      <td>10.5955</td>\n",
       "      <td>10.6557</td>\n",
       "      <td>10.4351</td>\n",
       "      <td>2.262844e+09</td>\n",
       "      <td>206631550.0</td>\n",
       "      <td>11.6183</td>\n",
       "      <td>9.5059</td>\n",
       "    </tr>\n",
       "    <tr>\n",
       "      <th>2015-04-07</th>\n",
       "      <td>10.7961</td>\n",
       "      <td>11.2373</td>\n",
       "      <td>11.3375</td>\n",
       "      <td>10.7961</td>\n",
       "      <td>4.898119e+09</td>\n",
       "      <td>426308008.0</td>\n",
       "      <td>11.6584</td>\n",
       "      <td>9.5393</td>\n",
       "    </tr>\n",
       "    <tr>\n",
       "      <th>2015-04-08</th>\n",
       "      <td>11.3175</td>\n",
       "      <td>11.9793</td>\n",
       "      <td>12.0862</td>\n",
       "      <td>11.1303</td>\n",
       "      <td>5.784459e+09</td>\n",
       "      <td>485517069.0</td>\n",
       "      <td>12.3603</td>\n",
       "      <td>10.1142</td>\n",
       "    </tr>\n",
       "    <tr>\n",
       "      <th>2015-04-09</th>\n",
       "      <td>11.9993</td>\n",
       "      <td>12.0328</td>\n",
       "      <td>12.7347</td>\n",
       "      <td>11.8523</td>\n",
       "      <td>5.794632e+09</td>\n",
       "      <td>456921108.0</td>\n",
       "      <td>13.1759</td>\n",
       "      <td>10.7827</td>\n",
       "    </tr>\n",
       "    <tr>\n",
       "      <th>2015-04-10</th>\n",
       "      <td>12.0328</td>\n",
       "      <td>13.2360</td>\n",
       "      <td>13.2360</td>\n",
       "      <td>11.9325</td>\n",
       "      <td>6.339649e+09</td>\n",
       "      <td>480990210.0</td>\n",
       "      <td>13.2360</td>\n",
       "      <td>10.8295</td>\n",
       "    </tr>\n",
       "  </tbody>\n",
       "</table>\n",
       "</div>"
      ],
      "text/plain": [
       "               open    close     high      low  total_turnover       volume  \\\n",
       "2015-04-01  10.5755  10.6690  10.7894  10.3950    2.608977e+09  236637563.0   \n",
       "2015-04-02  10.7559  10.5621  10.7894  10.4418    2.222671e+09  202440588.0   \n",
       "2015-04-03  10.4952  10.5955  10.6557  10.4351    2.262844e+09  206631550.0   \n",
       "2015-04-07  10.7961  11.2373  11.3375  10.7961    4.898119e+09  426308008.0   \n",
       "2015-04-08  11.3175  11.9793  12.0862  11.1303    5.784459e+09  485517069.0   \n",
       "2015-04-09  11.9993  12.0328  12.7347  11.8523    5.794632e+09  456921108.0   \n",
       "2015-04-10  12.0328  13.2360  13.2360  11.9325    6.339649e+09  480990210.0   \n",
       "\n",
       "            limit_up  limit_down  \n",
       "2015-04-01   11.5849      9.4791  \n",
       "2015-04-02   11.7386      9.5995  \n",
       "2015-04-03   11.6183      9.5059  \n",
       "2015-04-07   11.6584      9.5393  \n",
       "2015-04-08   12.3603     10.1142  \n",
       "2015-04-09   13.1759     10.7827  \n",
       "2015-04-10   13.2360     10.8295  "
      ]
     },
     "execution_count": 16,
     "metadata": {},
     "output_type": "execute_result"
    }
   ],
   "source": [
    "#先开始我们的第一步啦.\n",
    "import pandas as pd\n",
    "import numpy as np\n",
    "a=get_price('000001.XSHE',start_date='2015-04-01',end_date='2015-04-12')\n",
    "a"
   ]
  },
  {
   "cell_type": "markdown",
   "metadata": {},
   "source": [
    "#### 这里我们可以到拿到的是000001.XSHE这只股票的数据，同时我们来查看一下类型"
   ]
  },
  {
   "cell_type": "markdown",
   "metadata": {},
   "source": [
    "#### 这里看到的是一个DataFrame，跟API里描述的一致\n",
    "#### 然后我们到第二个获取单只股票的日历史级别数据，不复权。"
   ]
  },
  {
   "cell_type": "code",
   "execution_count": 7,
   "metadata": {
    "collapsed": false
   },
   "outputs": [],
   "source": [
    "price=get_price('000001.XSHE',start_date='2015-04-01',end_date='2015-05-12',adjust_type='none')"
   ]
  },
  {
   "cell_type": "code",
   "execution_count": 12,
   "metadata": {
    "collapsed": false
   },
   "outputs": [
    {
     "data": {
      "text/plain": [
       "<matplotlib.axes._subplots.AxesSubplot at 0x7fc1feb09e48>"
      ]
     },
     "execution_count": 12,
     "metadata": {},
     "output_type": "execute_result"
    },
    {
     "data": {
      "image/png": "[encoded data removed]",
      "text/plain": [
       "<matplotlib.figure.Figure at 0x7fc1fead2668>"
      ]
     },
     "metadata": {},
     "output_type": "display_data"
    }
   ],
   "source": [
    "price.open.plot()"
   ]
  },
  {
   "cell_type": "markdown",
   "metadata": {},
   "source": [
    "### 这里我们和上面拿到的数据进行对比一下，就会发现价格不一样，也就是我们是成功做了不复权处理！\n",
    "### 然后在这里的传输时间我们也可以玩点花的，比如说，我不输入特别的日期，我直接传一个时间到end_date里。\n",
    "#### 同时提醒一下大家，无论在策略还是研究里，我们都必需传入start_date，但是在策略里我们可以不用传入end_date，默认会传入我们编译策略的时间。*"
   ]
  },
  {
   "cell_type": "code",
   "execution_count": 15,
   "metadata": {
    "collapsed": false,
    "scrolled": true
   },
   "outputs": [
    {
     "data": {
      "text/html": [
       "<div>\n",
       "<table border=\"1\" class=\"dataframe\">\n",
       "  <thead>\n",
       "    <tr style=\"text-align: right;\">\n",
       "      <th></th>\n",
       "      <th>open</th>\n",
       "      <th>close</th>\n",
       "      <th>high</th>\n",
       "      <th>low</th>\n",
       "      <th>total_turnover</th>\n",
       "      <th>volume</th>\n",
       "      <th>limit_up</th>\n",
       "      <th>limit_down</th>\n",
       "    </tr>\n",
       "  </thead>\n",
       "  <tbody>\n",
       "    <tr>\n",
       "      <th>2015-04-01</th>\n",
       "      <td>10.5755</td>\n",
       "      <td>10.6690</td>\n",
       "      <td>10.7894</td>\n",
       "      <td>10.3950</td>\n",
       "      <td>2.608977e+09</td>\n",
       "      <td>236637563.0</td>\n",
       "      <td>11.5849</td>\n",
       "      <td>9.4791</td>\n",
       "    </tr>\n",
       "    <tr>\n",
       "      <th>2015-04-02</th>\n",
       "      <td>10.7559</td>\n",
       "      <td>10.5621</td>\n",
       "      <td>10.7894</td>\n",
       "      <td>10.4418</td>\n",
       "      <td>2.222671e+09</td>\n",
       "      <td>202440588.0</td>\n",
       "      <td>11.7386</td>\n",
       "      <td>9.5995</td>\n",
       "    </tr>\n",
       "    <tr>\n",
       "      <th>2015-04-03</th>\n",
       "      <td>10.4952</td>\n",
       "      <td>10.5955</td>\n",
       "      <td>10.6557</td>\n",
       "      <td>10.4351</td>\n",
       "      <td>2.262844e+09</td>\n",
       "      <td>206631550.0</td>\n",
       "      <td>11.6183</td>\n",
       "      <td>9.5059</td>\n",
       "    </tr>\n",
       "    <tr>\n",
       "      <th>2015-04-07</th>\n",
       "      <td>10.7961</td>\n",
       "      <td>11.2373</td>\n",
       "      <td>11.3375</td>\n",
       "      <td>10.7961</td>\n",
       "      <td>4.898119e+09</td>\n",
       "      <td>426308008.0</td>\n",
       "      <td>11.6584</td>\n",
       "      <td>9.5393</td>\n",
       "    </tr>\n",
       "    <tr>\n",
       "      <th>2015-04-08</th>\n",
       "      <td>11.3175</td>\n",
       "      <td>11.9793</td>\n",
       "      <td>12.0862</td>\n",
       "      <td>11.1303</td>\n",
       "      <td>5.784459e+09</td>\n",
       "      <td>485517069.0</td>\n",
       "      <td>12.3603</td>\n",
       "      <td>10.1142</td>\n",
       "    </tr>\n",
       "  </tbody>\n",
       "</table>\n",
       "</div>"
      ],
      "text/plain": [
       "               open    close     high      low  total_turnover       volume  \\\n",
       "2015-04-01  10.5755  10.6690  10.7894  10.3950    2.608977e+09  236637563.0   \n",
       "2015-04-02  10.7559  10.5621  10.7894  10.4418    2.222671e+09  202440588.0   \n",
       "2015-04-03  10.4952  10.5955  10.6557  10.4351    2.262844e+09  206631550.0   \n",
       "2015-04-07  10.7961  11.2373  11.3375  10.7961    4.898119e+09  426308008.0   \n",
       "2015-04-08  11.3175  11.9793  12.0862  11.1303    5.784459e+09  485517069.0   \n",
       "\n",
       "            limit_up  limit_down  \n",
       "2015-04-01   11.5849      9.4791  \n",
       "2015-04-02   11.7386      9.5995  \n",
       "2015-04-03   11.6183      9.5059  \n",
       "2015-04-07   11.6584      9.5393  \n",
       "2015-04-08   12.3603     10.1142  "
      ]
     },
     "execution_count": 15,
     "metadata": {},
     "output_type": "execute_result"
    }
   ],
   "source": [
    "import datetime  #倒入一个datetime model\n",
    "get_price('000001.XSHE',start_date='2015-04-01',end_date=datetime.datetime.now()).head()  #datetime.now()是传入现在系统的时间"
   ]
  },
  {
   "cell_type": "markdown",
   "metadata": {},
   "source": [
    "#### 实验证明是可以传入自己设置参数的，那么在策略里就可以设定一个context.XX 来存储对于的时间段就不用每次都输日期了，虽然我们建议每次都输入日期，因为这样比较好查错。"
   ]
  },
  {
   "cell_type": "markdown",
   "metadata": {
    "collapsed": true
   },
   "source": [
    "### 3.获取单只股票的历史分钟级别的数据，其实就在frequency这个参数上改动一下就好了。"
   ]
  },
  {
   "cell_type": "code",
   "execution_count": 14,
   "metadata": {
    "collapsed": false
   },
   "outputs": [
    {
     "data": {
      "text/html": [
       "<div>\n",
       "<table border=\"1\" class=\"dataframe\">\n",
       "  <thead>\n",
       "    <tr style=\"text-align: right;\">\n",
       "      <th></th>\n",
       "      <th>open</th>\n",
       "      <th>close</th>\n",
       "      <th>high</th>\n",
       "      <th>low</th>\n",
       "      <th>total_turnover</th>\n",
       "      <th>volume</th>\n",
       "    </tr>\n",
       "  </thead>\n",
       "  <tbody>\n",
       "    <tr>\n",
       "      <th>2015-04-01 09:31:00</th>\n",
       "      <td>10.5755</td>\n",
       "      <td>10.5621</td>\n",
       "      <td>10.6289</td>\n",
       "      <td>10.5287</td>\n",
       "      <td>84546764.0</td>\n",
       "      <td>7696378.0</td>\n",
       "    </tr>\n",
       "    <tr>\n",
       "      <th>2015-04-01 09:32:00</th>\n",
       "      <td>10.5621</td>\n",
       "      <td>10.5353</td>\n",
       "      <td>10.5621</td>\n",
       "      <td>10.4952</td>\n",
       "      <td>26081650.0</td>\n",
       "      <td>2383718.0</td>\n",
       "    </tr>\n",
       "    <tr>\n",
       "      <th>2015-04-01 09:33:00</th>\n",
       "      <td>10.5287</td>\n",
       "      <td>10.5287</td>\n",
       "      <td>10.5621</td>\n",
       "      <td>10.5153</td>\n",
       "      <td>15960651.0</td>\n",
       "      <td>1459152.0</td>\n",
       "    </tr>\n",
       "    <tr>\n",
       "      <th>2015-04-01 09:34:00</th>\n",
       "      <td>10.5287</td>\n",
       "      <td>10.5353</td>\n",
       "      <td>10.5353</td>\n",
       "      <td>10.5153</td>\n",
       "      <td>16295954.0</td>\n",
       "      <td>1490682.0</td>\n",
       "    </tr>\n",
       "    <tr>\n",
       "      <th>2015-04-01 09:35:00</th>\n",
       "      <td>10.5353</td>\n",
       "      <td>10.5420</td>\n",
       "      <td>10.5621</td>\n",
       "      <td>10.5220</td>\n",
       "      <td>20608569.0</td>\n",
       "      <td>1882513.0</td>\n",
       "    </tr>\n",
       "  </tbody>\n",
       "</table>\n",
       "</div>"
      ],
      "text/plain": [
       "                        open    close     high      low  total_turnover  \\\n",
       "2015-04-01 09:31:00  10.5755  10.5621  10.6289  10.5287      84546764.0   \n",
       "2015-04-01 09:32:00  10.5621  10.5353  10.5621  10.4952      26081650.0   \n",
       "2015-04-01 09:33:00  10.5287  10.5287  10.5621  10.5153      15960651.0   \n",
       "2015-04-01 09:34:00  10.5287  10.5353  10.5353  10.5153      16295954.0   \n",
       "2015-04-01 09:35:00  10.5353  10.5420  10.5621  10.5220      20608569.0   \n",
       "\n",
       "                        volume  \n",
       "2015-04-01 09:31:00  7696378.0  \n",
       "2015-04-01 09:32:00  2383718.0  \n",
       "2015-04-01 09:33:00  1459152.0  \n",
       "2015-04-01 09:34:00  1490682.0  \n",
       "2015-04-01 09:35:00  1882513.0  "
      ]
     },
     "execution_count": 14,
     "metadata": {},
     "output_type": "execute_result"
    }
   ],
   "source": [
    "get_price('000001.XSHE', start_date='2015-04-01', end_date='2015-04-12', frequency='1m').head()"
   ]
  },
  {
   "cell_type": "markdown",
   "metadata": {},
   "source": [
    "#### 分钟级别的数据就是这样了，那么我们其实可以通过数据，来画个小图，比如说15分钟的收盘价的图。"
   ]
  },
  {
   "cell_type": "code",
   "execution_count": 18,
   "metadata": {
    "collapsed": false
   },
   "outputs": [
    {
     "data": {
      "text/plain": [
       "<matplotlib.axes._subplots.AxesSubplot at 0x7fc1fea5e588>"
      ]
     },
     "execution_count": 18,
     "metadata": {},
     "output_type": "execute_result"
    },
    {
     "data": {
      "image/png": "[encoded data removed]",
      "text/plain": [
       "<matplotlib.figure.Figure at 0x7fc1fea28ac8>"
      ]
     },
     "metadata": {},
     "output_type": "display_data"
    }
   ],
   "source": [
    "d=get_price('000001.XSHE', start_date='2015-04-01', end_date='2015-04-12',fields='close',frequency='15m')\n",
    "d.plot(x_compat=True,figsize=(18,5))"
   ]
  },
  {
   "cell_type": "markdown",
   "metadata": {},
   "source": [
    "#### 这里其实运用分钟级别的数据可以去切片我们自己需要的数据，DataFrame的具体操作可以参考10分钟学会Pandas\n",
    "https://www.ricequant.com/community/topic/1078/"
   ]
  },
  {
   "cell_type": "markdown",
   "metadata": {},
   "source": [
    "#### 最后我们来获取一下多只股票的数据"
   ]
  },
  {
   "cell_type": "code",
   "execution_count": 29,
   "metadata": {
    "collapsed": false
   },
   "outputs": [
    {
     "data": {
      "text/plain": [
       "<class 'rqcommons.pandas_patch.HybridDataPanel'>\n",
       "Dimensions: 2 (items) x 15 (major_axis) x 3 (minor_axis)\n",
       "Items axis: close to open\n",
       "Major_axis axis: 2015-04-01 00:00:00 to 2015-04-22 00:00:00\n",
       "Minor_axis axis: 000024.XSHE to 000002.XSHE"
      ]
     },
     "execution_count": 29,
     "metadata": {},
     "output_type": "execute_result"
    }
   ],
   "source": [
    "stocks=['000024.XSHE', '000001.XSHE', '000002.XSHE']\n",
    "panel=get_price(stocks,start_date='2015-04-01',end_date='2015-04-22',fields=['close','open'])\n",
    "panel"
   ]
  },
  {
   "cell_type": "markdown",
   "metadata": {},
   "source": [
    "#### 是的，这里我们又遇到了DataPanel这个复杂的东西，这样显示给我，我什么都看不到啊....那么我们拿到了这个数据要怎么查看我们想要的数据呢？\n",
    "#### 这里我们看到是有Major_axis:是时间 Minor_axis 是股票 ，而Items则是收盘价和开盘价， df.minor_xs('某股票') df.Major_xs('某时间')都可以帮助我们查看Items"
   ]
  },
  {
   "cell_type": "code",
   "execution_count": 22,
   "metadata": {
    "collapsed": false
   },
   "outputs": [
    {
     "data": {
      "text/plain": [
       "Index(['close', 'open'], dtype='object')"
      ]
     },
     "execution_count": 22,
     "metadata": {},
     "output_type": "execute_result"
    }
   ],
   "source": [
    "panel.items"
   ]
  },
  {
   "cell_type": "code",
   "execution_count": 24,
   "metadata": {
    "collapsed": false
   },
   "outputs": [
    {
     "data": {
      "text/plain": [
       "Index(['000024.XSHE', '000001.XSHE', '000002.XSHE'], dtype='object')"
      ]
     },
     "execution_count": 24,
     "metadata": {},
     "output_type": "execute_result"
    }
   ],
   "source": [
    "panel.minor_axis"
   ]
  },
  {
   "cell_type": "code",
   "execution_count": 25,
   "metadata": {
    "collapsed": false
   },
   "outputs": [
    {
     "data": {
      "text/plain": [
       "DatetimeIndex(['2015-04-01', '2015-04-02', '2015-04-03', '2015-04-07',\n",
       "               '2015-04-08', '2015-04-09', '2015-04-10', '2015-04-13',\n",
       "               '2015-04-14', '2015-04-15', '2015-04-16', '2015-04-17',\n",
       "               '2015-04-20', '2015-04-21', '2015-04-22'],\n",
       "              dtype='datetime64[ns]', freq=None)"
      ]
     },
     "execution_count": 25,
     "metadata": {},
     "output_type": "execute_result"
    }
   ],
   "source": [
    "panel.major_axis"
   ]
  },
  {
   "cell_type": "code",
   "execution_count": 26,
   "metadata": {
    "collapsed": false
   },
   "outputs": [
    {
     "data": {
      "text/html": [
       "<div>\n",
       "<table border=\"1\" class=\"dataframe\">\n",
       "  <thead>\n",
       "    <tr style=\"text-align: right;\">\n",
       "      <th></th>\n",
       "      <th>close</th>\n",
       "      <th>open</th>\n",
       "    </tr>\n",
       "  </thead>\n",
       "  <tbody>\n",
       "    <tr>\n",
       "      <th>2015-04-01</th>\n",
       "      <td>32.1251</td>\n",
       "      <td>32.6102</td>\n",
       "    </tr>\n",
       "    <tr>\n",
       "      <th>2015-04-02</th>\n",
       "      <td>31.6400</td>\n",
       "      <td>32.1251</td>\n",
       "    </tr>\n",
       "    <tr>\n",
       "      <th>2015-04-03</th>\n",
       "      <td>31.6400</td>\n",
       "      <td>31.6400</td>\n",
       "    </tr>\n",
       "    <tr>\n",
       "      <th>2015-04-07</th>\n",
       "      <td>31.6400</td>\n",
       "      <td>31.6400</td>\n",
       "    </tr>\n",
       "    <tr>\n",
       "      <th>2015-04-08</th>\n",
       "      <td>31.6400</td>\n",
       "      <td>31.6400</td>\n",
       "    </tr>\n",
       "  </tbody>\n",
       "</table>\n",
       "</div>"
      ],
      "text/plain": [
       "              close     open\n",
       "2015-04-01  32.1251  32.6102\n",
       "2015-04-02  31.6400  32.1251\n",
       "2015-04-03  31.6400  31.6400\n",
       "2015-04-07  31.6400  31.6400\n",
       "2015-04-08  31.6400  31.6400"
      ]
     },
     "execution_count": 26,
     "metadata": {},
     "output_type": "execute_result"
    }
   ],
   "source": [
    "panel.minor_xs('000024.XSHE').head()"
   ]
  },
  {
   "cell_type": "markdown",
   "metadata": {},
   "source": [
    "#### 如果只想要收盘价的话还可以在后面加上['ClosingPx']"
   ]
  },
  {
   "cell_type": "code",
   "execution_count": 27,
   "metadata": {
    "collapsed": false
   },
   "outputs": [
    {
     "data": {
      "text/plain": [
       "2015-04-01    32.1251\n",
       "2015-04-02    31.6400\n",
       "2015-04-03    31.6400\n",
       "2015-04-07    31.6400\n",
       "2015-04-08    31.6400\n",
       "2015-04-09    31.6400\n",
       "2015-04-10    31.6400\n",
       "2015-04-13    31.6400\n",
       "2015-04-14    31.6400\n",
       "2015-04-15    31.6400\n",
       "2015-04-16    31.6400\n",
       "2015-04-17    31.6400\n",
       "2015-04-20    31.6400\n",
       "2015-04-21    31.6400\n",
       "2015-04-22    31.6400\n",
       "Name: close, dtype: float64"
      ]
     },
     "execution_count": 27,
     "metadata": {},
     "output_type": "execute_result"
    }
   ],
   "source": [
    "panel.minor_xs('000024.XSHE')['close']"
   ]
  },
  {
   "cell_type": "markdown",
   "metadata": {},
   "source": [
    "#### 同理，我们要获取时间为索引的话，那就是panel.major_xs()"
   ]
  },
  {
   "cell_type": "code",
   "execution_count": 28,
   "metadata": {
    "collapsed": false
   },
   "outputs": [
    {
     "data": {
      "text/html": [
       "<div>\n",
       "<table border=\"1\" class=\"dataframe\">\n",
       "  <thead>\n",
       "    <tr style=\"text-align: right;\">\n",
       "      <th></th>\n",
       "      <th>close</th>\n",
       "      <th>open</th>\n",
       "    </tr>\n",
       "  </thead>\n",
       "  <tbody>\n",
       "    <tr>\n",
       "      <th>000024.XSHE</th>\n",
       "      <td>32.1251</td>\n",
       "      <td>32.6102</td>\n",
       "    </tr>\n",
       "    <tr>\n",
       "      <th>000001.XSHE</th>\n",
       "      <td>10.6690</td>\n",
       "      <td>10.5755</td>\n",
       "    </tr>\n",
       "    <tr>\n",
       "      <th>000002.XSHE</th>\n",
       "      <td>12.3206</td>\n",
       "      <td>12.3296</td>\n",
       "    </tr>\n",
       "  </tbody>\n",
       "</table>\n",
       "</div>"
      ],
      "text/plain": [
       "               close     open\n",
       "000024.XSHE  32.1251  32.6102\n",
       "000001.XSHE  10.6690  10.5755\n",
       "000002.XSHE  12.3206  12.3296"
      ]
     },
     "execution_count": 28,
     "metadata": {},
     "output_type": "execute_result"
    }
   ],
   "source": [
    "panel.major_xs('2015-04-01')"
   ]
  },
  {
   "cell_type": "markdown",
   "metadata": {},
   "source": [
    "#### 这里注意我们传入时间要把后面的时间也输入进去的，因为存的时候是整个时间作为索引的，如果发现key值不对，那么我们可以直接查看一下整个时间的key值 panel.major_axis"
   ]
  },
  {
   "cell_type": "code",
   "execution_count": 38,
   "metadata": {
    "collapsed": false
   },
   "outputs": [
    {
     "data": {
      "text/plain": [
       "DatetimeIndex(['2015-04-01', '2015-04-02', '2015-04-03', '2015-04-07',\n",
       "               '2015-04-08', '2015-04-09', '2015-04-10'],\n",
       "              dtype='datetime64[ns]', freq=None)"
      ]
     },
     "execution_count": 38,
     "metadata": {},
     "output_type": "execute_result"
    }
   ],
   "source": [
    "panel.major_axis"
   ]
  },
  {
   "cell_type": "code",
   "execution_count": 30,
   "metadata": {
    "collapsed": false
   },
   "outputs": [
    {
     "data": {
      "text/plain": [
       "Timestamp('2015-04-01 00:00:00')"
      ]
     },
     "execution_count": 30,
     "metadata": {},
     "output_type": "execute_result"
    }
   ],
   "source": [
    "panel.major_axis[0]"
   ]
  },
  {
   "cell_type": "markdown",
   "metadata": {},
   "source": [
    "#### 这里我们看到传入的是一个Timestamp，所以我们是一定要把时间输全的！！！这个地方我们如果要用到分钟级别的数据就一定会有后面的时间，所以，大家见谅吧~"
   ]
  },
  {
   "cell_type": "markdown",
   "metadata": {},
   "source": [
    "#### 到这里我们基本就把get_price的基本用法搞清楚了，是时候来一点走心的操作了，那就是我们通过get_fundamentals选取出来股票，然后再传入get_price()获取我们需要的数据。顺便植入一个硬广，那就是我写的另外一个get_fundamentals()的用法啦~https://www.ricequant.com/community/topic/2033/\n"
   ]
  },
  {
   "cell_type": "code",
   "execution_count": 47,
   "metadata": {
    "collapsed": false
   },
   "outputs": [
    {
     "data": {
      "text/plain": [
       "array(['600704.XSHG', '601808.XSHG', '601727.XSHG', '600998.XSHG',\n",
       "       '600875.XSHG', '000626.XSHE', '601866.XSHG', '600297.XSHG',\n",
       "       '600011.XSHG'], dtype=object)"
      ]
     },
     "execution_count": 47,
     "metadata": {},
     "output_type": "execute_result"
    }
   ],
   "source": [
    "fundamental_df = get_fundamentals(\n",
    "        query(\n",
    "            fundamentals.income_statement.revenue, fundamentals.eod_derivative_indicator.pe_ratio\n",
    "        ).filter(\n",
    "            fundamentals.eod_derivative_indicator.pe_ratio > 55\n",
    "        ).filter(\n",
    "            fundamentals.eod_derivative_indicator.pe_ratio < 60\n",
    "        ).order_by(\n",
    "            fundamentals.income_statement.revenue.desc()\n",
    "        ).limit(\n",
    "            10\n",
    "        ),entry_date='2016-04-01',interval='5y'  #策略里填写如果只需要股票池，那么entry_date和interval是不需要填写的，但是notebook中是要的\n",
    "    )\n",
    "\n",
    "stocks = np.array(fundamental_df.minor_axis)\n",
    "stocks"
   ]
  },
  {
   "cell_type": "code",
   "execution_count": 32,
   "metadata": {
    "collapsed": false
   },
   "outputs": [
    {
     "data": {
      "text/plain": [
       "<class 'rqcommons.pandas_patch.HybridDataPanel'>\n",
       "Dimensions: 8 (items) x 7 (major_axis) x 3 (minor_axis)\n",
       "Items axis: open to limit_down\n",
       "Major_axis axis: 2015-05-04 00:00:00 to 2015-05-12 00:00:00\n",
       "Minor_axis axis: 000024.XSHE to 000002.XSHE"
      ]
     },
     "execution_count": 32,
     "metadata": {},
     "output_type": "execute_result"
    }
   ],
   "source": [
    "get_price(stocks,start_date='2015-05-02',end_date='2015-05-12')"
   ]
  }
 ],
 "metadata": {
  "kernelspec": {
   "display_name": "Python 3",
   "language": "python",
   "name": "python3"
  },
  "language_info": {
   "codemirror_mode": {
    "name": "ipython",
    "version": 3
   },
   "file_extension": ".py",
   "mimetype": "text/x-python",
   "name": "python",
   "nbconvert_exporter": "python",
   "pygments_lexer": "ipython3",
   "version": "3.5.4"
  }
 },
 "nbformat": 4,
 "nbformat_minor": 1
}
