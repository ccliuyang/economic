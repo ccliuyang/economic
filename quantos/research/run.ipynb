{
 "cells": [
  {
   "cell_type": "code",
   "execution_count": 2,
   "metadata": {},
   "outputs": [
    {
     "name": "stdout",
     "output_type": "stream",
     "text": [
      "\n",
      "Begin: DataApi login 15566028568@tcp://data.quantos.org:8910\n",
      "    login success \n",
      "\n",
      "Initialize config success.\n",
      "Query data...\n",
      "Query data - query...\n",
      "NOTE: price adjust method is [post adjust]\n",
      "249\n",
      "249\n",
      "Query data - daily fields prepared.\n",
      "Query instrument info...\n",
      "Query adj_factor...\n",
      "Query benchmark...\n",
      "Query benchmar member info...\n",
      "Data has been successfully prepared.\n"
     ]
    },
    {
     "name": "stderr",
     "output_type": "stream",
     "text": [
      "F:\\app\\QuantosFinanceTerminal\\python\\lib\\site-packages\\jaqs\\data\\py_expression_eval.py:477: RuntimeWarning: invalid value encountered in greater\n",
      "  res = arr > brr\n"
     ]
    },
    {
     "name": "stdout",
     "output_type": "stream",
     "text": [
      "\n",
      "Store data...\n",
      "Dataview has been successfully saved to:\n",
      "C:\\Users\\omf\\AppData\\Roaming\\QuantosFinanceTerminal\\workspace\\__lectures\\output\\prepared\\test_signal\n",
      "\n",
      "You can load it with load_dataview('C:\\Users\\omf\\AppData\\Roaming\\QuantosFinanceTerminal\\workspace\\__lectures\\output\\prepared\\test_signal')\n",
      "Dataview loaded successfully.\n",
      "Nan Data Count (should be zero) : 0;  Percentage of effective data: 93%\n",
      "Nan Data Count (should be zero) : 0;  Percentage of effective data: 83%\n",
      "Nan Data Count (should be zero) : 0;  Percentage of effective data: 69%\n",
      "Nan Data Count (should be zero) : 0;  Percentage of effective data: 41%\n",
      "\n",
      "       Calendar Distribution    (85 occurance from 2016-01-04 to 2017-09-29):\n"
     ]
    },
    {
     "name": "stderr",
     "output_type": "stream",
     "text": [
      "F:\\app\\QuantosFinanceTerminal\\python\\lib\\site-packages\\scipy\\stats\\stats.py:1706: FutureWarning: Using a non-tuple sequence for multidimensional indexing is deprecated; use `arr[tuple(seq)]` instead of `arr[seq]`. In the future this will be interpreted as an array index, `arr[np.array(seq)]`, which will result either in an error or a different result.\n",
      "  return np.add.reduce(sorted[indexer] * weights, axis=axis) / sumval\n"
     ]
    },
    {
     "name": "stdout",
     "output_type": "stream",
     "text": [
      "Figure saved: C:\\Users\\omf\\AppData\\Roaming\\QuantosFinanceTerminal\\workspace\\__lectures\\output\\event_report.pdf\n"
     ]
    }
   ],
   "source": [
    "%run event_analysis.py"
   ]
  }
 ],
 "metadata": {
  "kernelspec": {
   "display_name": "Python 3",
   "language": "python",
   "name": "python3"
  },
  "language_info": {
   "codemirror_mode": {
    "name": "ipython",
    "version": 3
   },
   "file_extension": ".py",
   "mimetype": "text/x-python",
   "name": "python",
   "nbconvert_exporter": "python",
   "pygments_lexer": "ipython3",
   "version": "3.6.3"
  }
 },
 "nbformat": 4,
 "nbformat_minor": 2
}
